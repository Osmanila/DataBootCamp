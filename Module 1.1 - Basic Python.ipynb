{
 "cells": [
  {
   "cell_type": "markdown",
   "metadata": {},
   "source": [
    "# Module 1.1 - Basic Python\n",
    "\n",
    "Python is an beginner-friendly programming language that is used in many areas of technology such as software engineering, web development, and data science. Because it is an object-oriented language, it allows multiple people to work on the same project in several pieces, then add them together. \n",
    "\n",
    "Although Python has a lot of flexibility built into the language, the most important thing to remember is that it is **case-sensitive**. To Python, lowercase letters are distinct from their uppercase counterparts, and also be cautious of hidden whitespaces (which also count as characters)."
   ]
  },
  {
   "cell_type": "markdown",
   "metadata": {},
   "source": [
    "## Setting values to variables"
   ]
  },
  {
   "cell_type": "markdown",
   "metadata": {},
   "source": [
    "The value types that we will be using in this course are mainly int, float, and string values.\n",
    "\n",
    "- An int value is an integer (whole numbers)\n",
    "- A float value is a decimal number\n",
    "- A string value is alpha-numeric characters that cannot be mathematically computed\n",
    "    * must be enclosed in single or double quotes\n",
    "    * whitespaces also count as a string character\n",
    "\n",
    "A variable is similar to an alias; it is a way to store a value with an easy to remember name to reference every time it is used. To assign a value to a variable, first type the variable name, a single equal sign (called \"assignment operator\"), then the value. In Python, variables have these guidelines:\n",
    "\n",
    "- Can only contain letters, numbers, and underscores\n",
    "- Cannot start with a number\n",
    "- Cannot have spaces (but underscores can be used in lieu of spaces)\n",
    "- Should not use Python reserved keywords or function names\n",
    "- Should be short but descriptive\n",
    "- Use caution to not confuse lowercase letter l and uppercase letter O with numbers 1 and 0\n",
    "\n",
    "**The pound/hashtag (#) sign is for comments, which is not read by Python as code.**"
   ]
  },
  {
   "cell_type": "code",
   "execution_count": 9,
   "metadata": {
    "jupyter": {
     "outputs_hidden": true
    }
   },
   "outputs": [],
   "source": [
    "x = 5             # int\n",
    "y = 7.23          # float\n",
    "z = \"Hello world!\" # string"
   ]
  },
  {
   "cell_type": "markdown",
   "metadata": {},
   "source": [
    "## Output and using variables together\n",
    "\n",
    "The `print` function shows the output of the values stored in variables."
   ]
  },
  {
   "cell_type": "code",
   "execution_count": 14,
   "metadata": {
    "jupyter": {
     "outputs_hidden": true
    }
   },
   "outputs": [
    {
     "name": "stdout",
     "output_type": "stream",
     "text": [
      "5\n",
      "7.23\n",
      "Hello world!\n"
     ]
    }
   ],
   "source": [
    "print(x)\n",
    "print(y)\n",
    "print(z)"
   ]
  },
  {
   "cell_type": "markdown",
   "metadata": {},
   "source": [
    "When the variable name is used by itself, Jupyter notebook will also display what is stored in the variable. However, unlike the `print` function, using multiple variable names on separate lines will only show the last item that was \"asked for\"."
   ]
  },
  {
   "cell_type": "code",
   "execution_count": 12,
   "metadata": {
    "jupyter": {
     "outputs_hidden": true
    },
    "scrolled": true
   },
   "outputs": [
    {
     "data": {
      "text/plain": [
       "'Hello world!'"
      ]
     },
     "execution_count": 12,
     "metadata": {},
     "output_type": "execute_result"
    }
   ],
   "source": [
    "y # this will not display\n",
    "z # this will display b/c it's the last"
   ]
  },
  {
   "cell_type": "code",
   "execution_count": 1,
   "metadata": {},
   "outputs": [
    {
     "name": "stdout",
     "output_type": "stream",
     "text": [
      "24\n"
     ]
    }
   ],
   "source": [
    "print(24)"
   ]
  },
  {
   "cell_type": "markdown",
   "metadata": {},
   "source": [
    "The `type` function will show the data type of the value that is stored in the variable. This is useful for checking if a value can be used with functions that only work on specific data types."
   ]
  },
  {
   "cell_type": "code",
   "execution_count": 22,
   "metadata": {
    "jupyter": {
     "outputs_hidden": true
    }
   },
   "outputs": [
    {
     "data": {
      "text/plain": [
       "int"
      ]
     },
     "execution_count": 22,
     "metadata": {},
     "output_type": "execute_result"
    }
   ],
   "source": [
    "# the \"type\" function will tell you what data type a variable is\n",
    "type(x)"
   ]
  },
  {
   "cell_type": "markdown",
   "metadata": {},
   "source": [
    "Because variables hold values, they can be used together in order to create a new value. The result of the new value can also be put into its own variable for later use."
   ]
  },
  {
   "cell_type": "code",
   "execution_count": 23,
   "metadata": {
    "jupyter": {
     "outputs_hidden": true
    }
   },
   "outputs": [
    {
     "name": "stdout",
     "output_type": "stream",
     "text": [
      "12.23\n"
     ]
    }
   ],
   "source": [
    "# variables x and y both have numbers\n",
    "# this allows them to be added together\n",
    "# then store result into a new variable \"a\"\n",
    "a = x + y\n",
    "print(a)"
   ]
  },
  {
   "cell_type": "code",
   "execution_count": 42,
   "metadata": {},
   "outputs": [
    {
     "name": "stdout",
     "output_type": "stream",
     "text": [
      "Hello world\n"
     ]
    }
   ],
   "source": [
    "# also works for strings\n",
    "# adding/connecting strings is called \"concatenation\"\n",
    "# result does not include a whitespace because it was not added in the string concatenation\n",
    "r = \"Hello\"\n",
    "s = 'world'\n",
    "print(r +\" \"+ s)"
   ]
  },
  {
   "cell_type": "markdown",
   "metadata": {},
   "source": [
    "## If Statement\n",
    "\n",
    "An `if` statement will check to find out if a condition is true. If the condition is true, then there can be code to do something. An `else` statement can also be added to run some other task when the condition is false. \n",
    "\n",
    "- Condition checks\n",
    "    * `==` : equal to (for strings, it looks for a match)\n",
    "    * `<` : less than\n",
    "    * `>` : greater than\n",
    "    * `<=` : less than or equal to\n",
    "    * `>=` : greater than or equal to\n",
    "    * `!=` : not equal to (for strings, it looks for something that does not match)\n",
    "- Python will auto-indent starting from the first line after the colon within the if statement\n",
    "- Indentation signifies the code that belongs to the `if` or `else` statements"
   ]
  },
  {
   "cell_type": "code",
   "execution_count": 33,
   "metadata": {
    "jupyter": {
     "outputs_hidden": true
    },
    "scrolled": true
   },
   "outputs": [
    {
     "name": "stdout",
     "output_type": "stream",
     "text": [
      "It is five.\n"
     ]
    }
   ],
   "source": [
    "# check to see if the value in the variable x is 5\n",
    "if x == 5: \n",
    "    print(\"It is five.\")\n",
    "else:\n",
    "    print(\"It is not five.\")"
   ]
  },
  {
   "cell_type": "markdown",
   "metadata": {},
   "source": [
    "## Lists and For loops\n",
    "\n",
    "A list is a container type that uses square brackets and holds multiple values that is stored in one variable name. Each item in the list is separated by a comma and has a position number called an \"index\". In Python, index position counting starts from 0 so the first item is always index position 0, the second item would be index position 1, and so on.\n",
    "\n",
    "To get a specific value from a list, use the variable name followed by square brackets with the index position number inside."
   ]
  },
  {
   "cell_type": "code",
   "execution_count": 43,
   "metadata": {
    "jupyter": {
     "outputs_hidden": true
    }
   },
   "outputs": [],
   "source": [
    "# this is a list with 3 items\n",
    "# position indices are 0 (red), 1 (yellow), and 2 (blue)\n",
    "colors = ['red', 'yellow', 'blue']"
   ]
  },
  {
   "cell_type": "code",
   "execution_count": 44,
   "metadata": {},
   "outputs": [
    {
     "data": {
      "text/plain": [
       "'yellow'"
      ]
     },
     "execution_count": 44,
     "metadata": {},
     "output_type": "execute_result"
    }
   ],
   "source": [
    "# get the value stored in index position 1\n",
    "# to view an item from the list: varname[#]\n",
    "\n",
    "colors[1]"
   ]
  },
  {
   "cell_type": "markdown",
   "metadata": {},
   "source": [
    "The `len` function shows the number of items (length) of a list. However, this function also works on other data types with items that can be counted."
   ]
  },
  {
   "cell_type": "code",
   "execution_count": 47,
   "metadata": {
    "jupyter": {
     "outputs_hidden": true
    }
   },
   "outputs": [
    {
     "name": "stdout",
     "output_type": "stream",
     "text": [
      "3\n"
     ]
    }
   ],
   "source": [
    "print(len(colors))"
   ]
  },
  {
   "cell_type": "code",
   "execution_count": 48,
   "metadata": {},
   "outputs": [
    {
     "name": "stdout",
     "output_type": "stream",
     "text": [
      "12\n"
     ]
    }
   ],
   "source": [
    "print(len(z)) #also works on counting characters (including spaces and punctuation) in a string"
   ]
  },
  {
   "cell_type": "markdown",
   "metadata": {},
   "source": [
    "List slicing is used to view a portion of a larger list and can also be saved to another variable name. To create a list slice, type the variable name, then a square bracket. Inside the square bracket, type the starting index position for the list, a colon, then the NON-INCLUSIVE index position of where the list slice should stop at."
   ]
  },
  {
   "cell_type": "code",
   "execution_count": 45,
   "metadata": {
    "jupyter": {
     "outputs_hidden": true
    },
    "scrolled": true
   },
   "outputs": [],
   "source": [
    "#this list has 7 items\n",
    "#position index starts at 0 and ends at 6\n",
    "days = ['Sunday', 'Monday', 'Tuesday', 'Wednesday', 'Thursday', 'Friday', 'Saturday']"
   ]
  },
  {
   "cell_type": "code",
   "execution_count": 70,
   "metadata": {},
   "outputs": [
    {
     "name": "stdout",
     "output_type": "stream",
     "text": [
      "['Monday', 'Tuesday', 'Wednesday', 'Thursday', 'Friday', 'Saturday']\n"
     ]
    }
   ],
   "source": [
    "# save the list slice of the values Monday through Friday to a variable called \"weekdays\"\n",
    "# to slice the list: varname[start : end] \n",
    "\n",
    "weekdays = days[1:7]\n",
    "\n",
    "print(weekdays)"
   ]
  },
  {
   "cell_type": "code",
   "execution_count": 69,
   "metadata": {},
   "outputs": [
    {
     "name": "stdout",
     "output_type": "stream",
     "text": [
      "Sunday\n"
     ]
    }
   ],
   "source": [
    "weekends = days[0]\n",
    "\n",
    "print(weekends)\n"
   ]
  },
  {
   "cell_type": "markdown",
   "metadata": {},
   "source": [
    "A `for` loop is used to automatically get each item from a container and then do the same task to each of those items (called \"iteration\"). Similar to `if` statements, `for` loop statement also ends with a colon on the first line and has auto-indentation for all the code that will be executed on each item. Any code that does not belong to the loop should be unindented."
   ]
  },
  {
   "cell_type": "code",
   "execution_count": 49,
   "metadata": {
    "jupyter": {
     "outputs_hidden": true
    }
   },
   "outputs": [
    {
     "name": "stdout",
     "output_type": "stream",
     "text": [
      "red\n",
      "yellow\n",
      "blue\n"
     ]
    }
   ],
   "source": [
    "# iterating through a list\n",
    "for color in colors:\n",
    "    print(color)"
   ]
  },
  {
   "cell_type": "markdown",
   "metadata": {},
   "source": [
    "## Dictionaries\n",
    "\n",
    "Similar to lists, dictionaries are also a container type that can store multiple values assigned to a single variable name. Dictionaries are denoted by curly braces and each item in a dictionary is separated by a comma. But unlike lists (which use index positions to get values), each item is a key and value pair, separated by a colon. Python dictionaries work like a physical dictionary; when you look up a word (which is the key), then you get the definition (value). To get a value, type the variable name of the dictionary, then the name of the key inside of square brackets."
   ]
  },
  {
   "cell_type": "code",
   "execution_count": 3,
   "metadata": {
    "jupyter": {
     "outputs_hidden": true
    }
   },
   "outputs": [],
   "source": [
    "# dictionary of pet names and what kind of animal they are\n",
    "# each item is key:value\n",
    "\n",
    "pets = {'Goku': 'dog',\n",
    "        'Mika': 'dog',\n",
    "        'Brunson': 'cat',\n",
    "        'Lucas': 'cat',\n",
    "        'Genki': 'fish'}"
   ]
  },
  {
   "cell_type": "code",
   "execution_count": 73,
   "metadata": {},
   "outputs": [
    {
     "name": "stdout",
     "output_type": "stream",
     "text": [
      "{'Goku': 'dog', 'Mika': 'dog', 'Brunson': 'cat', 'Lucas': 'cat', 'Genki': 'fish'}\n"
     ]
    }
   ],
   "source": [
    "print(pets)"
   ]
  },
  {
   "cell_type": "code",
   "execution_count": 92,
   "metadata": {},
   "outputs": [
    {
     "name": "stdout",
     "output_type": "stream",
     "text": [
      "dog\n"
     ]
    }
   ],
   "source": [
    "# to see what kind of pet Mika is, look up the key \"Mika\" for the dictionary \"pets\"\n",
    "# to get the value: varname[key]\n",
    "\n",
    "print(pets['Mika'])"
   ]
  },
  {
   "cell_type": "code",
   "execution_count": 90,
   "metadata": {},
   "outputs": [
    {
     "name": "stdout",
     "output_type": "stream",
     "text": [
      "12.23\n"
     ]
    }
   ],
   "source": [
    "pets[\"Mika\"] = a;"
   ]
  },
  {
   "cell_type": "code",
   "execution_count": 88,
   "metadata": {},
   "outputs": [
    {
     "ename": "TypeError",
     "evalue": "'dict' object is not callable",
     "output_type": "error",
     "traceback": [
      "\u001b[1;31m---------------------------------------------------------------------------\u001b[0m",
      "\u001b[1;31mTypeError\u001b[0m                                 Traceback (most recent call last)",
      "\u001b[1;32m<ipython-input-88-45e086d42ed1>\u001b[0m in \u001b[0;36m<module>\u001b[1;34m\u001b[0m\n\u001b[1;32m----> 1\u001b[1;33m \u001b[0mprint\u001b[0m\u001b[1;33m(\u001b[0m\u001b[0mpets\u001b[0m\u001b[1;33m(\u001b[0m\u001b[0mA\u001b[0m\u001b[1;33m)\u001b[0m\u001b[1;33m)\u001b[0m\u001b[1;33m\u001b[0m\u001b[1;33m\u001b[0m\u001b[0m\n\u001b[0m",
      "\u001b[1;31mTypeError\u001b[0m: 'dict' object is not callable"
     ]
    }
   ],
   "source": [
    "print(pets(A))"
   ]
  },
  {
   "cell_type": "code",
   "execution_count": 74,
   "metadata": {
    "jupyter": {
     "outputs_hidden": true
    }
   },
   "outputs": [
    {
     "name": "stdout",
     "output_type": "stream",
     "text": [
      "{'Goku': 'dog', 'Mika': 'dog', 'Brunson': 'cat', 'Lucas': 'cat', 'Genki': 'fish'}\n"
     ]
    }
   ],
   "source": [
    "# see the entire dictionary\n",
    "print(pets)"
   ]
  },
  {
   "cell_type": "code",
   "execution_count": 93,
   "metadata": {
    "jupyter": {
     "outputs_hidden": true
    }
   },
   "outputs": [
    {
     "data": {
      "text/plain": [
       "dict_keys(['Goku', 'Mika', 'Brunson', 'Lucas', 'Genki'])"
      ]
     },
     "execution_count": 93,
     "metadata": {},
     "output_type": "execute_result"
    }
   ],
   "source": [
    "# list of keys\n",
    "pets.keys()"
   ]
  },
  {
   "cell_type": "code",
   "execution_count": 94,
   "metadata": {
    "jupyter": {
     "outputs_hidden": true
    }
   },
   "outputs": [
    {
     "data": {
      "text/plain": [
       "dict_values(['dog', 'dog', 'cat', 'cat', 'fish'])"
      ]
     },
     "execution_count": 94,
     "metadata": {},
     "output_type": "execute_result"
    }
   ],
   "source": [
    "# list of values\n",
    "pets.values()"
   ]
  },
  {
   "cell_type": "markdown",
   "metadata": {},
   "source": [
    "Adding a new value to a dictionary is simple. First, type the variable name of the dictionary, then inside of square brackets, type the name of the new key. Next, use the equal sign to assign the value that will pair with the key."
   ]
  },
  {
   "cell_type": "code",
   "execution_count": 96,
   "metadata": {
    "jupyter": {
     "outputs_hidden": true
    }
   },
   "outputs": [
    {
     "name": "stdout",
     "output_type": "stream",
     "text": [
      "{'Goku': 'dog', 'Mika': 'dog', 'Brunson': 'cat', 'Lucas': 'cat', 'Genki': 'fish', 'Tiny': 'dog'}\n"
     ]
    }
   ],
   "source": [
    "# add a new key \"Tiny\" and new value \"dog\" to the dictionary\n",
    "# varname[new_key] = new_value\n",
    "\n",
    "pets['Tiny'] = 'dog'\n",
    "print(pets)"
   ]
  },
  {
   "cell_type": "code",
   "execution_count": 97,
   "metadata": {},
   "outputs": [
    {
     "name": "stdout",
     "output_type": "stream",
     "text": [
      "{'Mika': 'dog', 'Brunson': 'cat', 'Lucas': 'cat', 'Genki': 'fish', 'Tiny': 'dog'}\n"
     ]
    }
   ],
   "source": [
    "del pets['Goku']\n",
    "print(pets)"
   ]
  },
  {
   "cell_type": "code",
   "execution_count": 132,
   "metadata": {},
   "outputs": [
    {
     "name": "stdout",
     "output_type": "stream",
     "text": [
      "{'Mika': 'dog', 'Brunson': 'cat', 'Lucas': 'cat', 'Genki': 'fish', 'Tiny': 'dog', 'tommmy': 'fish'}\n"
     ]
    }
   ],
   "source": [
    "pets[\"tommmy\"]='fish'\n",
    "print(pets)"
   ]
  },
  {
   "cell_type": "code",
   "execution_count": 141,
   "metadata": {},
   "outputs": [
    {
     "data": {
      "text/plain": [
       "dict_values(['dog', 'cat', 'cat', 'fish', 'dog', 'fish'])"
      ]
     },
     "execution_count": 141,
     "metadata": {},
     "output_type": "execute_result"
    }
   ],
   "source": [
    "dict.keys(pets);\n",
    "dict.values(pets)"
   ]
  },
  {
   "cell_type": "code",
   "execution_count": 4,
   "metadata": {},
   "outputs": [
    {
     "data": {
      "text/plain": [
       "dict_keys(['Goku', 'Mika', 'Brunson', 'Lucas', 'Genki'])"
      ]
     },
     "execution_count": 4,
     "metadata": {},
     "output_type": "execute_result"
    }
   ],
   "source": [
    "dict.keys(pets)"
   ]
  },
  {
   "cell_type": "code",
   "execution_count": null,
   "metadata": {},
   "outputs": [],
   "source": [
    "pets.items()"
   ]
  },
  {
   "cell_type": "markdown",
   "metadata": {},
   "source": [
    "`for` loops can be used to iterate through each item in a dictionary. By default, if only the dictionary's variable name is used for the loop then it will execute the tasks on the keys from the dictionary. But if both the keys and the values of the dictionary will be used in the `for` loop code, then use the `.items()` function to get the key:value pair from the dictionary. Each key and value must be stored in their own placeholder variable when being used in the loop."
   ]
  },
  {
   "cell_type": "code",
   "execution_count": 143,
   "metadata": {
    "jupyter": {
     "outputs_hidden": true
    }
   },
   "outputs": [
    {
     "name": "stdout",
     "output_type": "stream",
     "text": [
      "Mika is a dog\n",
      "Brunson is a cat\n",
      "Lucas is a cat\n",
      "Genki is a fish\n",
      "Tiny is a dog\n",
      "tommmy is a fish\n"
     ]
    }
   ],
   "source": [
    "#iterating over a dictionary to use the pets' names (key) and animal types (values) to print out a sentence\n",
    "# name will hold each key\n",
    "# animal will hold each value\n",
    "\n",
    "for name, animal in pets.items(): \n",
    "    print(name + \" is a \" + animal)"
   ]
  },
  {
   "cell_type": "code",
   "execution_count": null,
   "metadata": {},
   "outputs": [],
   "source": []
  },
  {
   "cell_type": "markdown",
   "metadata": {},
   "source": [
    "## Def function\n",
    "\n",
    "A `def` (defined) function allows a developer to create their own function that executes a customized set of a tasks. `def` functions should always have a name and include inside of parentheses any placeholder variables for values that the function will use. The first line of the `def` function should have a colon at the end, and all the code that belongs to the function should be indented. After the code of the `def` function runs, the `return` statement will send the results back to where the function was called. The `def` function does not produce output on its own; first the function must be stored in-memory then called after it is created."
   ]
  },
  {
   "cell_type": "code",
   "execution_count": 120,
   "metadata": {
    "jupyter": {
     "outputs_hidden": true
    }
   },
   "outputs": [],
   "source": [
    "# this function is named \"addNum\"\n",
    "# num1 and num2 are placeholder variables so that the function knows to expect two values\n",
    "# the result will send back the results produced by adding num1 to num2\n",
    "\n",
    "def addNum(, temi):\n",
    "    return kedi + temi"
   ]
  },
  {
   "cell_type": "code",
   "execution_count": 126,
   "metadata": {},
   "outputs": [],
   "source": [
    "def group(p1,p2):\n",
    " return p1 + p2"
   ]
  },
  {
   "cell_type": "code",
   "execution_count": 130,
   "metadata": {},
   "outputs": [
    {
     "data": {
      "text/plain": [
       "'lesly osman'"
      ]
     },
     "execution_count": 130,
     "metadata": {},
     "output_type": "execute_result"
    }
   ],
   "source": [
    "group('lesly',' '+'osman')"
   ]
  },
  {
   "cell_type": "code",
   "execution_count": 121,
   "metadata": {
    "jupyter": {
     "outputs_hidden": true
    }
   },
   "outputs": [
    {
     "data": {
      "text/plain": [
       "12.23"
      ]
     },
     "execution_count": 121,
     "metadata": {},
     "output_type": "execute_result"
    }
   ],
   "source": [
    "#use the function with previous variables x and y\n",
    "addNum(x, y)"
   ]
  },
  {
   "cell_type": "code",
   "execution_count": 110,
   "metadata": {},
   "outputs": [],
   "source": [
    "def Sum(k, t):\n",
    "    return k + t\n"
   ]
  },
  {
   "cell_type": "code",
   "execution_count": 115,
   "metadata": {},
   "outputs": [
    {
     "data": {
      "text/plain": [
       "12.23"
      ]
     },
     "execution_count": 115,
     "metadata": {},
     "output_type": "execute_result"
    }
   ],
   "source": [
    "Sum(x,y)"
   ]
  },
  {
   "cell_type": "markdown",
   "metadata": {},
   "source": [
    "The function does not know what data types to expect, so as long as the data types are valid to be operated on, then the function can be used with any values."
   ]
  },
  {
   "cell_type": "code",
   "execution_count": 112,
   "metadata": {},
   "outputs": [
    {
     "data": {
      "text/plain": [
       "20"
      ]
     },
     "execution_count": 112,
     "metadata": {},
     "output_type": "execute_result"
    }
   ],
   "source": [
    "Sum(4,2*8)"
   ]
  },
  {
   "cell_type": "code",
   "execution_count": null,
   "metadata": {},
   "outputs": [],
   "source": [
    "# concatenate variables r and s\n",
    "# store in a variables named \"this_string\"\n",
    "this_string = addNum(r, s)"
   ]
  },
  {
   "cell_type": "code",
   "execution_count": null,
   "metadata": {},
   "outputs": [],
   "source": [
    "print(this_string)"
   ]
  }
 ],
 "metadata": {
  "kernelspec": {
   "display_name": "Python 3",
   "language": "python",
   "name": "python3"
  },
  "language_info": {
   "codemirror_mode": {
    "name": "ipython",
    "version": 3
   },
   "file_extension": ".py",
   "mimetype": "text/x-python",
   "name": "python",
   "nbconvert_exporter": "python",
   "pygments_lexer": "ipython3",
   "version": "3.7.3"
  },
  "toc": {
   "base_numbering": 1,
   "nav_menu": {},
   "number_sections": false,
   "sideBar": false,
   "skip_h1_title": false,
   "title_cell": "Table of Contents",
   "title_sidebar": "Contents",
   "toc_cell": false,
   "toc_position": {},
   "toc_section_display": false,
   "toc_window_display": false
  }
 },
 "nbformat": 4,
 "nbformat_minor": 4
}
