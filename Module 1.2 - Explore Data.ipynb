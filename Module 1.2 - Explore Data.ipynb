{
 "cells": [
  {
   "cell_type": "markdown",
   "metadata": {},
   "source": [
    "# Module 1.2 - Explore Data\n",
    "\n",
    "In this lesson, you will learn how to do exploratory data analysis (EDA). In the EDA phase, you need to understand what information is in your dataset in order to later clean and prepare the data for predictive analysis."
   ]
  },
  {
   "cell_type": "markdown",
   "metadata": {},
   "source": [
    "## Python libraries\n",
    "\n",
    "Libraries have pre-defined code for other functions that are not included in basic Python. Once a library has been imported, any of its functions can be used throughout the entire notebook. Some libraries have long names that may be easy to misspell when using its functions, so it is common practice to assign a library to an alias name using `as`."
   ]
  },
  {
   "cell_type": "code",
   "execution_count": 3,
   "metadata": {},
   "outputs": [],
   "source": [
    "import numpy as np  # numpy used for linear algebra functions\n",
    "import pandas as pd # pandas used to explore and manipulate dataframes"
   ]
  },
  {
   "cell_type": "markdown",
   "metadata": {},
   "source": [
    "## Load data\n",
    "\n",
    "This notebook is a file in which we will explore the data but before that can be done, we must first read in a copy of it from the file that it's stored in. The `pandas` library will read the information in a file and then format it into a row-column structure called a ***dataframe***. Dataframes are similar to a table or spreadsheet and can be used within Python to explore and manipulate items in the rows or columns."
   ]
  },
  {
   "cell_type": "markdown",
   "metadata": {},
   "source": [
    "### CSV files\n",
    "\n",
    "CSV stands for \"comma separated values\". It is a plain text file where each value in a line is separated by some delimiter (usually commas but can be tabs, semicolons, spaces, etc.). In `pandas` the function to read data from a CSV file is `.read_csv(name of file)`. The path to the file with data should be typed inside the parentheses (as a string) of the `.read_csv()` function. If the data file and the notebook file are located in the same folder, then just the name of the file is required. The `.read_csv()` function assumes that the first line of information in the file will be the column header names for the dataset. "
   ]
  },
  {
   "cell_type": "code",
   "execution_count": 4,
   "metadata": {},
   "outputs": [],
   "source": [
    "#load a csv file named \"smallgradesh.csv\" located in the datasets folder\n",
    "\n",
    "location = \"datasets/smallgradesh.csv\"\n",
    "df = pd.read_csv(location)"
   ]
  },
  {
   "cell_type": "markdown",
   "metadata": {},
   "source": [
    "### Dataframes\n",
    "\n",
    "Unlike spreadsheets in tools such as Microsoft Excel, dataframes are not meant to be viewed in full detail (meaning, scroll through every single row of information). Instead, to verify that the data was loaded in properly, the `.head()` and `.tail()` functions show several rows and columns within the dataset. By default, the `.head()` and `.tail()` functions show the first/last five rows of the dataset. The number of rows shown can be altered by setting the number inside the function parentheses. However, if the number of rows requested is excessive, then the dataframe will only show several rows from the top of the dataframe, skip the middle section, and then show the last few rows. Additional features of the data can be verified using other exploratory functions to determine if any data formatting needs to be done."
   ]
  },
  {
   "cell_type": "code",
   "execution_count": 8,
   "metadata": {
    "scrolled": true
   },
   "outputs": [
    {
     "data": {
      "text/html": [
       "<div>\n",
       "<style scoped>\n",
       "    .dataframe tbody tr th:only-of-type {\n",
       "        vertical-align: middle;\n",
       "    }\n",
       "\n",
       "    .dataframe tbody tr th {\n",
       "        vertical-align: top;\n",
       "    }\n",
       "\n",
       "    .dataframe thead th {\n",
       "        text-align: right;\n",
       "    }\n",
       "</style>\n",
       "<table border=\"1\" class=\"dataframe\">\n",
       "  <thead>\n",
       "    <tr style=\"text-align: right;\">\n",
       "      <th></th>\n",
       "      <th>Name</th>\n",
       "      <th>Grade</th>\n",
       "    </tr>\n",
       "  </thead>\n",
       "  <tbody>\n",
       "    <tr>\n",
       "      <th>0</th>\n",
       "      <td>Marcia</td>\n",
       "      <td>82.4</td>\n",
       "    </tr>\n",
       "    <tr>\n",
       "      <th>1</th>\n",
       "      <td>Kadeem</td>\n",
       "      <td>78.2</td>\n",
       "    </tr>\n",
       "    <tr>\n",
       "      <th>2</th>\n",
       "      <td>Nash</td>\n",
       "      <td>79.3</td>\n",
       "    </tr>\n",
       "    <tr>\n",
       "      <th>3</th>\n",
       "      <td>Noelani</td>\n",
       "      <td>83.2</td>\n",
       "    </tr>\n",
       "    <tr>\n",
       "      <th>4</th>\n",
       "      <td>Noelani</td>\n",
       "      <td>87.4</td>\n",
       "    </tr>\n",
       "  </tbody>\n",
       "</table>\n",
       "</div>"
      ],
      "text/plain": [
       "      Name  Grade\n",
       "0   Marcia   82.4\n",
       "1   Kadeem   78.2\n",
       "2     Nash   79.3\n",
       "3  Noelani   83.2\n",
       "4  Noelani   87.4"
      ]
     },
     "execution_count": 8,
     "metadata": {},
     "output_type": "execute_result"
    }
   ],
   "source": [
    "# this will show first 5 rows in the dataframe\n",
    "df.head()"
   ]
  },
  {
   "cell_type": "code",
   "execution_count": 5,
   "metadata": {},
   "outputs": [
    {
     "data": {
      "text/html": [
       "<div>\n",
       "<style scoped>\n",
       "    .dataframe tbody tr th:only-of-type {\n",
       "        vertical-align: middle;\n",
       "    }\n",
       "\n",
       "    .dataframe tbody tr th {\n",
       "        vertical-align: top;\n",
       "    }\n",
       "\n",
       "    .dataframe thead th {\n",
       "        text-align: right;\n",
       "    }\n",
       "</style>\n",
       "<table border=\"1\" class=\"dataframe\">\n",
       "  <thead>\n",
       "    <tr style=\"text-align: right;\">\n",
       "      <th></th>\n",
       "      <th>Name</th>\n",
       "      <th>Grade</th>\n",
       "    </tr>\n",
       "  </thead>\n",
       "  <tbody>\n",
       "    <tr>\n",
       "      <th>1995</th>\n",
       "      <td>Cody</td>\n",
       "      <td>80.1</td>\n",
       "    </tr>\n",
       "    <tr>\n",
       "      <th>1996</th>\n",
       "      <td>Geraldine</td>\n",
       "      <td>100.0</td>\n",
       "    </tr>\n",
       "    <tr>\n",
       "      <th>1997</th>\n",
       "      <td>Mercedes</td>\n",
       "      <td>84.9</td>\n",
       "    </tr>\n",
       "    <tr>\n",
       "      <th>1998</th>\n",
       "      <td>Lucius</td>\n",
       "      <td>69.1</td>\n",
       "    </tr>\n",
       "    <tr>\n",
       "      <th>1999</th>\n",
       "      <td>Linus</td>\n",
       "      <td>79.6</td>\n",
       "    </tr>\n",
       "  </tbody>\n",
       "</table>\n",
       "</div>"
      ],
      "text/plain": [
       "           Name  Grade\n",
       "1995       Cody   80.1\n",
       "1996  Geraldine  100.0\n",
       "1997   Mercedes   84.9\n",
       "1998     Lucius   69.1\n",
       "1999      Linus   79.6"
      ]
     },
     "execution_count": 5,
     "metadata": {},
     "output_type": "execute_result"
    }
   ],
   "source": [
    "df.tail()"
   ]
  },
  {
   "cell_type": "markdown",
   "metadata": {},
   "source": [
    "*NOTE*: In Jupyter notebook, whenever you do not remember what a function does or need to know what parameters/arguments can be used in it, just type the function name witha question mark at the end (no parentheses) and run the cell."
   ]
  },
  {
   "cell_type": "code",
   "execution_count": null,
   "metadata": {},
   "outputs": [],
   "source": [
    "#df.head?"
   ]
  },
  {
   "cell_type": "code",
   "execution_count": null,
   "metadata": {},
   "outputs": [],
   "source": [
    "# this will show the last 3 rows of the dataframe\n",
    "df.tail(3)"
   ]
  },
  {
   "cell_type": "markdown",
   "metadata": {},
   "source": [
    "### Data without headers\n",
    "\n",
    "If the file (CSV, Excel, etc.) does not contain column header names, then the argument `header=None` is used to read the first line in the file as the first row in the dataframe. In addition, you can add column header names while reading in the data using the `names=[list of column names]` argument in the function. Column headers can also be added after the data has been loaded as a dataframe - first, type the dataframe variable name and use the `.columns` function (this will access the names of the columns). Then on the right side of an equal sign (assignment operator) type a Python list of all of the new header names in the position order of the columns (this also works for renaming columns)."
   ]
  },
  {
   "cell_type": "code",
   "execution_count": 6,
   "metadata": {},
   "outputs": [
    {
     "data": {
      "text/html": [
       "<div>\n",
       "<style scoped>\n",
       "    .dataframe tbody tr th:only-of-type {\n",
       "        vertical-align: middle;\n",
       "    }\n",
       "\n",
       "    .dataframe tbody tr th {\n",
       "        vertical-align: top;\n",
       "    }\n",
       "\n",
       "    .dataframe thead th {\n",
       "        text-align: right;\n",
       "    }\n",
       "</style>\n",
       "<table border=\"1\" class=\"dataframe\">\n",
       "  <thead>\n",
       "    <tr style=\"text-align: right;\">\n",
       "      <th></th>\n",
       "      <th>Marcia</th>\n",
       "      <th>82.4</th>\n",
       "    </tr>\n",
       "  </thead>\n",
       "  <tbody>\n",
       "    <tr>\n",
       "      <th>0</th>\n",
       "      <td>Kadeem</td>\n",
       "      <td>78.2</td>\n",
       "    </tr>\n",
       "    <tr>\n",
       "      <th>1</th>\n",
       "      <td>Nash</td>\n",
       "      <td>79.3</td>\n",
       "    </tr>\n",
       "    <tr>\n",
       "      <th>2</th>\n",
       "      <td>Noelani</td>\n",
       "      <td>83.2</td>\n",
       "    </tr>\n",
       "    <tr>\n",
       "      <th>3</th>\n",
       "      <td>Noelani</td>\n",
       "      <td>87.4</td>\n",
       "    </tr>\n",
       "    <tr>\n",
       "      <th>4</th>\n",
       "      <td>Neil</td>\n",
       "      <td>88.7</td>\n",
       "    </tr>\n",
       "  </tbody>\n",
       "</table>\n",
       "</div>"
      ],
      "text/plain": [
       "    Marcia  82.4\n",
       "0   Kadeem  78.2\n",
       "1     Nash  79.3\n",
       "2  Noelani  83.2\n",
       "3  Noelani  87.4\n",
       "4     Neil  88.7"
      ]
     },
     "execution_count": 6,
     "metadata": {},
     "output_type": "execute_result"
    }
   ],
   "source": [
    "location2 = \"datasets/smallgrades.csv\"\n",
    "\n",
    "# CSV file that does not have column header names\n",
    "# Python creates index position placeholder names for the columns\n",
    "\n",
    "df_nohead = pd.read_csv(location2) #try w/o header=None\n",
    "\n",
    "df_nohead.head()"
   ]
  },
  {
   "cell_type": "code",
   "execution_count": 25,
   "metadata": {},
   "outputs": [
    {
     "name": "stdout",
     "output_type": "stream",
     "text": [
      "              0      1\n",
      "0        Marcia   82.4\n",
      "1        Kadeem   78.2\n",
      "2          Nash   79.3\n",
      "3       Noelani   83.2\n",
      "4       Noelani   87.4\n",
      "5          Neil   88.7\n",
      "6         Nelle   80.2\n",
      "7       Armando   95.1\n",
      "8       Illiana   76.5\n",
      "9          Neil   89.7\n",
      "10       Daquan   85.2\n",
      "11         Nola   75.3\n",
      "12        Quinn   80.7\n",
      "13      Frances   84.2\n",
      "14      Lareina   87.6\n",
      "15        Medge   75.8\n",
      "16         Kibo   88.2\n",
      "17        Libby  100.0\n",
      "18       Shelly   84.3\n",
      "19         Lane   84.2\n",
      "20      Isadora   79.1\n",
      "21        Maggy   90.5\n",
      "22        Elton   71.0\n",
      "23        Lance   90.3\n",
      "24         Kyle   82.4\n",
      "25        Colin   83.8\n",
      "26      Solomon   94.5\n",
      "27         Ulla   83.5\n",
      "28        Tyler   69.7\n",
      "29         Emma   91.1\n",
      "...         ...    ...\n",
      "1970    Armando   93.2\n",
      "1971      Haley   90.4\n",
      "1972      Fritz   79.5\n",
      "1973  Allistair   74.2\n",
      "1974       Ella   68.0\n",
      "1975      Felix   75.2\n",
      "1976       Dean   74.5\n",
      "1977    Quinlan   85.6\n",
      "1978      Kiara   82.7\n",
      "1979        Kai  100.0\n",
      "1980     Maxine   91.9\n",
      "1981       Leah  100.0\n",
      "1982      Kalia   61.4\n",
      "1983    Anthony   93.1\n",
      "1984     Joshua   72.7\n",
      "1985      Akeem   74.4\n",
      "1986     Indigo   91.3\n",
      "1987      Price   78.6\n",
      "1988      Quinn   78.0\n",
      "1989       John   91.2\n",
      "1990      Adena   70.2\n",
      "1991      Craig   64.9\n",
      "1992   Isabelle   78.5\n",
      "1993       Risa   74.3\n",
      "1994    Emerson   67.5\n",
      "1995       Cody   80.1\n",
      "1996  Geraldine  100.0\n",
      "1997   Mercedes   84.9\n",
      "1998     Lucius   69.1\n",
      "1999      Linus   79.6\n",
      "\n",
      "[2000 rows x 2 columns]\n"
     ]
    }
   ],
   "source": [
    "print(df_nohead)"
   ]
  },
  {
   "cell_type": "code",
   "execution_count": 26,
   "metadata": {},
   "outputs": [
    {
     "data": {
      "text/html": [
       "<div>\n",
       "<style scoped>\n",
       "    .dataframe tbody tr th:only-of-type {\n",
       "        vertical-align: middle;\n",
       "    }\n",
       "\n",
       "    .dataframe tbody tr th {\n",
       "        vertical-align: top;\n",
       "    }\n",
       "\n",
       "    .dataframe thead th {\n",
       "        text-align: right;\n",
       "    }\n",
       "</style>\n",
       "<table border=\"1\" class=\"dataframe\">\n",
       "  <thead>\n",
       "    <tr style=\"text-align: right;\">\n",
       "      <th></th>\n",
       "      <th>Name</th>\n",
       "      <th>Grade</th>\n",
       "    </tr>\n",
       "  </thead>\n",
       "  <tbody>\n",
       "    <tr>\n",
       "      <th>0</th>\n",
       "      <td>Marcia</td>\n",
       "      <td>82.4</td>\n",
       "    </tr>\n",
       "    <tr>\n",
       "      <th>1</th>\n",
       "      <td>Kadeem</td>\n",
       "      <td>78.2</td>\n",
       "    </tr>\n",
       "    <tr>\n",
       "      <th>2</th>\n",
       "      <td>Nash</td>\n",
       "      <td>79.3</td>\n",
       "    </tr>\n",
       "    <tr>\n",
       "      <th>3</th>\n",
       "      <td>Noelani</td>\n",
       "      <td>83.2</td>\n",
       "    </tr>\n",
       "    <tr>\n",
       "      <th>4</th>\n",
       "      <td>Noelani</td>\n",
       "      <td>87.4</td>\n",
       "    </tr>\n",
       "  </tbody>\n",
       "</table>\n",
       "</div>"
      ],
      "text/plain": [
       "      Name  Grade\n",
       "0   Marcia   82.4\n",
       "1   Kadeem   78.2\n",
       "2     Nash   79.3\n",
       "3  Noelani   83.2\n",
       "4  Noelani   87.4"
      ]
     },
     "execution_count": 26,
     "metadata": {},
     "output_type": "execute_result"
    }
   ],
   "source": [
    "# from the same file in the previous cell\n",
    "# this time we will add on column header names as the data is loaded\n",
    "\n",
    "df_during = pd.read_csv(location2, names=['Name', 'Grade'])\n",
    "\n",
    "df_during.head()"
   ]
  },
  {
   "cell_type": "code",
   "execution_count": 27,
   "metadata": {},
   "outputs": [
    {
     "data": {
      "text/html": [
       "<div>\n",
       "<style scoped>\n",
       "    .dataframe tbody tr th:only-of-type {\n",
       "        vertical-align: middle;\n",
       "    }\n",
       "\n",
       "    .dataframe tbody tr th {\n",
       "        vertical-align: top;\n",
       "    }\n",
       "\n",
       "    .dataframe thead th {\n",
       "        text-align: right;\n",
       "    }\n",
       "</style>\n",
       "<table border=\"1\" class=\"dataframe\">\n",
       "  <thead>\n",
       "    <tr style=\"text-align: right;\">\n",
       "      <th></th>\n",
       "      <th>0</th>\n",
       "      <th>1</th>\n",
       "    </tr>\n",
       "  </thead>\n",
       "  <tbody>\n",
       "    <tr>\n",
       "      <th>0</th>\n",
       "      <td>Marcia</td>\n",
       "      <td>82.4</td>\n",
       "    </tr>\n",
       "    <tr>\n",
       "      <th>1</th>\n",
       "      <td>Kadeem</td>\n",
       "      <td>78.2</td>\n",
       "    </tr>\n",
       "    <tr>\n",
       "      <th>2</th>\n",
       "      <td>Nash</td>\n",
       "      <td>79.3</td>\n",
       "    </tr>\n",
       "    <tr>\n",
       "      <th>3</th>\n",
       "      <td>Noelani</td>\n",
       "      <td>83.2</td>\n",
       "    </tr>\n",
       "    <tr>\n",
       "      <th>4</th>\n",
       "      <td>Noelani</td>\n",
       "      <td>87.4</td>\n",
       "    </tr>\n",
       "  </tbody>\n",
       "</table>\n",
       "</div>"
      ],
      "text/plain": [
       "         0     1\n",
       "0   Marcia  82.4\n",
       "1   Kadeem  78.2\n",
       "2     Nash  79.3\n",
       "3  Noelani  83.2\n",
       "4  Noelani  87.4"
      ]
     },
     "execution_count": 27,
     "metadata": {},
     "output_type": "execute_result"
    }
   ],
   "source": [
    "#verify that this dataframe has no column header names\n",
    "df_nohead.head()"
   ]
  },
  {
   "cell_type": "code",
   "execution_count": null,
   "metadata": {
    "scrolled": true
   },
   "outputs": [],
   "source": [
    "# add header names to \"df_nohead\" dataframe\n",
    "\n",
    "df_nohead.columns = ['Name', 'Grade']\n",
    "df_nohead.head()"
   ]
  },
  {
   "cell_type": "markdown",
   "metadata": {},
   "source": [
    "### Excel files\n",
    "\n",
    "In `pandas` the function to read in data from an Excel file is `.read_excel()` and works similarly to the `.read_csv()` function."
   ]
  },
  {
   "cell_type": "code",
   "execution_count": 28,
   "metadata": {},
   "outputs": [
    {
     "data": {
      "text/html": [
       "<div>\n",
       "<style scoped>\n",
       "    .dataframe tbody tr th:only-of-type {\n",
       "        vertical-align: middle;\n",
       "    }\n",
       "\n",
       "    .dataframe tbody tr th {\n",
       "        vertical-align: top;\n",
       "    }\n",
       "\n",
       "    .dataframe thead th {\n",
       "        text-align: right;\n",
       "    }\n",
       "</style>\n",
       "<table border=\"1\" class=\"dataframe\">\n",
       "  <thead>\n",
       "    <tr style=\"text-align: right;\">\n",
       "      <th></th>\n",
       "      <th>fname</th>\n",
       "      <th>lname</th>\n",
       "      <th>gender</th>\n",
       "      <th>age</th>\n",
       "      <th>exercise</th>\n",
       "      <th>hours</th>\n",
       "      <th>grade</th>\n",
       "      <th>address</th>\n",
       "    </tr>\n",
       "  </thead>\n",
       "  <tbody>\n",
       "    <tr>\n",
       "      <th>0</th>\n",
       "      <td>Marcia</td>\n",
       "      <td>Pugh</td>\n",
       "      <td>female</td>\n",
       "      <td>17</td>\n",
       "      <td>3</td>\n",
       "      <td>10</td>\n",
       "      <td>82.4</td>\n",
       "      <td>7379 Highland Rd. , Dublin, GA 31021</td>\n",
       "    </tr>\n",
       "    <tr>\n",
       "      <th>1</th>\n",
       "      <td>Kadeem</td>\n",
       "      <td>Morrison</td>\n",
       "      <td>male</td>\n",
       "      <td>18</td>\n",
       "      <td>4</td>\n",
       "      <td>4</td>\n",
       "      <td>78.2</td>\n",
       "      <td>8 Bayport St. , Honolulu, HI 96815</td>\n",
       "    </tr>\n",
       "    <tr>\n",
       "      <th>2</th>\n",
       "      <td>Nash</td>\n",
       "      <td>Powell</td>\n",
       "      <td>male</td>\n",
       "      <td>18</td>\n",
       "      <td>5</td>\n",
       "      <td>9</td>\n",
       "      <td>79.3</td>\n",
       "      <td>Encino, CA 91316, 3 Lilac Street</td>\n",
       "    </tr>\n",
       "    <tr>\n",
       "      <th>3</th>\n",
       "      <td>Noelani</td>\n",
       "      <td>Wagner</td>\n",
       "      <td>female</td>\n",
       "      <td>14</td>\n",
       "      <td>2</td>\n",
       "      <td>7</td>\n",
       "      <td>83.2</td>\n",
       "      <td>Riverview, FL 33569, 9998 North Smith Dr.</td>\n",
       "    </tr>\n",
       "    <tr>\n",
       "      <th>4</th>\n",
       "      <td>Noelani</td>\n",
       "      <td>Cherry</td>\n",
       "      <td>female</td>\n",
       "      <td>18</td>\n",
       "      <td>4</td>\n",
       "      <td>15</td>\n",
       "      <td>87.4</td>\n",
       "      <td>97 SE. Ocean Street , Bethlehem, PA 18015</td>\n",
       "    </tr>\n",
       "  </tbody>\n",
       "</table>\n",
       "</div>"
      ],
      "text/plain": [
       "     fname     lname  gender  age  exercise  hours  grade  \\\n",
       "0   Marcia      Pugh  female   17         3     10   82.4   \n",
       "1   Kadeem  Morrison    male   18         4      4   78.2   \n",
       "2     Nash    Powell    male   18         5      9   79.3   \n",
       "3  Noelani    Wagner  female   14         2      7   83.2   \n",
       "4  Noelani    Cherry  female   18         4     15   87.4   \n",
       "\n",
       "                                      address  \n",
       "0        7379 Highland Rd. , Dublin, GA 31021  \n",
       "1          8 Bayport St. , Honolulu, HI 96815  \n",
       "2           Encino, CA 91316, 3 Lilac Street   \n",
       "3  Riverview, FL 33569, 9998 North Smith Dr.   \n",
       "4   97 SE. Ocean Street , Bethlehem, PA 18015  "
      ]
     },
     "execution_count": 28,
     "metadata": {},
     "output_type": "execute_result"
    }
   ],
   "source": [
    "#import data from Excel file\n",
    "\n",
    "location = \"datasets/gradedata.xlsx\"\n",
    "df = pd.read_excel(location) #overwrites the info from the df variable in the examples above\n",
    "df.head()"
   ]
  },
  {
   "cell_type": "markdown",
   "metadata": {},
   "source": [
    "## Make a file from dataframe\n",
    "\n",
    "Usually after the data has been manipulated and transformed into a format that the user is satisfied with, it may be the case that the information is going to be used within another program (Excel, Tableau, etc.). Because the data cannot be directly sent from Jupyter notebook to another application, we can create a file from the dataframe. CSV is the easiest format to use for the data but other file formats can be used as well (Excel, JSON). \n",
    "\n",
    "#### Zip function\n",
    "- Is a Python built-in function that allows us to combine corresponding elements from multiple sequences into a single list of tuples."
   ]
  },
  {
   "cell_type": "code",
   "execution_count": 46,
   "metadata": {},
   "outputs": [],
   "source": [
    "# create fake data\n",
    "\n",
    "names = ['Bob','Jessica','Mary','John','Mel','kkk']\n",
    "grades = [76,95,77,78,99,28]\n",
    "ids =[11,12,13,14,15,35]\n",
    "GradeList = list(zip(names,grades,ids))\n",
    "\n",
    "df = pd.DataFrame(data = GradeList, columns=['Names','Grades', 'IDs'])"
   ]
  },
  {
   "cell_type": "code",
   "execution_count": 47,
   "metadata": {},
   "outputs": [
    {
     "name": "stdout",
     "output_type": "stream",
     "text": [
      "     Names  Grades  IDs\n",
      "0      Bob      76   11\n",
      "1  Jessica      95   12\n",
      "2     Mary      77   13\n",
      "3     John      78   14\n",
      "4      Mel      99   15\n",
      "5      kkk      28   35\n"
     ]
    }
   ],
   "source": [
    "df.head()\n",
    "print(df)"
   ]
  },
  {
   "cell_type": "markdown",
   "metadata": {},
   "source": [
    "### Export data to CSV file"
   ]
  },
  {
   "cell_type": "code",
   "execution_count": 38,
   "metadata": {},
   "outputs": [],
   "source": [
    "# export data to a file called \"studentgrades.csv\"\n",
    "# file will be created in the same folder as the notebook, unless specified\n",
    "\n",
    "df.to_csv('studentgrades.csv',index=False,header=False)"
   ]
  },
  {
   "cell_type": "code",
   "execution_count": 39,
   "metadata": {},
   "outputs": [
    {
     "name": "stdout",
     "output_type": "stream",
     "text": [
      "     Names  Grades  IDs\n",
      "0      Bob      76   11\n",
      "1  Jessica      95   12\n",
      "2     Mary      77   13\n",
      "3     John      78   14\n",
      "4      Mel      99   15\n"
     ]
    }
   ],
   "source": [
    "print(df)"
   ]
  },
  {
   "cell_type": "code",
   "execution_count": 41,
   "metadata": {},
   "outputs": [
    {
     "name": "stdout",
     "output_type": "stream",
     "text": [
      "     Names  Grades  IDs\n",
      "0      Bob      76   11\n",
      "1  Jessica      95   12\n",
      "2     Mary      77   13\n",
      "3     John      78   14\n",
      "4      Mel      99   15\n"
     ]
    }
   ],
   "source": [
    "df.to_excel('studentgrades.xlsx', index=False, header=False)\n",
    "print(df)"
   ]
  },
  {
   "cell_type": "markdown",
   "metadata": {},
   "source": [
    "### Export data to Excel file"
   ]
  },
  {
   "cell_type": "code",
   "execution_count": 48,
   "metadata": {},
   "outputs": [],
   "source": [
    "# create Excel file from dataframe\n",
    "# \"engine\" parameter tells file what Excel format encoding (.xls, .xlsx) to create\n",
    "\n",
    "writer = pd.ExcelWriter('dataframe.xlsx', engine='xlsxwriter')\n",
    "df.to_excel(writer, sheet_name='Sheet1')\n",
    "writer.save()"
   ]
  },
  {
   "cell_type": "code",
   "execution_count": 50,
   "metadata": {},
   "outputs": [],
   "source": [
    "# export different dataframes to separate sheets in same Excel file\n",
    "\n",
    "writer = pd.ExcelWriter('dataframe.xlsx', engine='xlsxwriter')\n",
    "\n",
    "df.to_excel(writer, sheet_name='Sheet1')\n",
    "df_nohead.to_excel(writer, sheet_name='Sheet2')\n",
    "\n",
    "writer.save()"
   ]
  },
  {
   "cell_type": "markdown",
   "metadata": {},
   "source": [
    "## Data Features\n",
    "\n",
    "The first steps in the EDA process should be to verify that the data is properly loaded (using `.head()` or `.tail()`), checking the number of rows and columns, finding out what columns exist in the dataset, and also the data type of each column.\n",
    "\n",
    "### Exploratory Analysis\n",
    "It is use for gaining a better understanding of data aspects like:\n",
    "- main features of data\n",
    "- variables and relationships that hold between them\n",
    "- identifying which variables are important for our problem"
   ]
  },
  {
   "cell_type": "code",
   "execution_count": 51,
   "metadata": {},
   "outputs": [
    {
     "data": {
      "text/html": [
       "<div>\n",
       "<style scoped>\n",
       "    .dataframe tbody tr th:only-of-type {\n",
       "        vertical-align: middle;\n",
       "    }\n",
       "\n",
       "    .dataframe tbody tr th {\n",
       "        vertical-align: top;\n",
       "    }\n",
       "\n",
       "    .dataframe thead th {\n",
       "        text-align: right;\n",
       "    }\n",
       "</style>\n",
       "<table border=\"1\" class=\"dataframe\">\n",
       "  <thead>\n",
       "    <tr style=\"text-align: right;\">\n",
       "      <th></th>\n",
       "      <th>fname</th>\n",
       "      <th>lname</th>\n",
       "      <th>gender</th>\n",
       "      <th>age</th>\n",
       "      <th>exercise</th>\n",
       "      <th>hours</th>\n",
       "      <th>grade</th>\n",
       "      <th>address</th>\n",
       "    </tr>\n",
       "  </thead>\n",
       "  <tbody>\n",
       "    <tr>\n",
       "      <th>0</th>\n",
       "      <td>Marcia</td>\n",
       "      <td>Pugh</td>\n",
       "      <td>female</td>\n",
       "      <td>17</td>\n",
       "      <td>3</td>\n",
       "      <td>10</td>\n",
       "      <td>82.4</td>\n",
       "      <td>9253 Richardson Road, Matawan, NJ 07747</td>\n",
       "    </tr>\n",
       "    <tr>\n",
       "      <th>1</th>\n",
       "      <td>Kadeem</td>\n",
       "      <td>Morrison</td>\n",
       "      <td>male</td>\n",
       "      <td>18</td>\n",
       "      <td>4</td>\n",
       "      <td>4</td>\n",
       "      <td>78.2</td>\n",
       "      <td>33 Spring Dr., Taunton, MA 02780</td>\n",
       "    </tr>\n",
       "    <tr>\n",
       "      <th>2</th>\n",
       "      <td>Nash</td>\n",
       "      <td>Powell</td>\n",
       "      <td>male</td>\n",
       "      <td>18</td>\n",
       "      <td>5</td>\n",
       "      <td>9</td>\n",
       "      <td>79.3</td>\n",
       "      <td>41 Hill Avenue, Mentor, OH 44060</td>\n",
       "    </tr>\n",
       "    <tr>\n",
       "      <th>3</th>\n",
       "      <td>Noelani</td>\n",
       "      <td>Wagner</td>\n",
       "      <td>female</td>\n",
       "      <td>14</td>\n",
       "      <td>2</td>\n",
       "      <td>7</td>\n",
       "      <td>83.2</td>\n",
       "      <td>8839 Marshall St., Miami, FL 33125</td>\n",
       "    </tr>\n",
       "    <tr>\n",
       "      <th>4</th>\n",
       "      <td>Noelani</td>\n",
       "      <td>Cherry</td>\n",
       "      <td>female</td>\n",
       "      <td>18</td>\n",
       "      <td>4</td>\n",
       "      <td>15</td>\n",
       "      <td>87.4</td>\n",
       "      <td>8304 Charles Rd., Lewis Center, OH 43035</td>\n",
       "    </tr>\n",
       "  </tbody>\n",
       "</table>\n",
       "</div>"
      ],
      "text/plain": [
       "     fname     lname  gender  age  exercise  hours  grade  \\\n",
       "0   Marcia      Pugh  female   17         3     10   82.4   \n",
       "1   Kadeem  Morrison    male   18         4      4   78.2   \n",
       "2     Nash    Powell    male   18         5      9   79.3   \n",
       "3  Noelani    Wagner  female   14         2      7   83.2   \n",
       "4  Noelani    Cherry  female   18         4     15   87.4   \n",
       "\n",
       "                                    address  \n",
       "0   9253 Richardson Road, Matawan, NJ 07747  \n",
       "1          33 Spring Dr., Taunton, MA 02780  \n",
       "2          41 Hill Avenue, Mentor, OH 44060  \n",
       "3        8839 Marshall St., Miami, FL 33125  \n",
       "4  8304 Charles Rd., Lewis Center, OH 43035  "
      ]
     },
     "execution_count": 51,
     "metadata": {},
     "output_type": "execute_result"
    }
   ],
   "source": [
    "#load gradedata.csv file\n",
    "\n",
    "location= \"datasets/gradedata.csv\"\n",
    "df = pd.read_csv(location)\n",
    "\n",
    "df.head()"
   ]
  },
  {
   "cell_type": "code",
   "execution_count": 91,
   "metadata": {
    "scrolled": false
   },
   "outputs": [
    {
     "name": "stdout",
     "output_type": "stream",
     "text": [
      "          fname      lname  gender  age  exercise  hours  grade  \\\n",
      "0        Marcia       Pugh  female   17         3     10   82.4   \n",
      "1        Kadeem   Morrison    male   18         4      4   78.2   \n",
      "2          Nash     Powell    male   18         5      9   79.3   \n",
      "3       Noelani     Wagner  female   14         2      7   83.2   \n",
      "4       Noelani     Cherry  female   18         4     15   87.4   \n",
      "5          Neil    Whitley    male   16         5     16   88.7   \n",
      "6         Nelle     Golden  female   17         1      9   80.2   \n",
      "7       Armando    Hoffman    male   17         5     18   95.1   \n",
      "8       Illiana      Rojas  female   15         5      9   76.5   \n",
      "9          Neil     Wooten    male   15         3     15   89.7   \n",
      "10       Daquan    Alvarez    male   16         2     13   85.2   \n",
      "11         Nola  Velazquez  female   15         2     10   75.3   \n",
      "12        Quinn     Warren  female   14         4     12   80.7   \n",
      "13      Frances  Velasquez  female   15         2     15   84.2   \n",
      "14      Lareina      Poole  female   18         1     14   87.6   \n",
      "15        Medge   Mccarthy  female   15         1      8   75.8   \n",
      "16         Kibo      Gates    male   16         1     10   88.2   \n",
      "17        Libby     Guzman  female   19         1     19  100.0   \n",
      "18       Shelly    Rosario  female   18         4     13   84.3   \n",
      "19         Lane       Tate    male   19         4     11   84.2   \n",
      "20      Isadora       Case  female   18         3     11   79.1   \n",
      "21        Maggy  Whitfield  female   15         1     15   90.5   \n",
      "22        Elton     Wagner    male   16         2      9   71.0   \n",
      "23        Lance   Benjamin    male   14         5     18   90.3   \n",
      "24         Kyle    Skinner    male   17         5      6   82.4   \n",
      "25        Colin      Cohen    male   14         1     10   83.8   \n",
      "26      Solomon  Mcpherson    male   15         5     18   94.5   \n",
      "27         Ulla     Warren  female   18         1     16   83.5   \n",
      "28        Tyler    Collier    male   16         1      9   69.7   \n",
      "29         Emma     Mccall  female   16         2     13   91.1   \n",
      "...         ...        ...     ...  ...       ...    ...    ...   \n",
      "1970    Armando    Mcclure    male   19         2     14   93.2   \n",
      "1971      Haley    Mcgowan  female   17         3     16   90.4   \n",
      "1972      Fritz      Rojas    male   17         5     13   79.5   \n",
      "1973  Allistair      Boyer    male   14         3     10   74.2   \n",
      "1974       Ella  Patterson  female   16         1      8   68.0   \n",
      "1975      Felix    Freeman    male   15         4     11   75.2   \n",
      "1976       Dean      Oneil    male   16         2      8   74.5   \n",
      "1977    Quinlan    Hawkins    male   14         3     18   85.6   \n",
      "1978      Kiara       Lott  female   17         2     12   82.7   \n",
      "1979        Kai    Woodard  female   17         5     17  100.0   \n",
      "1980     Maxine    Raymond  female   17         4     19   91.9   \n",
      "1981       Leah   Lawrence  female   15         5     15  100.0   \n",
      "1982      Kalia      Lewis  female   18         1      6   61.4   \n",
      "1983    Anthony     Palmer    male   14         1     14   93.1   \n",
      "1984     Joshua   Randolph    male   15         1      4   72.7   \n",
      "1985      Akeem       Luna    male   15         4      6   74.4   \n",
      "1986     Indigo      Mccoy  female   19         2     14   91.3   \n",
      "1987      Price       Wall    male   15         5     11   78.6   \n",
      "1988      Quinn  Patterson    male   15         1     14   78.0   \n",
      "1989       John       Ford    male   14         2     14   91.2   \n",
      "1990      Adena     Battle  female   17         2      8   70.2   \n",
      "1991      Craig     Obrien    male   16         3      7   64.9   \n",
      "1992   Isabelle     Barber  female   14         5      9   78.5   \n",
      "1993       Risa     Watson  female   14         2     10   74.3   \n",
      "1994    Emerson       Gill    male   17         5      5   67.5   \n",
      "1995       Cody   Shepherd    male   19         1      8   80.1   \n",
      "1996  Geraldine   Peterson  female   16         4     18  100.0   \n",
      "1997   Mercedes       Leon  female   18         3     14   84.9   \n",
      "1998     Lucius    Rowland    male   16         1      7   69.1   \n",
      "1999      Linus     Morris    male   19         4     10   79.6   \n",
      "\n",
      "                                               address  \n",
      "0              9253 Richardson Road, Matawan, NJ 07747  \n",
      "1                     33 Spring Dr., Taunton, MA 02780  \n",
      "2                     41 Hill Avenue, Mentor, OH 44060  \n",
      "3                   8839 Marshall St., Miami, FL 33125  \n",
      "4             8304 Charles Rd., Lewis Center, OH 43035  \n",
      "5             40 Washington Ave., Bloomfield, NJ 07003  \n",
      "6                9768 Hanover Dr., Meadville, PA 16335  \n",
      "7                360 Manor Drive, Northville, MI 48167  \n",
      "8             9425 Studebaker Dr., Thibodaux, LA 70301  \n",
      "9              400 Bridge Court, Soddy Daisy, TN 37379  \n",
      "10             9028 Arnold Circle, Elizabeth, NJ 07202  \n",
      "11                 72 Bradford Dr., Carlisle, PA 17013  \n",
      "12                760 Smith Street, Appleton, WI 54911  \n",
      "13                     57 Bridge St., Tupelo, MS 38801  \n",
      "14                      59 Court Dr., Waxhaw, NC 28173  \n",
      "15              609 Warren Court, Prior Lake, MN 55372  \n",
      "16                  24 Vernon Street, Helena, MT 59601  \n",
      "17              666 S. Pennington Rd., Dover, NH 03820  \n",
      "18          571 Miles Street, Flowery Branch, GA 30542  \n",
      "19           4 Old Westport St., Glen Burnie, MD 21060  \n",
      "20                   44 Ocean Lane, Appleton, WI 54911  \n",
      "21                    2 Henry Ave., Palm Bay, FL 32907  \n",
      "22              98 Indian Spring St., Athens, GA 30605  \n",
      "23                      55 Creek Dr., Lorton, VA 22079  \n",
      "24         8593 East Branch St., Mooresville, NC 28115  \n",
      "25            23 Lakewood Street, Lake Worth, FL 33460  \n",
      "26     7465 North Pearl St., Massapequa Park, NY 11762  \n",
      "27               89 Fairview Avenue, Hopkins, MN 55343  \n",
      "28             65 Lookout Street, Marshfield, WI 54449  \n",
      "29               854 Sussex Street, Westford, MA 01886  \n",
      "...                                                ...  \n",
      "1970                23 Hall Road, Hagerstown, MD 21740  \n",
      "1971        4 Wellington Street, Saint Louis, MO 63109  \n",
      "1972         16 East Edgewood St., Ashtabula, OH 44004  \n",
      "1973                9373 Helen Drive, Leland, NC 28451  \n",
      "1974              999 Nicolls Avenue, Oviedo, FL 32765  \n",
      "1975             671 Division Ave., Vineland, NJ 08360  \n",
      "1976        653 East Saxton Lane, Framingham, MA 01701  \n",
      "1977       9437 Longbranch Street, Rockville, MD 20850  \n",
      "1978           7110 Ridge Road, Jacksonville, NC 28540  \n",
      "1979              37 Addison St., Eastpointe, MI 48021  \n",
      "1980               739 Thomas Court, Memphis, TN 38106  \n",
      "1981           652 Pine Drive, Mountain View, CA 94043  \n",
      "1982    557 Theatre Lane, Green Cove Springs, FL 32043  \n",
      "1983  914 NW. Lawrence Street, Lawrenceville, GA 30043  \n",
      "1984       9632 NE. Lakeshore St., Riverside, NJ 08075  \n",
      "1985              750 Adams Drive, Goldsboro, NC 27530  \n",
      "1986         9652 Columbia Ave., Chattanooga, TN 37421  \n",
      "1987           8672 S. 53rd Drive, Waterford, MI 48329  \n",
      "1988           634 Cedar Swamp Ave., Burbank, IL 60459  \n",
      "1989       64 Devonshire Street, Orange Park, FL 32065  \n",
      "1990       9272 Elizabeth Drive, Londonderry, NH 03053  \n",
      "1991                524 Park Ave., Hollywood, FL 33020  \n",
      "1992         955 Glen Ridge Rd., Plattsburgh, NY 12901  \n",
      "1993     37 Augusta Lane, Montgomery Village, MD 20886  \n",
      "1994       75 Wild Horse Street, Panama City, FL 32404  \n",
      "1995             982 West Street, Alexandria, VA 22304  \n",
      "1996        78 Morris Street, East Northport, NY 11731  \n",
      "1997             30 Glenridge Rd., Bountiful, UT 84010  \n",
      "1998       342 West Meadowbrook Lane, Helena, MT 59601  \n",
      "1999            81 Homestead Drive, Voorhees, NJ 08043  \n",
      "\n",
      "[2000 rows x 8 columns]\n"
     ]
    }
   ],
   "source": [
    "print(df)"
   ]
  },
  {
   "cell_type": "code",
   "execution_count": 52,
   "metadata": {},
   "outputs": [
    {
     "data": {
      "text/html": [
       "<div>\n",
       "<style scoped>\n",
       "    .dataframe tbody tr th:only-of-type {\n",
       "        vertical-align: middle;\n",
       "    }\n",
       "\n",
       "    .dataframe tbody tr th {\n",
       "        vertical-align: top;\n",
       "    }\n",
       "\n",
       "    .dataframe thead th {\n",
       "        text-align: right;\n",
       "    }\n",
       "</style>\n",
       "<table border=\"1\" class=\"dataframe\">\n",
       "  <thead>\n",
       "    <tr style=\"text-align: right;\">\n",
       "      <th></th>\n",
       "      <th>fname</th>\n",
       "      <th>lname</th>\n",
       "      <th>gender</th>\n",
       "      <th>age</th>\n",
       "      <th>exercise</th>\n",
       "      <th>hours</th>\n",
       "      <th>grade</th>\n",
       "      <th>address</th>\n",
       "    </tr>\n",
       "  </thead>\n",
       "  <tbody>\n",
       "    <tr>\n",
       "      <th>0</th>\n",
       "      <td>Marcia</td>\n",
       "      <td>Pugh</td>\n",
       "      <td>female</td>\n",
       "      <td>17</td>\n",
       "      <td>3</td>\n",
       "      <td>10</td>\n",
       "      <td>82.4</td>\n",
       "      <td>9253 Richardson Road, Matawan, NJ 07747</td>\n",
       "    </tr>\n",
       "    <tr>\n",
       "      <th>1</th>\n",
       "      <td>Kadeem</td>\n",
       "      <td>Morrison</td>\n",
       "      <td>male</td>\n",
       "      <td>18</td>\n",
       "      <td>4</td>\n",
       "      <td>4</td>\n",
       "      <td>78.2</td>\n",
       "      <td>33 Spring Dr., Taunton, MA 02780</td>\n",
       "    </tr>\n",
       "    <tr>\n",
       "      <th>2</th>\n",
       "      <td>Nash</td>\n",
       "      <td>Powell</td>\n",
       "      <td>male</td>\n",
       "      <td>18</td>\n",
       "      <td>5</td>\n",
       "      <td>9</td>\n",
       "      <td>79.3</td>\n",
       "      <td>41 Hill Avenue, Mentor, OH 44060</td>\n",
       "    </tr>\n",
       "    <tr>\n",
       "      <th>3</th>\n",
       "      <td>Noelani</td>\n",
       "      <td>Wagner</td>\n",
       "      <td>female</td>\n",
       "      <td>14</td>\n",
       "      <td>2</td>\n",
       "      <td>7</td>\n",
       "      <td>83.2</td>\n",
       "      <td>8839 Marshall St., Miami, FL 33125</td>\n",
       "    </tr>\n",
       "    <tr>\n",
       "      <th>4</th>\n",
       "      <td>Noelani</td>\n",
       "      <td>Cherry</td>\n",
       "      <td>female</td>\n",
       "      <td>18</td>\n",
       "      <td>4</td>\n",
       "      <td>15</td>\n",
       "      <td>87.4</td>\n",
       "      <td>8304 Charles Rd., Lewis Center, OH 43035</td>\n",
       "    </tr>\n",
       "  </tbody>\n",
       "</table>\n",
       "</div>"
      ],
      "text/plain": [
       "     fname     lname  gender  age  exercise  hours  grade  \\\n",
       "0   Marcia      Pugh  female   17         3     10   82.4   \n",
       "1   Kadeem  Morrison    male   18         4      4   78.2   \n",
       "2     Nash    Powell    male   18         5      9   79.3   \n",
       "3  Noelani    Wagner  female   14         2      7   83.2   \n",
       "4  Noelani    Cherry  female   18         4     15   87.4   \n",
       "\n",
       "                                    address  \n",
       "0   9253 Richardson Road, Matawan, NJ 07747  \n",
       "1          33 Spring Dr., Taunton, MA 02780  \n",
       "2          41 Hill Avenue, Mentor, OH 44060  \n",
       "3        8839 Marshall St., Miami, FL 33125  \n",
       "4  8304 Charles Rd., Lewis Center, OH 43035  "
      ]
     },
     "execution_count": 52,
     "metadata": {},
     "output_type": "execute_result"
    }
   ],
   "source": [
    "data= \"datasets/gradedata.csv\"\n",
    "df = pd.read_csv(data)\n",
    "\n",
    "df.head()"
   ]
  },
  {
   "cell_type": "code",
   "execution_count": null,
   "metadata": {},
   "outputs": [],
   "source": []
  },
  {
   "cell_type": "code",
   "execution_count": 53,
   "metadata": {},
   "outputs": [
    {
     "data": {
      "text/plain": [
       "2000"
      ]
     },
     "execution_count": 53,
     "metadata": {},
     "output_type": "execute_result"
    }
   ],
   "source": [
    "# total number of rows in dataframe\n",
    "len(df)"
   ]
  },
  {
   "cell_type": "code",
   "execution_count": 54,
   "metadata": {},
   "outputs": [
    {
     "data": {
      "text/plain": [
       "(2000, 8)"
      ]
     },
     "execution_count": 54,
     "metadata": {},
     "output_type": "execute_result"
    }
   ],
   "source": [
    "# show the number of rows and columns in a dataframe\n",
    "# format is (# rows, # columns)\n",
    "df.shape"
   ]
  },
  {
   "cell_type": "code",
   "execution_count": 62,
   "metadata": {},
   "outputs": [
    {
     "data": {
      "text/plain": [
       "Index(['fname', 'lname', 'gender', 'age', 'exercise', 'hours', 'grade',\n",
       "       'address'],\n",
       "      dtype='object')"
      ]
     },
     "execution_count": 62,
     "metadata": {},
     "output_type": "execute_result"
    }
   ],
   "source": [
    "#show the column names in the dataset\n",
    "#or print(df.columns)\n",
    "df.columns"
   ]
  },
  {
   "cell_type": "code",
   "execution_count": 60,
   "metadata": {},
   "outputs": [
    {
     "data": {
      "text/plain": [
       "fname        object\n",
       "lname        object\n",
       "gender       object\n",
       "age           int64\n",
       "exercise      int64\n",
       "hours         int64\n",
       "grade       float64\n",
       "address      object\n",
       "dtype: object"
      ]
     },
     "execution_count": 60,
     "metadata": {},
     "output_type": "execute_result"
    }
   ],
   "source": [
    "#show the data type of each column\n",
    "df.dtypes"
   ]
  },
  {
   "cell_type": "code",
   "execution_count": 57,
   "metadata": {},
   "outputs": [
    {
     "data": {
      "text/plain": [
       "fname       2000\n",
       "lname       2000\n",
       "gender      2000\n",
       "age         2000\n",
       "exercise    2000\n",
       "hours       2000\n",
       "grade       2000\n",
       "address     2000\n",
       "dtype: int64"
      ]
     },
     "execution_count": 57,
     "metadata": {},
     "output_type": "execute_result"
    }
   ],
   "source": [
    "#number of non-null (missing) values in each column\n",
    "df.count()"
   ]
  },
  {
   "cell_type": "code",
   "execution_count": 70,
   "metadata": {},
   "outputs": [
    {
     "data": {
      "text/plain": [
       "8"
      ]
     },
     "execution_count": 70,
     "metadata": {},
     "output_type": "execute_result"
    }
   ],
   "source": [
    "len(df.columns)"
   ]
  },
  {
   "cell_type": "code",
   "execution_count": 79,
   "metadata": {},
   "outputs": [
    {
     "data": {
      "text/html": [
       "<div>\n",
       "<style scoped>\n",
       "    .dataframe tbody tr th:only-of-type {\n",
       "        vertical-align: middle;\n",
       "    }\n",
       "\n",
       "    .dataframe tbody tr th {\n",
       "        vertical-align: top;\n",
       "    }\n",
       "\n",
       "    .dataframe thead th {\n",
       "        text-align: right;\n",
       "    }\n",
       "</style>\n",
       "<table border=\"1\" class=\"dataframe\">\n",
       "  <thead>\n",
       "    <tr style=\"text-align: right;\">\n",
       "      <th></th>\n",
       "      <th>age</th>\n",
       "      <th>exercise</th>\n",
       "      <th>hours</th>\n",
       "      <th>grade</th>\n",
       "    </tr>\n",
       "    <tr>\n",
       "      <th>gender</th>\n",
       "      <th></th>\n",
       "      <th></th>\n",
       "      <th></th>\n",
       "      <th></th>\n",
       "    </tr>\n",
       "  </thead>\n",
       "  <tbody>\n",
       "    <tr>\n",
       "      <th>female</th>\n",
       "      <td>16.568</td>\n",
       "      <td>3.047</td>\n",
       "      <td>10.932</td>\n",
       "      <td>82.7173</td>\n",
       "    </tr>\n",
       "    <tr>\n",
       "      <th>male</th>\n",
       "      <td>16.589</td>\n",
       "      <td>2.954</td>\n",
       "      <td>11.045</td>\n",
       "      <td>82.3948</td>\n",
       "    </tr>\n",
       "  </tbody>\n",
       "</table>\n",
       "</div>"
      ],
      "text/plain": [
       "           age  exercise   hours    grade\n",
       "gender                                   \n",
       "female  16.568     3.047  10.932  82.7173\n",
       "male    16.589     2.954  11.045  82.3948"
      ]
     },
     "execution_count": 79,
     "metadata": {},
     "output_type": "execute_result"
    }
   ],
   "source": [
    "df.groupby('gender').mean()"
   ]
  },
  {
   "cell_type": "markdown",
   "metadata": {},
   "source": [
    "## Descriptive Statistics\n",
    "\n",
    "Descriptive statistics, also called summary statistics, are a way to get information about the characteristics of a column. Common features include the maximum and minimum values, the total (sum) of all the values, and the mean or median (measures of central tendency).\n",
    "\n",
    "To access a column in the dataframe use the dataframe variable name followed by a pair of square brackets with the name of the column (as a string) inside of it (similar to getting the value from a dictionary using a key)."
   ]
  },
  {
   "cell_type": "code",
   "execution_count": 71,
   "metadata": {},
   "outputs": [
    {
     "data": {
      "text/plain": [
       "19"
      ]
     },
     "execution_count": 71,
     "metadata": {},
     "output_type": "execute_result"
    }
   ],
   "source": [
    "# df_name['column name'] to access a column\n",
    "\n",
    "# maximum age (oldest student)\n",
    "df['age'].max()"
   ]
  },
  {
   "cell_type": "code",
   "execution_count": 87,
   "metadata": {},
   "outputs": [
    {
     "data": {
      "text/plain": [
       "14"
      ]
     },
     "execution_count": 87,
     "metadata": {},
     "output_type": "execute_result"
    }
   ],
   "source": [
    "# minimum age (youngest student)\n",
    "df['age'].min()"
   ]
  },
  {
   "cell_type": "code",
   "execution_count": 72,
   "metadata": {
    "scrolled": true
   },
   "outputs": [
    {
     "data": {
      "text/plain": [
       "33157"
      ]
     },
     "execution_count": 72,
     "metadata": {},
     "output_type": "execute_result"
    }
   ],
   "source": [
    "# total sum of ages\n",
    "df['age'].sum()"
   ]
  },
  {
   "cell_type": "markdown",
   "metadata": {},
   "source": [
    "### Mean\n",
    "Refers to the mean or average that is used to derive the central tendency of the data in question. It is determined by adding all the data points in a population and then dividing the total by the number of points. The resulting number is known as the mean or the average.\n"
   ]
  },
  {
   "cell_type": "code",
   "execution_count": 73,
   "metadata": {},
   "outputs": [
    {
     "data": {
      "text/plain": [
       "16.5785"
      ]
     },
     "execution_count": 73,
     "metadata": {},
     "output_type": "execute_result"
    }
   ],
   "source": [
    "# mean age (arithmetic average)\n",
    "df['age'].mean()"
   ]
  },
  {
   "cell_type": "code",
   "execution_count": 88,
   "metadata": {},
   "outputs": [
    {
     "data": {
      "text/html": [
       "<div>\n",
       "<style scoped>\n",
       "    .dataframe tbody tr th:only-of-type {\n",
       "        vertical-align: middle;\n",
       "    }\n",
       "\n",
       "    .dataframe tbody tr th {\n",
       "        vertical-align: top;\n",
       "    }\n",
       "\n",
       "    .dataframe thead th {\n",
       "        text-align: right;\n",
       "    }\n",
       "</style>\n",
       "<table border=\"1\" class=\"dataframe\">\n",
       "  <thead>\n",
       "    <tr style=\"text-align: right;\">\n",
       "      <th></th>\n",
       "      <th>age</th>\n",
       "      <th>hours</th>\n",
       "    </tr>\n",
       "    <tr>\n",
       "      <th>gender</th>\n",
       "      <th></th>\n",
       "      <th></th>\n",
       "    </tr>\n",
       "  </thead>\n",
       "  <tbody>\n",
       "    <tr>\n",
       "      <th>female</th>\n",
       "      <td>16.568</td>\n",
       "      <td>10.932</td>\n",
       "    </tr>\n",
       "    <tr>\n",
       "      <th>male</th>\n",
       "      <td>16.589</td>\n",
       "      <td>11.045</td>\n",
       "    </tr>\n",
       "  </tbody>\n",
       "</table>\n",
       "</div>"
      ],
      "text/plain": [
       "           age   hours\n",
       "gender                \n",
       "female  16.568  10.932\n",
       "male    16.589  11.045"
      ]
     },
     "execution_count": 88,
     "metadata": {},
     "output_type": "execute_result"
    }
   ],
   "source": [
    "df.groupby('gender').agg({\"age\":'mean', \"hours\":'mean'})"
   ]
  },
  {
   "cell_type": "markdown",
   "metadata": {},
   "source": [
    "### Median\n",
    " - The \"middle\" of a sorted list of numbers. \n",
    " - If the number of terms is odd, then the median is the value of the term in the middle.\n",
    " - If the number of terms is even, then the median is the average of the two terms in the middle"
   ]
  },
  {
   "cell_type": "code",
   "execution_count": 82,
   "metadata": {},
   "outputs": [
    {
     "data": {
      "text/plain": [
       "17.0"
      ]
     },
     "execution_count": 82,
     "metadata": {},
     "output_type": "execute_result"
    }
   ],
   "source": [
    "# middle average age (median)\n",
    "df['age'].median()"
   ]
  },
  {
   "cell_type": "markdown",
   "metadata": {},
   "source": [
    "### Mode\n",
    "- Is the value of the term that occurs the most often.\n",
    "- Sometimes there is more than one mode. This happens when two or more terms occur with equal frequency, and more often than any of the others"
   ]
  },
  {
   "cell_type": "code",
   "execution_count": 83,
   "metadata": {},
   "outputs": [
    {
     "data": {
      "text/plain": [
       "0    17\n",
       "dtype: int64"
      ]
     },
     "execution_count": 83,
     "metadata": {},
     "output_type": "execute_result"
    }
   ],
   "source": [
    "# mode age (most frequently occuring) of all students\n",
    "# can have two or more most frequent values\n",
    "df['age'].mode()"
   ]
  },
  {
   "cell_type": "markdown",
   "metadata": {},
   "source": [
    "### Standard deviation\n",
    "- Is a measure of the amount of variation or dispersion of a set of values.[1] A low standard deviation indicates that the values tend to be close to the mean (also called the expected value) of the set, while a high standard deviation indicates that the values are spread out over a wider range.\n",
    "- In statistics, the 68–95–99.7 rule, also known as the empirical rule, is a shorthand used to remember the percentage of values that lie within a band around the mean in a normal distribution \n",
    "\n",
    "Calculate Standard Deviation\n",
    "\n",
    "<img src=\" https://www.thoughtco.com/thmb/GVy7U2pn2FP2Tut4MG53ZiCgOCQ=/768x0/filters:no_upscale():max_bytes(150000):strip_icc():format(webp)/calculate-a-sample-standard-deviation-3126345-v4-CS-01-5b76f58f46e0fb0050bb4ab2.png\">\n",
    "\n",
    "\n",
    "- The mean value is calculated by adding all the data points and dividing by the number of data points.\n",
    "- The variance for each data point is calculated, first by subtracting the value of the data point from the mean. Each of those resulting values is then squared and the results summed. The result is then divided by the number of data points less one.\n",
    "- The square root of the variance—result from no. 2—is then taken to find the standard deviation.\n",
    "\n",
    "\n"
   ]
  },
  {
   "cell_type": "code",
   "execution_count": 75,
   "metadata": {},
   "outputs": [
    {
     "data": {
      "text/plain": [
       "1.6962536332147102"
      ]
     },
     "execution_count": 75,
     "metadata": {},
     "output_type": "execute_result"
    }
   ],
   "source": [
    "# standard deviation (distance away from mean)\n",
    "df['age'].std()"
   ]
  },
  {
   "cell_type": "markdown",
   "metadata": {},
   "source": [
    "#### Describe function\n",
    "df.describe()\n",
    "\n",
    "- NaN values has been ignored while calculating these statistical values.\n",
    "- It excludes character column and calculate summary statistics only for numeric columns\n",
    "- Function gives the mean, std and IQR values. \n",
    "- The interquartile range (IQR) is the difference between the 75th and 25th percentile of the data. It is a measure of the dispersion similar to standard deviation or variance, but is much more robust against outliers."
   ]
  },
  {
   "cell_type": "code",
   "execution_count": 84,
   "metadata": {},
   "outputs": [
    {
     "data": {
      "text/html": [
       "<div>\n",
       "<style scoped>\n",
       "    .dataframe tbody tr th:only-of-type {\n",
       "        vertical-align: middle;\n",
       "    }\n",
       "\n",
       "    .dataframe tbody tr th {\n",
       "        vertical-align: top;\n",
       "    }\n",
       "\n",
       "    .dataframe thead th {\n",
       "        text-align: right;\n",
       "    }\n",
       "</style>\n",
       "<table border=\"1\" class=\"dataframe\">\n",
       "  <thead>\n",
       "    <tr style=\"text-align: right;\">\n",
       "      <th></th>\n",
       "      <th>age</th>\n",
       "      <th>exercise</th>\n",
       "      <th>hours</th>\n",
       "      <th>grade</th>\n",
       "    </tr>\n",
       "  </thead>\n",
       "  <tbody>\n",
       "    <tr>\n",
       "      <th>count</th>\n",
       "      <td>2000.000000</td>\n",
       "      <td>2000.000000</td>\n",
       "      <td>2000.000000</td>\n",
       "      <td>2000.000000</td>\n",
       "    </tr>\n",
       "    <tr>\n",
       "      <th>mean</th>\n",
       "      <td>16.578500</td>\n",
       "      <td>3.000500</td>\n",
       "      <td>10.988500</td>\n",
       "      <td>82.556050</td>\n",
       "    </tr>\n",
       "    <tr>\n",
       "      <th>std</th>\n",
       "      <td>1.696254</td>\n",
       "      <td>1.423205</td>\n",
       "      <td>4.063942</td>\n",
       "      <td>9.747593</td>\n",
       "    </tr>\n",
       "    <tr>\n",
       "      <th>min</th>\n",
       "      <td>14.000000</td>\n",
       "      <td>0.000000</td>\n",
       "      <td>0.000000</td>\n",
       "      <td>32.000000</td>\n",
       "    </tr>\n",
       "    <tr>\n",
       "      <th>25%</th>\n",
       "      <td>15.000000</td>\n",
       "      <td>2.000000</td>\n",
       "      <td>8.000000</td>\n",
       "      <td>75.575000</td>\n",
       "    </tr>\n",
       "    <tr>\n",
       "      <th>50%</th>\n",
       "      <td>17.000000</td>\n",
       "      <td>3.000000</td>\n",
       "      <td>11.000000</td>\n",
       "      <td>82.700000</td>\n",
       "    </tr>\n",
       "    <tr>\n",
       "      <th>75%</th>\n",
       "      <td>18.000000</td>\n",
       "      <td>4.000000</td>\n",
       "      <td>14.000000</td>\n",
       "      <td>89.700000</td>\n",
       "    </tr>\n",
       "    <tr>\n",
       "      <th>max</th>\n",
       "      <td>19.000000</td>\n",
       "      <td>5.000000</td>\n",
       "      <td>20.000000</td>\n",
       "      <td>100.000000</td>\n",
       "    </tr>\n",
       "  </tbody>\n",
       "</table>\n",
       "</div>"
      ],
      "text/plain": [
       "               age     exercise        hours        grade\n",
       "count  2000.000000  2000.000000  2000.000000  2000.000000\n",
       "mean     16.578500     3.000500    10.988500    82.556050\n",
       "std       1.696254     1.423205     4.063942     9.747593\n",
       "min      14.000000     0.000000     0.000000    32.000000\n",
       "25%      15.000000     2.000000     8.000000    75.575000\n",
       "50%      17.000000     3.000000    11.000000    82.700000\n",
       "75%      18.000000     4.000000    14.000000    89.700000\n",
       "max      19.000000     5.000000    20.000000   100.000000"
      ]
     },
     "execution_count": 84,
     "metadata": {},
     "output_type": "execute_result"
    }
   ],
   "source": [
    "#descriptive statistics\n",
    "df.describe()"
   ]
  },
  {
   "cell_type": "code",
   "execution_count": 90,
   "metadata": {},
   "outputs": [
    {
     "data": {
      "text/plain": [
       "array(['9253 Richardson Road, Matawan, NJ 07747',\n",
       "       '33 Spring Dr., Taunton, MA 02780',\n",
       "       '41 Hill Avenue, Mentor, OH 44060', ...,\n",
       "       '30 Glenridge Rd., Bountiful, UT 84010',\n",
       "       '342 West Meadowbrook Lane, Helena, MT 59601',\n",
       "       '81 Homestead Drive, Voorhees, NJ 08043'], dtype=object)"
      ]
     },
     "execution_count": 90,
     "metadata": {},
     "output_type": "execute_result"
    }
   ],
   "source": [
    "#unique ages (distinct values)\n",
    "df['address'].unique()"
   ]
  },
  {
   "cell_type": "code",
   "execution_count": 89,
   "metadata": {},
   "outputs": [
    {
     "data": {
      "text/plain": [
       "array(['Pugh', 'Morrison', 'Powell', 'Wagner', 'Cherry', 'Whitley',\n",
       "       'Golden', 'Hoffman', 'Rojas', 'Wooten', 'Alvarez', 'Velazquez',\n",
       "       'Warren', 'Velasquez', 'Poole', 'Mccarthy', 'Gates', 'Guzman',\n",
       "       'Rosario', 'Tate', 'Case', 'Whitfield', 'Benjamin', 'Skinner',\n",
       "       'Cohen', 'Mcpherson', 'Collier', 'Mccall', 'Newman', 'Acosta',\n",
       "       'Munoz', 'Melendez', 'Larsen', 'Sexton', 'Arnold', 'Jacobs',\n",
       "       'Brock', 'Sears', 'Cunningham', 'Copeland', 'Guerrero', 'Hamilton',\n",
       "       'Ford', 'Melton', 'Castaneda', 'Bullock', 'Clayton', 'Klein',\n",
       "       'Chambers', 'Goff', 'Walker', 'Livingston', 'Fuller', 'Kline',\n",
       "       'Dunlap', 'Sosa', 'Harvey', 'Vaughn', 'Mooney', 'Lowery', 'Adkins',\n",
       "       'Roman', 'Thompson', 'Pope', 'Foley', 'Morris', 'Patrick',\n",
       "       'Benson', 'Berger', 'Briggs', 'Bowers', 'Oconnor', 'Maldonado',\n",
       "       'Lopez', 'Justice', 'Guthrie', 'Pacheco', 'Lyons', 'Holden',\n",
       "       'Rich', 'Villarreal', 'Hopkins', 'Ware', 'Gutierrez', 'Molina',\n",
       "       'Herrera', 'Campbell', 'Rosales', 'Craig', 'Lara', 'Mcconnell',\n",
       "       'Mckinney', 'Cooke', 'Hughes', 'Johnston', 'Howell', 'Morton',\n",
       "       'Cleveland', 'Key', 'Mitchell', 'Park', 'Donaldson', 'Haley',\n",
       "       'Gordon', 'Howard', 'Rollins', 'Barlow', 'Terrell', 'Ratliff',\n",
       "       'Osborne', 'Watkins', 'Wilkerson', 'Wilson', 'Hayden', 'Vaughan',\n",
       "       'Romero', 'Rice', 'Sullivan', 'Gray', 'Jennings', 'Jones',\n",
       "       'Mcfadden', 'Payne', 'Smith', 'Shannon', 'Mcdowell', 'Schultz',\n",
       "       'Harrington', 'Wall', 'Bowman', 'Castro', 'Duran', 'Lawrence',\n",
       "       'Bird', 'Koch', 'Flynn', 'Salas', 'Hardy', 'Sharp', 'Weber',\n",
       "       'Walters', 'Mays', 'Wells', 'Hart', 'Callahan', 'Gilbert', 'Le',\n",
       "       'Holt', 'Welch', 'Strickland', 'Miranda', 'Ramos', 'Palmer',\n",
       "       'Weaver', 'Preston', 'Johns', 'Farrell', 'Kaufman', 'Washington',\n",
       "       'Meadows', 'Mclean', 'Tucker', 'Stuart', 'Bonner', 'Deleon', 'Cox',\n",
       "       'Padilla', 'Daugherty', 'Beach', 'George', 'David', 'Hess',\n",
       "       'Mcdonald', 'Salazar', 'Drake', 'Eaton', 'Carey', 'Wade',\n",
       "       'Aguilar', 'Snyder', 'Burris', 'Webster', 'Calderon', 'Rose',\n",
       "       'Goodman', 'Stevens', 'Gonzales', 'Ayala', 'Malone', 'Workman',\n",
       "       'Zimmerman', 'Stark', 'Knowles', 'Raymond', 'Bishop', 'Ray',\n",
       "       'Cote', 'Silva', 'Schmidt', 'Coffey', 'Hansen', 'Kirkland',\n",
       "       'Navarro', 'Delacruz', 'Cummings', 'Mcgowan', 'Hays', 'Castillo',\n",
       "       'Snider', 'Delaney', 'Nicholson', 'Mullins', 'Moon', 'Morse',\n",
       "       'Wolf', 'Jenkins', 'Hester', 'Logan', 'Herring', 'Russell',\n",
       "       'Donovan', 'Rivers', 'Ryan', 'Gallagher', 'Middleton', 'Hammond',\n",
       "       'Day', 'Ward', 'Peck', 'Moreno', 'Oneal', 'Russo', 'Kennedy',\n",
       "       'Downs', 'Shaw', 'Dominguez', 'Hewitt', 'Lynn', 'Ramsey',\n",
       "       'Merritt', 'Mayer', 'Hinton', 'Phillips', 'Nunez', 'Combs',\n",
       "       'Marshall', 'Garcia', 'Dickson', 'Estrada', 'Espinoza', 'Cruz',\n",
       "       'Dotson', 'Chang', 'Rowland', 'Vincent', 'Bowen', 'Branch',\n",
       "       'Allison', 'Warner', 'Higgins', 'Vargas', 'Mendez', 'Boyle',\n",
       "       'Walton', 'Barton', 'Ellis', 'Schroeder', 'King', 'Fletcher',\n",
       "       'Dorsey', 'Hogan', 'Reed', 'Rios', 'Kirk', 'Garrison', 'Webb',\n",
       "       'Tran', 'Williamson', 'Morales', 'Randall', 'Wilkins', 'Cain',\n",
       "       'Petersen', 'Carson', 'Perez', 'Everett', 'Rodriquez', 'Wolfe',\n",
       "       'Harper', 'Hall', 'West', 'Collins', 'Christian', 'Nielsen',\n",
       "       'Santiago', 'Harrell', 'Horton', 'Hensley', 'Ballard', 'Valdez',\n",
       "       'Sparks', 'Ball', 'Santana', 'Gonzalez', 'Douglas', 'Hoover',\n",
       "       'Horne', 'Wheeler', 'Solomon', 'Rodgers', 'Dawson', 'Sharpe',\n",
       "       'Trevino', 'Blanchard', 'Diaz', 'Finch', 'Winters', 'Knapp',\n",
       "       'Kinney', 'Hurley', 'Bell', 'Avery', 'Jacobson', 'Ochoa',\n",
       "       'Dickerson', 'Boyer', 'Mcmillan', 'Jordan', 'Dodson', 'Lawson',\n",
       "       'Church', 'Becker', 'Mcmahon', 'Vega', 'Crane', 'Alexander',\n",
       "       'Baldwin', 'Huber', 'Frye', 'Potts', 'Reeves', 'Rodriguez',\n",
       "       'Ferrell', 'Christensen', 'Beck', 'Hanson', 'Austin', 'Snow',\n",
       "       'Wilkinson', 'Moses', 'Sloan', 'Grant', 'Prince', 'Carver',\n",
       "       'Sweeney', 'Bradshaw', 'Bender', 'Finley', 'Stout', 'Spears',\n",
       "       'Murphy', 'Parrish', 'Fernandez', 'Stephenson', 'Love', 'Shepherd',\n",
       "       'Juarez', 'Bond', 'Kelley', 'Coleman', 'Bryan', 'Freeman',\n",
       "       'Manning', 'Vang', 'Mcguire', 'Estes', 'Hodge', 'Henderson',\n",
       "       'Gibbs', 'Parsons', 'Brady', 'Stewart', 'Sanchez', 'Waller',\n",
       "       'Woodward', 'Sherman', 'Carpenter', 'Crawford', 'Mcgee', 'Watts',\n",
       "       'Mcbride', 'Clarke', 'Alford', 'Kent', 'Lang', 'Fields', 'Kelly',\n",
       "       'Suarez', 'Oliver', 'Townsend', 'Lane', 'Paul', 'Keller',\n",
       "       'Gilmore', 'Salinas', 'Leon', 'Vasquez', 'Mccormick', 'Burton',\n",
       "       'Vance', 'Bass', 'Greene', 'Carlson', 'Buckner', 'Sheppard',\n",
       "       'Patel', 'Mills', 'Conrad', 'Maynard', 'Taylor', 'Walter', 'Hines',\n",
       "       'Cotton', 'Humphrey', 'Nieves', 'Reese', 'Madden', 'Porter',\n",
       "       'Hull', 'Hudson', 'Cantrell', 'Giles', 'Huff', 'Odom', 'Daniels',\n",
       "       'Tyson', 'Burt', 'Bradley', 'Reilly', 'Holder', 'Pierce',\n",
       "       'Underwood', 'Duke', 'Green', 'Marsh', 'Ashley', 'Murray', 'Rush',\n",
       "       'Berry', 'Tanner', 'Fowler', 'Gillespie', 'Riggs', 'Cortez',\n",
       "       'Crosby', 'Odonnell', 'Singleton', 'Cobb', 'Franks', 'Whitaker',\n",
       "       'Vazquez', 'Puckett', 'Zamora', 'Lynch', 'Holman', 'Knox',\n",
       "       'Benton', 'Buchanan', 'Willis', 'House', 'Cooley', 'Maddox',\n",
       "       'Wise', 'Barr', 'Bruce', 'Charles', 'Hendricks', 'Heath', 'Steele',\n",
       "       'Fisher', 'Rowe', 'Gay', 'Burgess', 'Mullen', 'Stafford',\n",
       "       'Elliott', 'Nichols', 'Moss', 'James', 'Landry', 'Sims', 'Hyde',\n",
       "       'Valenzuela', 'Campos', 'Frazier', 'Haynes', 'Moran', 'Bailey',\n",
       "       'Hayes', 'Ingram', 'Gould', 'Burke', 'Miles', 'Dillon', 'Marquez',\n",
       "       'Parks', 'Myers', 'Pearson', 'Roberson', 'Walsh', 'Sellers',\n",
       "       'Calhoun', 'Curry', 'Aguirre', 'Ruiz', 'Turner', 'Decker',\n",
       "       'Rasmussen', 'Davenport', 'Holcomb', 'Ramirez', 'Joyce', 'Wiley',\n",
       "       'Bennett', 'Merrill', 'Mueller', 'Graves', 'Harding', 'Stone',\n",
       "       'Marks', 'Goodwin', 'Fitzgerald', 'Acevedo', 'Maxwell',\n",
       "       'Blackburn', 'Lambert', 'Lewis', 'Sandoval', 'Page', 'Harmon',\n",
       "       'Mclaughlin', 'Thomas', 'York', 'Riley', 'Britt', 'Franklin',\n",
       "       'Greer', 'Sanders', 'Cervantes', 'Kim', 'Talley', 'Craft',\n",
       "       'Little', 'Potter', 'Reyes', 'Conley', 'Mercado', 'Edwards',\n",
       "       'White', 'Cameron', 'Atkins', 'Trujillo', 'Mckay', 'Serrano',\n",
       "       'Pratt', 'Gaines', 'Stephens', 'Barron', 'Davidson', 'Noble',\n",
       "       'Francis', 'Buck', 'Ross', 'Hahn', 'Griffin', 'Wilder', 'Garrett',\n",
       "       'Slater', 'Gibson', 'Olson', 'Simmons', 'Casey', 'Davis', 'Pruitt',\n",
       "       'Bean', 'Armstrong', 'Cross', 'Valentine', 'Cannon', 'Ellison',\n",
       "       'Mack', 'Graham', 'Barber', 'Massey', 'Gilliam', 'Hopper', 'Woods',\n",
       "       'Scott', 'Chase', 'Blake', 'Cardenas', 'Evans', 'Cole', 'Hawkins',\n",
       "       'Lloyd', 'Michael', 'Osborn', 'Hebert', 'Perry', 'Keith', 'Cantu',\n",
       "       'Frank', 'Small', 'Roth', 'Phelps', 'Parker', 'Clay', 'Pate',\n",
       "       'Flores', 'Shields', 'Barry', 'Boyd', 'Moore', 'Mathis',\n",
       "       'Hatfield', 'Byers', 'Vinson', 'Kirby', 'Dillard', 'Bradford',\n",
       "       'Oneill', 'Contreras', 'Robles', 'Simon', 'Caldwell', 'Brennan',\n",
       "       'Emerson', 'Fitzpatrick', 'Martinez', 'Frost', 'Pickett',\n",
       "       'Lindsey', 'Rhodes', 'Horn', 'Avila', 'Luna', 'Barker', 'Noel',\n",
       "       'Morrow', 'Bryant', 'Chapman', 'Erickson', 'Spence', 'Martin',\n",
       "       'Baker', 'Guerra', 'Short', 'Reynolds', 'Battle', 'Waters',\n",
       "       'Dejesus', 'Newton', 'Doyle', 'Guy', 'Faulkner', 'Mendoza',\n",
       "       'Farmer', 'Galloway', 'Joyner', 'Medina', 'Wiggins', 'Yates',\n",
       "       'Gill', 'Kane', 'Conner', 'Mcleod', 'Hendrix', 'Hale', 'Foreman',\n",
       "       'Barnett', 'Glass', 'Brewer', 'Lott', 'Lucas', 'Neal', 'Olsen',\n",
       "       'Barrera', 'Banks', 'Carter', 'Mejia', 'Todd', 'Shelton', 'Orr',\n",
       "       'Blair', 'Knight', 'Hardin', 'Colon', 'Holloway', 'Richmond',\n",
       "       'Stanley', 'Foster', 'Nelson', 'Richardson', 'Nolan', 'Baird',\n",
       "       'Roach', 'Wyatt', 'Garner', 'Mccarty', 'Roy', 'Carrillo',\n",
       "       'Browning', 'Mcintosh', 'Macias', 'Brooks', 'Hunter', 'Johnson',\n",
       "       'Hernandez', 'Cline', 'Sutton', 'Rosa', 'Fuentes', 'Fleming',\n",
       "       'Beasley', 'Kramer', 'Swanson', 'Macdonald', 'Chen', 'Leonard',\n",
       "       'Witt', 'Albert', 'Gross', 'Chan', 'Blackwell', 'Wilcox', 'Ewing',\n",
       "       'Rutledge', 'Wynn', 'Long', 'Jensen', 'Boone', 'Huffman',\n",
       "       'Richard', 'Mccullough', 'Sweet', 'Pittman', 'Whitney', 'Fischer',\n",
       "       'Norman', 'Lamb', 'Jarvis', 'Matthews', 'Mann', 'Frederick',\n",
       "       'Owen', 'Clemons', 'Hooper', 'Tillman', 'Wright', 'Mcneil',\n",
       "       'Cochran', 'Henry', 'Duffy', 'Bright', 'Sampson', 'Hubbard',\n",
       "       'Norris', 'Flowers', 'Atkinson', 'Jimenez', 'Stein', 'Shepard',\n",
       "       'Dudley', 'Dean', 'Irwin', 'Kidd', 'Head', 'Travis', 'Leblanc',\n",
       "       'Burks', 'Grimes', 'Chandler', 'Mayo', 'Duncan', 'Garza',\n",
       "       'Whitehead', 'Meyer', 'Anderson', 'Butler', 'Lester', 'Booth',\n",
       "       'Brown', 'Reid', 'Rogers', 'Riddle', 'Buckley', 'Watson',\n",
       "       'Schwartz', 'Sawyer', 'Pace', 'Mason', 'Tyler', 'Glover',\n",
       "       'Montgomery', 'Walls', 'Lindsay', 'Pollard', 'Shaffer', 'Mccray',\n",
       "       'Dennis', 'Dalton', 'Sykes', 'Strong', 'Langley', 'Ferguson',\n",
       "       'Burch', 'Cash', 'Jackson', 'Harrison', 'Conway', 'Clark', 'Allen',\n",
       "       'Hill', 'Durham', 'Bernard', 'Hodges', 'Mcclure', 'Nash', 'Petty',\n",
       "       'Norton', 'Rivera', 'Obrien', 'Holmes', 'Sanford', 'Monroe',\n",
       "       'French', 'Savage', 'Ortiz', 'Wood', 'Hartman', 'Joseph',\n",
       "       'Bridges', 'Mcdaniel', 'Mosley', 'Ayers', 'Bentley', 'Perkins',\n",
       "       'Carr', 'Hutchinson', 'Terry', 'Patterson', 'Quinn', 'Byrd',\n",
       "       'Bartlett', 'Montoya', 'Howe', 'Delgado', 'Lowe', 'Cook', 'Farley',\n",
       "       'Harris', 'Levine', 'Price', 'Good', 'Santos', 'Valencia',\n",
       "       'Richards', 'Robinson', 'Stevenson', 'Barnes', 'Roberts',\n",
       "       'Holland', 'Oneil', 'Woodard', 'Randolph', 'Mccoy', 'Peterson'],\n",
       "      dtype=object)"
      ]
     },
     "execution_count": 89,
     "metadata": {},
     "output_type": "execute_result"
    }
   ],
   "source": [
    "df['lname'].unique()"
   ]
  },
  {
   "cell_type": "code",
   "execution_count": 86,
   "metadata": {},
   "outputs": [
    {
     "data": {
      "text/plain": [
       "17    356\n",
       "18    349\n",
       "19    345\n",
       "16    334\n",
       "14    316\n",
       "15    300\n",
       "Name: age, dtype: int64"
      ]
     },
     "execution_count": 86,
     "metadata": {},
     "output_type": "execute_result"
    }
   ],
   "source": [
    "# how many students are in each age group\n",
    "# first value is the mode\n",
    "df['age'].value_counts()"
   ]
  },
  {
   "cell_type": "markdown",
   "metadata": {},
   "source": [
    "### Summary statistics by group categories\n",
    "\n",
    "While descriptive statistics can show a general overview about a dataset, calculating statistics for different categories within a feature (column) can identify patterns and trends specific to that group. The `.groupby()` and `.pivot_table()` functions both communicate statistical information within a particular demographic.\n",
    "\n",
    "#### groupby() function \n",
    "- Is used to split the data into groups based on some criteria"
   ]
  },
  {
   "cell_type": "code",
   "execution_count": 92,
   "metadata": {},
   "outputs": [
    {
     "data": {
      "text/plain": [
       "<pandas.core.groupby.generic.DataFrameGroupBy object at 0x000001BA479FF710>"
      ]
     },
     "execution_count": 92,
     "metadata": {},
     "output_type": "execute_result"
    }
   ],
   "source": [
    "# doesn't do anything on its own\n",
    "# groupby function must be combined with a statistical calculation\n",
    "df.groupby('gender')"
   ]
  },
  {
   "cell_type": "code",
   "execution_count": 93,
   "metadata": {},
   "outputs": [
    {
     "data": {
      "text/html": [
       "<div>\n",
       "<style scoped>\n",
       "    .dataframe tbody tr th:only-of-type {\n",
       "        vertical-align: middle;\n",
       "    }\n",
       "\n",
       "    .dataframe tbody tr th {\n",
       "        vertical-align: top;\n",
       "    }\n",
       "\n",
       "    .dataframe thead th {\n",
       "        text-align: right;\n",
       "    }\n",
       "</style>\n",
       "<table border=\"1\" class=\"dataframe\">\n",
       "  <thead>\n",
       "    <tr style=\"text-align: right;\">\n",
       "      <th></th>\n",
       "      <th>age</th>\n",
       "      <th>exercise</th>\n",
       "      <th>hours</th>\n",
       "      <th>grade</th>\n",
       "    </tr>\n",
       "    <tr>\n",
       "      <th>gender</th>\n",
       "      <th></th>\n",
       "      <th></th>\n",
       "      <th></th>\n",
       "      <th></th>\n",
       "    </tr>\n",
       "  </thead>\n",
       "  <tbody>\n",
       "    <tr>\n",
       "      <th>female</th>\n",
       "      <td>16.568</td>\n",
       "      <td>3.047</td>\n",
       "      <td>10.932</td>\n",
       "      <td>82.7173</td>\n",
       "    </tr>\n",
       "    <tr>\n",
       "      <th>male</th>\n",
       "      <td>16.589</td>\n",
       "      <td>2.954</td>\n",
       "      <td>11.045</td>\n",
       "      <td>82.3948</td>\n",
       "    </tr>\n",
       "  </tbody>\n",
       "</table>\n",
       "</div>"
      ],
      "text/plain": [
       "           age  exercise   hours    grade\n",
       "gender                                   \n",
       "female  16.568     3.047  10.932  82.7173\n",
       "male    16.589     2.954  11.045  82.3948"
      ]
     },
     "execution_count": 93,
     "metadata": {},
     "output_type": "execute_result"
    }
   ],
   "source": [
    "# creates table of averages per gender category for all numerical-type columns \n",
    "df.groupby(df['gender']).mean()"
   ]
  },
  {
   "cell_type": "code",
   "execution_count": 94,
   "metadata": {},
   "outputs": [
    {
     "data": {
      "text/plain": [
       "gender\n",
       "female    10.932\n",
       "male      11.045\n",
       "Name: hours, dtype: float64"
      ]
     },
     "execution_count": 94,
     "metadata": {},
     "output_type": "execute_result"
    }
   ],
   "source": [
    "# average hours per gender group\n",
    "df.groupby(df['gender'])['hours'].mean()"
   ]
  },
  {
   "cell_type": "code",
   "execution_count": 95,
   "metadata": {},
   "outputs": [
    {
     "data": {
      "text/html": [
       "<div>\n",
       "<style scoped>\n",
       "    .dataframe tbody tr th:only-of-type {\n",
       "        vertical-align: middle;\n",
       "    }\n",
       "\n",
       "    .dataframe tbody tr th {\n",
       "        vertical-align: top;\n",
       "    }\n",
       "\n",
       "    .dataframe thead th {\n",
       "        text-align: right;\n",
       "    }\n",
       "</style>\n",
       "<table border=\"1\" class=\"dataframe\">\n",
       "  <thead>\n",
       "    <tr style=\"text-align: right;\">\n",
       "      <th></th>\n",
       "      <th>hours</th>\n",
       "      <th>exercise</th>\n",
       "    </tr>\n",
       "    <tr>\n",
       "      <th>gender</th>\n",
       "      <th></th>\n",
       "      <th></th>\n",
       "    </tr>\n",
       "  </thead>\n",
       "  <tbody>\n",
       "    <tr>\n",
       "      <th>female</th>\n",
       "      <td>10.932</td>\n",
       "      <td>3.047</td>\n",
       "    </tr>\n",
       "    <tr>\n",
       "      <th>male</th>\n",
       "      <td>11.045</td>\n",
       "      <td>2.954</td>\n",
       "    </tr>\n",
       "  </tbody>\n",
       "</table>\n",
       "</div>"
      ],
      "text/plain": [
       "         hours  exercise\n",
       "gender                  \n",
       "female  10.932     3.047\n",
       "male    11.045     2.954"
      ]
     },
     "execution_count": 95,
     "metadata": {},
     "output_type": "execute_result"
    }
   ],
   "source": [
    "# average hours and exercise per gender group\n",
    "df.groupby(df['gender'])['hours', 'exercise'].mean()"
   ]
  },
  {
   "cell_type": "code",
   "execution_count": 96,
   "metadata": {},
   "outputs": [
    {
     "data": {
      "text/plain": [
       "gender  age\n",
       "female  14     10.658228\n",
       "        15     11.050633\n",
       "        16     11.158228\n",
       "        17     10.943503\n",
       "        18     10.950549\n",
       "        19     10.832335\n",
       "male    14     11.170886\n",
       "        15     10.866197\n",
       "        16     11.465909\n",
       "        17     11.268156\n",
       "        18     10.856287\n",
       "        19     10.612360\n",
       "Name: hours, dtype: float64"
      ]
     },
     "execution_count": 96,
     "metadata": {},
     "output_type": "execute_result"
    }
   ],
   "source": [
    "# first group by gender then group by age category\n",
    "# average hours of study by gender and age\n",
    "df.groupby(['gender', 'age'])['hours'].mean()"
   ]
  },
  {
   "cell_type": "code",
   "execution_count": 97,
   "metadata": {},
   "outputs": [
    {
     "data": {
      "text/plain": [
       "age  gender\n",
       "14   female    82.058228\n",
       "     male      82.323418\n",
       "15   female    82.905696\n",
       "     male      82.671831\n",
       "16   female    82.582278\n",
       "     male      82.752841\n",
       "17   female    83.599435\n",
       "     male      82.949721\n",
       "18   female    82.500000\n",
       "     male      82.103593\n",
       "19   female    82.592216\n",
       "     male      81.598315\n",
       "Name: grade, dtype: float64"
      ]
     },
     "execution_count": 97,
     "metadata": {},
     "output_type": "execute_result"
    }
   ],
   "source": [
    "df.groupby(['age','gender'])['grade'].mean()"
   ]
  },
  {
   "cell_type": "markdown",
   "metadata": {},
   "source": [
    "### Pivot table\n",
    "- This tool enabled users to automatically sort, count, total, or average the data stored in one table"
   ]
  },
  {
   "cell_type": "code",
   "execution_count": 98,
   "metadata": {},
   "outputs": [
    {
     "data": {
      "text/html": [
       "<div>\n",
       "<style scoped>\n",
       "    .dataframe tbody tr th:only-of-type {\n",
       "        vertical-align: middle;\n",
       "    }\n",
       "\n",
       "    .dataframe tbody tr th {\n",
       "        vertical-align: top;\n",
       "    }\n",
       "\n",
       "    .dataframe thead th {\n",
       "        text-align: right;\n",
       "    }\n",
       "</style>\n",
       "<table border=\"1\" class=\"dataframe\">\n",
       "  <thead>\n",
       "    <tr style=\"text-align: right;\">\n",
       "      <th></th>\n",
       "      <th>age</th>\n",
       "      <th>exercise</th>\n",
       "      <th>grade</th>\n",
       "      <th>hours</th>\n",
       "    </tr>\n",
       "    <tr>\n",
       "      <th>gender</th>\n",
       "      <th></th>\n",
       "      <th></th>\n",
       "      <th></th>\n",
       "      <th></th>\n",
       "    </tr>\n",
       "  </thead>\n",
       "  <tbody>\n",
       "    <tr>\n",
       "      <th>female</th>\n",
       "      <td>16.568</td>\n",
       "      <td>3.047</td>\n",
       "      <td>82.7173</td>\n",
       "      <td>10.932</td>\n",
       "    </tr>\n",
       "    <tr>\n",
       "      <th>male</th>\n",
       "      <td>16.589</td>\n",
       "      <td>2.954</td>\n",
       "      <td>82.3948</td>\n",
       "      <td>11.045</td>\n",
       "    </tr>\n",
       "  </tbody>\n",
       "</table>\n",
       "</div>"
      ],
      "text/plain": [
       "           age  exercise    grade   hours\n",
       "gender                                   \n",
       "female  16.568     3.047  82.7173  10.932\n",
       "male    16.589     2.954  82.3948  11.045"
      ]
     },
     "execution_count": 98,
     "metadata": {},
     "output_type": "execute_result"
    }
   ],
   "source": [
    "#pivot table default sta tistical function is mean\n",
    "pd.pivot_table(df, index=['gender'])"
   ]
  },
  {
   "cell_type": "code",
   "execution_count": 99,
   "metadata": {},
   "outputs": [
    {
     "data": {
      "text/html": [
       "<div>\n",
       "<style scoped>\n",
       "    .dataframe tbody tr th:only-of-type {\n",
       "        vertical-align: middle;\n",
       "    }\n",
       "\n",
       "    .dataframe tbody tr th {\n",
       "        vertical-align: top;\n",
       "    }\n",
       "\n",
       "    .dataframe thead th {\n",
       "        text-align: right;\n",
       "    }\n",
       "</style>\n",
       "<table border=\"1\" class=\"dataframe\">\n",
       "  <thead>\n",
       "    <tr style=\"text-align: right;\">\n",
       "      <th></th>\n",
       "      <th>age</th>\n",
       "      <th>exercise</th>\n",
       "      <th>grade</th>\n",
       "      <th>hours</th>\n",
       "    </tr>\n",
       "    <tr>\n",
       "      <th>gender</th>\n",
       "      <th></th>\n",
       "      <th></th>\n",
       "      <th></th>\n",
       "      <th></th>\n",
       "    </tr>\n",
       "  </thead>\n",
       "  <tbody>\n",
       "    <tr>\n",
       "      <th>female</th>\n",
       "      <td>17</td>\n",
       "      <td>3</td>\n",
       "      <td>82.6</td>\n",
       "      <td>11</td>\n",
       "    </tr>\n",
       "    <tr>\n",
       "      <th>male</th>\n",
       "      <td>17</td>\n",
       "      <td>3</td>\n",
       "      <td>83.0</td>\n",
       "      <td>11</td>\n",
       "    </tr>\n",
       "  </tbody>\n",
       "</table>\n",
       "</div>"
      ],
      "text/plain": [
       "        age  exercise  grade  hours\n",
       "gender                             \n",
       "female   17         3   82.6     11\n",
       "male     17         3   83.0     11"
      ]
     },
     "execution_count": 99,
     "metadata": {},
     "output_type": "execute_result"
    }
   ],
   "source": [
    "# change statistical function to median\n",
    "pd.pivot_table(df, index=['gender'], aggfunc='median')"
   ]
  },
  {
   "cell_type": "code",
   "execution_count": 103,
   "metadata": {},
   "outputs": [
    {
     "data": {
      "text/html": [
       "<div>\n",
       "<style scoped>\n",
       "    .dataframe tbody tr th:only-of-type {\n",
       "        vertical-align: middle;\n",
       "    }\n",
       "\n",
       "    .dataframe tbody tr th {\n",
       "        vertical-align: top;\n",
       "    }\n",
       "\n",
       "    .dataframe thead th {\n",
       "        text-align: right;\n",
       "    }\n",
       "</style>\n",
       "<table border=\"1\" class=\"dataframe\">\n",
       "  <thead>\n",
       "    <tr style=\"text-align: right;\">\n",
       "      <th></th>\n",
       "      <th>age</th>\n",
       "    </tr>\n",
       "    <tr>\n",
       "      <th>gender</th>\n",
       "      <th></th>\n",
       "    </tr>\n",
       "  </thead>\n",
       "  <tbody>\n",
       "    <tr>\n",
       "      <th>female</th>\n",
       "      <td>16.568</td>\n",
       "    </tr>\n",
       "    <tr>\n",
       "      <th>male</th>\n",
       "      <td>16.589</td>\n",
       "    </tr>\n",
       "  </tbody>\n",
       "</table>\n",
       "</div>"
      ],
      "text/plain": [
       "           age\n",
       "gender        \n",
       "female  16.568\n",
       "male    16.589"
      ]
     },
     "execution_count": 103,
     "metadata": {},
     "output_type": "execute_result"
    }
   ],
   "source": [
    "# calculate mean for only the \"age\" column\n",
    "pd.pivot_table(df, values=['age'], index=['gender'])"
   ]
  },
  {
   "cell_type": "markdown",
   "metadata": {},
   "source": [
    "## Missing data\n",
    "\n",
    "Data is messy, and one of the most common forms is missing information. In the data cleaning phase, we will learn how to handle rows and columns with missing values but first we need to identify where there is missing information. Missing values in Python are typically called ***null values*** and in a dataframe, missing cells have `NaN` (for \"not a number\") as a visual placeholder. To find the total number of missing values in a column, the `.isnull()` will create a column of True/False values (also called \"boolean\" values) depending on if the value in that cell is missing (null = True, not null = False). Then use the `.sum()` function on the resulting True/False to get a count of the number of `True` values for the missing data."
   ]
  },
  {
   "cell_type": "code",
   "execution_count": 104,
   "metadata": {
    "scrolled": true
   },
   "outputs": [
    {
     "data": {
      "text/html": [
       "<div>\n",
       "<style scoped>\n",
       "    .dataframe tbody tr th:only-of-type {\n",
       "        vertical-align: middle;\n",
       "    }\n",
       "\n",
       "    .dataframe tbody tr th {\n",
       "        vertical-align: top;\n",
       "    }\n",
       "\n",
       "    .dataframe thead th {\n",
       "        text-align: right;\n",
       "    }\n",
       "</style>\n",
       "<table border=\"1\" class=\"dataframe\">\n",
       "  <thead>\n",
       "    <tr style=\"text-align: right;\">\n",
       "      <th></th>\n",
       "      <th>fname</th>\n",
       "      <th>lname</th>\n",
       "      <th>gender</th>\n",
       "      <th>age</th>\n",
       "      <th>exercise</th>\n",
       "      <th>hours</th>\n",
       "      <th>grade</th>\n",
       "      <th>address</th>\n",
       "    </tr>\n",
       "  </thead>\n",
       "  <tbody>\n",
       "    <tr>\n",
       "      <th>0</th>\n",
       "      <td>Marcia</td>\n",
       "      <td>Pugh</td>\n",
       "      <td>female</td>\n",
       "      <td>17.0</td>\n",
       "      <td>3.0</td>\n",
       "      <td>10.0</td>\n",
       "      <td>82.4</td>\n",
       "      <td>9253 Richardson Road, Matawan, NJ 07747</td>\n",
       "    </tr>\n",
       "    <tr>\n",
       "      <th>1</th>\n",
       "      <td>Kadeem</td>\n",
       "      <td>Morrison</td>\n",
       "      <td>male</td>\n",
       "      <td>18.0</td>\n",
       "      <td>4.0</td>\n",
       "      <td>4.0</td>\n",
       "      <td>78.2</td>\n",
       "      <td>33 Spring Dr., Taunton, MA 02780</td>\n",
       "    </tr>\n",
       "    <tr>\n",
       "      <th>2</th>\n",
       "      <td>Nash</td>\n",
       "      <td>Powell</td>\n",
       "      <td>male</td>\n",
       "      <td>18.0</td>\n",
       "      <td>5.0</td>\n",
       "      <td>9.0</td>\n",
       "      <td>79.3</td>\n",
       "      <td>41 Hill Avenue, Mentor, OH 44060</td>\n",
       "    </tr>\n",
       "    <tr>\n",
       "      <th>3</th>\n",
       "      <td>Noelani</td>\n",
       "      <td>Wagner</td>\n",
       "      <td>female</td>\n",
       "      <td>14.0</td>\n",
       "      <td>2.0</td>\n",
       "      <td>7.0</td>\n",
       "      <td>83.2</td>\n",
       "      <td>8839 Marshall St., Miami, FL 33125</td>\n",
       "    </tr>\n",
       "    <tr>\n",
       "      <th>4</th>\n",
       "      <td>Noelani</td>\n",
       "      <td>Cherry</td>\n",
       "      <td>female</td>\n",
       "      <td>18.0</td>\n",
       "      <td>4.0</td>\n",
       "      <td>15.0</td>\n",
       "      <td>87.4</td>\n",
       "      <td>8304 Charles Rd., Lewis Center, OH 43035</td>\n",
       "    </tr>\n",
       "  </tbody>\n",
       "</table>\n",
       "</div>"
      ],
      "text/plain": [
       "     fname     lname  gender   age  exercise  hours  grade  \\\n",
       "0   Marcia      Pugh  female  17.0       3.0   10.0   82.4   \n",
       "1   Kadeem  Morrison    male  18.0       4.0    4.0   78.2   \n",
       "2     Nash    Powell    male  18.0       5.0    9.0   79.3   \n",
       "3  Noelani    Wagner  female  14.0       2.0    7.0   83.2   \n",
       "4  Noelani    Cherry  female  18.0       4.0   15.0   87.4   \n",
       "\n",
       "                                    address  \n",
       "0   9253 Richardson Road, Matawan, NJ 07747  \n",
       "1          33 Spring Dr., Taunton, MA 02780  \n",
       "2          41 Hill Avenue, Mentor, OH 44060  \n",
       "3        8839 Marshall St., Miami, FL 33125  \n",
       "4  8304 Charles Rd., Lewis Center, OH 43035  "
      ]
     },
     "execution_count": 104,
     "metadata": {},
     "output_type": "execute_result"
    }
   ],
   "source": [
    "# load data from file and show first 5 rows of dataframe\n",
    "\n",
    "filename = \"datasets/gradedatamissing.csv\"\n",
    "df_missing = pd.read_csv(filename)\n",
    "\n",
    "df_missing.head()"
   ]
  },
  {
   "cell_type": "code",
   "execution_count": 105,
   "metadata": {},
   "outputs": [
    {
     "data": {
      "text/plain": [
       "fname       2002\n",
       "lname       2002\n",
       "gender      2000\n",
       "age         1995\n",
       "exercise    1994\n",
       "hours       1994\n",
       "grade       2000\n",
       "address     2002\n",
       "dtype: int64"
      ]
     },
     "execution_count": 105,
     "metadata": {},
     "output_type": "execute_result"
    }
   ],
   "source": [
    "# total number of non-missing values in each column\n",
    "df_missing.count()"
   ]
  },
  {
   "cell_type": "code",
   "execution_count": 106,
   "metadata": {},
   "outputs": [
    {
     "data": {
      "text/plain": [
       "fname       0\n",
       "lname       0\n",
       "gender      2\n",
       "age         7\n",
       "exercise    8\n",
       "hours       8\n",
       "grade       2\n",
       "address     0\n",
       "dtype: int64"
      ]
     },
     "execution_count": 106,
     "metadata": {},
     "output_type": "execute_result"
    }
   ],
   "source": [
    "# total missing values per column\n",
    "df_missing.isnull().sum()"
   ]
  },
  {
   "cell_type": "markdown",
   "metadata": {},
   "source": [
    "## Duplication\n",
    "\n",
    "When looking for duplicates in `pandas`, the `.duplicated()` function by default searches for duplication across an entire row (meaning, all the values in one row are exactly the same as all the values in another row). It produces a column of boolean values (`True`/`False`) indicated if the row is a duplicate. The first time the `.duplicated()` function sees a row of information, it is not considered as duplicate (because it has not seen any other similar rows of data). However, whenever the function comes across the same information again, then that row (and any following rows that contain the same data) are then marked as duplicates. To look for duplicates only for specific columns, then use the argument `.duplicated(subset=[list of column names])`. "
   ]
  },
  {
   "cell_type": "code",
   "execution_count": 107,
   "metadata": {},
   "outputs": [
    {
     "data": {
      "text/html": [
       "<div>\n",
       "<style scoped>\n",
       "    .dataframe tbody tr th:only-of-type {\n",
       "        vertical-align: middle;\n",
       "    }\n",
       "\n",
       "    .dataframe tbody tr th {\n",
       "        vertical-align: top;\n",
       "    }\n",
       "\n",
       "    .dataframe thead th {\n",
       "        text-align: right;\n",
       "    }\n",
       "</style>\n",
       "<table border=\"1\" class=\"dataframe\">\n",
       "  <thead>\n",
       "    <tr style=\"text-align: right;\">\n",
       "      <th></th>\n",
       "      <th>Names</th>\n",
       "      <th>Grades</th>\n",
       "    </tr>\n",
       "  </thead>\n",
       "  <tbody>\n",
       "    <tr>\n",
       "      <th>0</th>\n",
       "      <td>Jessica</td>\n",
       "      <td>95</td>\n",
       "    </tr>\n",
       "    <tr>\n",
       "      <th>1</th>\n",
       "      <td>John</td>\n",
       "      <td>78</td>\n",
       "    </tr>\n",
       "    <tr>\n",
       "      <th>2</th>\n",
       "      <td>Bob</td>\n",
       "      <td>76</td>\n",
       "    </tr>\n",
       "    <tr>\n",
       "      <th>3</th>\n",
       "      <td>Jessica</td>\n",
       "      <td>95</td>\n",
       "    </tr>\n",
       "    <tr>\n",
       "      <th>4</th>\n",
       "      <td>Mary</td>\n",
       "      <td>77</td>\n",
       "    </tr>\n",
       "    <tr>\n",
       "      <th>5</th>\n",
       "      <td>John</td>\n",
       "      <td>78</td>\n",
       "    </tr>\n",
       "    <tr>\n",
       "      <th>6</th>\n",
       "      <td>Mel</td>\n",
       "      <td>99</td>\n",
       "    </tr>\n",
       "    <tr>\n",
       "      <th>7</th>\n",
       "      <td>Mel</td>\n",
       "      <td>100</td>\n",
       "    </tr>\n",
       "  </tbody>\n",
       "</table>\n",
       "</div>"
      ],
      "text/plain": [
       "     Names  Grades\n",
       "0  Jessica      95\n",
       "1     John      78\n",
       "2      Bob      76\n",
       "3  Jessica      95\n",
       "4     Mary      77\n",
       "5     John      78\n",
       "6      Mel      99\n",
       "7      Mel     100"
      ]
     },
     "execution_count": 107,
     "metadata": {},
     "output_type": "execute_result"
    }
   ],
   "source": [
    "# create fake data with duplicates\n",
    "\n",
    "names = ['Jessica','John','Bob','Jessica','Mary','John','Mel','Mel']\n",
    "grades = [95,78,76,95,77,78,99,100]\n",
    "dupe_data = list(zip(names,grades))\n",
    "\n",
    "df = pd.DataFrame(data = dupe_data, columns=['Names', 'Grades'])\n",
    "df"
   ]
  },
  {
   "cell_type": "code",
   "execution_count": 108,
   "metadata": {},
   "outputs": [
    {
     "data": {
      "text/plain": [
       "0    False\n",
       "1    False\n",
       "2    False\n",
       "3     True\n",
       "4    False\n",
       "5     True\n",
       "6    False\n",
       "7    False\n",
       "dtype: bool"
      ]
     },
     "execution_count": 108,
     "metadata": {},
     "output_type": "execute_result"
    }
   ],
   "source": [
    "# find the duplicate rows (same information in both columns for 2+ rows)\n",
    "dupe = df.duplicated()\n",
    "dupe"
   ]
  },
  {
   "cell_type": "code",
   "execution_count": 110,
   "metadata": {},
   "outputs": [
    {
     "data": {
      "text/html": [
       "<div>\n",
       "<style scoped>\n",
       "    .dataframe tbody tr th:only-of-type {\n",
       "        vertical-align: middle;\n",
       "    }\n",
       "\n",
       "    .dataframe tbody tr th {\n",
       "        vertical-align: top;\n",
       "    }\n",
       "\n",
       "    .dataframe thead th {\n",
       "        text-align: right;\n",
       "    }\n",
       "</style>\n",
       "<table border=\"1\" class=\"dataframe\">\n",
       "  <thead>\n",
       "    <tr style=\"text-align: right;\">\n",
       "      <th></th>\n",
       "      <th>Names</th>\n",
       "      <th>Grades</th>\n",
       "    </tr>\n",
       "  </thead>\n",
       "  <tbody>\n",
       "    <tr>\n",
       "      <th>3</th>\n",
       "      <td>Jessica</td>\n",
       "      <td>95</td>\n",
       "    </tr>\n",
       "    <tr>\n",
       "      <th>5</th>\n",
       "      <td>John</td>\n",
       "      <td>78</td>\n",
       "    </tr>\n",
       "  </tbody>\n",
       "</table>\n",
       "</div>"
      ],
      "text/plain": [
       "     Names  Grades\n",
       "3  Jessica      95\n",
       "5     John      78"
      ]
     },
     "execution_count": 110,
     "metadata": {},
     "output_type": "execute_result"
    }
   ],
   "source": [
    "# choose the rows where there are True values\n",
    "# duplicate of Jessica - 95; John - 78\n",
    "df.loc[dupe]"
   ]
  },
  {
   "cell_type": "code",
   "execution_count": 117,
   "metadata": {},
   "outputs": [
    {
     "data": {
      "text/html": [
       "<div>\n",
       "<style scoped>\n",
       "    .dataframe tbody tr th:only-of-type {\n",
       "        vertical-align: middle;\n",
       "    }\n",
       "\n",
       "    .dataframe tbody tr th {\n",
       "        vertical-align: top;\n",
       "    }\n",
       "\n",
       "    .dataframe thead th {\n",
       "        text-align: right;\n",
       "    }\n",
       "</style>\n",
       "<table border=\"1\" class=\"dataframe\">\n",
       "  <thead>\n",
       "    <tr style=\"text-align: right;\">\n",
       "      <th></th>\n",
       "      <th>Names</th>\n",
       "      <th>Grades</th>\n",
       "    </tr>\n",
       "  </thead>\n",
       "  <tbody>\n",
       "    <tr>\n",
       "      <th>3</th>\n",
       "      <td>Jessica</td>\n",
       "      <td>95</td>\n",
       "    </tr>\n",
       "    <tr>\n",
       "      <th>5</th>\n",
       "      <td>John</td>\n",
       "      <td>78</td>\n",
       "    </tr>\n",
       "    <tr>\n",
       "      <th>7</th>\n",
       "      <td>Mel</td>\n",
       "      <td>100</td>\n",
       "    </tr>\n",
       "  </tbody>\n",
       "</table>\n",
       "</div>"
      ],
      "text/plain": [
       "     Names  Grades\n",
       "3  Jessica      95\n",
       "5     John      78\n",
       "7      Mel     100"
      ]
     },
     "execution_count": 117,
     "metadata": {},
     "output_type": "execute_result"
    }
   ],
   "source": [
    "# check for duplicates only in the \"Names\" column (will ignore \"Grades\")\n",
    "# Jessica, John, and Mel are name duplicates\n",
    "\n",
    "dupe_name = df.duplicated(subset=['Names'])\n",
    "df.loc[dupe_name]"
   ]
  },
  {
   "cell_type": "code",
   "execution_count": 115,
   "metadata": {},
   "outputs": [
    {
     "data": {
      "text/plain": [
       "0    False\n",
       "1    False\n",
       "2    False\n",
       "3     True\n",
       "4    False\n",
       "5     True\n",
       "6    False\n",
       "7    False\n",
       "dtype: bool"
      ]
     },
     "execution_count": 115,
     "metadata": {},
     "output_type": "execute_result"
    }
   ],
   "source": [
    "dupe_grade = df.duplicated(subset=['Grades'])\n",
    "dupe_grade"
   ]
  },
  {
   "cell_type": "markdown",
   "metadata": {},
   "source": [
    "## Subset a dataframe\n",
    "\n",
    "Dataframe rows and columns can be referred to in two different ways - either by their label or by their index position. Column labels are the header names and are typically purposely named in the dataset. User-defined row labels are less common; if there are not any specific labels given to the rows, then the index position also becomes the label (same goes for column labels). Because Python positions start from zero, the first column or row is always index position zero, no matter what labels are assigned to the row.\n",
    "\n",
    "When selecting rows or column from a dataframe, it returns a smaller dataframe called a subset, which can then be assigned to its own variable name. If the original dataframe had default labels (using position) assigned to the rows (and columns, if applicable) then the subset labels will be inherited from the original dataframe, even though the index positions are different. For example, if a row had a label `4` and was also in index position `4`, then was assigned to a subset where it is now the first row, then the label would still be `4` but the position is `0`. \n",
    "\n",
    "There are two functions that are used to select rows or columns in a dataframe:\n",
    "\n",
    "- `dataframe_name.loc[row label]`: select rows by label name\n",
    "- `dataframe_name.iloc[row position]`: select rows by index position number"
   ]
  },
  {
   "cell_type": "markdown",
   "metadata": {},
   "source": [
    "### Choosing rows"
   ]
  },
  {
   "cell_type": "code",
   "execution_count": 120,
   "metadata": {},
   "outputs": [
    {
     "data": {
      "text/html": [
       "<div>\n",
       "<style scoped>\n",
       "    .dataframe tbody tr th:only-of-type {\n",
       "        vertical-align: middle;\n",
       "    }\n",
       "\n",
       "    .dataframe tbody tr th {\n",
       "        vertical-align: top;\n",
       "    }\n",
       "\n",
       "    .dataframe thead th {\n",
       "        text-align: right;\n",
       "    }\n",
       "</style>\n",
       "<table border=\"1\" class=\"dataframe\">\n",
       "  <thead>\n",
       "    <tr style=\"text-align: right;\">\n",
       "      <th></th>\n",
       "      <th>A</th>\n",
       "      <th>B</th>\n",
       "    </tr>\n",
       "  </thead>\n",
       "  <tbody>\n",
       "    <tr>\n",
       "      <th>0</th>\n",
       "      <td>10</td>\n",
       "      <td>no</td>\n",
       "    </tr>\n",
       "    <tr>\n",
       "      <th>1</th>\n",
       "      <td>20</td>\n",
       "      <td>yes</td>\n",
       "    </tr>\n",
       "    <tr>\n",
       "      <th>2</th>\n",
       "      <td>40</td>\n",
       "      <td>yes</td>\n",
       "    </tr>\n",
       "    <tr>\n",
       "      <th>3</th>\n",
       "      <td>50</td>\n",
       "      <td>no</td>\n",
       "    </tr>\n",
       "  </tbody>\n",
       "</table>\n",
       "</div>"
      ],
      "text/plain": [
       "    A    B\n",
       "0  10   no\n",
       "1  20  yes\n",
       "2  40  yes\n",
       "3  50   no"
      ]
     },
     "execution_count": 120,
     "metadata": {},
     "output_type": "execute_result"
    }
   ],
   "source": [
    "# create dataframe \"A\"\n",
    "# dataframe \"A\" has default index positions as labels\n",
    "\n",
    "colA = [10, 20, 40, 50]\n",
    "colB = ['no', 'yes', 'yes', 'no']\n",
    "\n",
    "A_B = list(zip(colA, colB))\n",
    "\n",
    "df_A = pd.DataFrame(data=A_B, columns=['A', 'B'])\n",
    "df_A"
   ]
  },
  {
   "cell_type": "code",
   "execution_count": 121,
   "metadata": {},
   "outputs": [
    {
     "data": {
      "text/plain": [
       "A    10\n",
       "B    no\n",
       "Name: 0, dtype: object"
      ]
     },
     "execution_count": 121,
     "metadata": {},
     "output_type": "execute_result"
    }
   ],
   "source": [
    "# select the row from dataframe \"A\" with label name 0\n",
    "df_A.loc[0]"
   ]
  },
  {
   "cell_type": "code",
   "execution_count": 122,
   "metadata": {},
   "outputs": [
    {
     "data": {
      "text/plain": [
       "A    10\n",
       "B    no\n",
       "Name: 0, dtype: object"
      ]
     },
     "execution_count": 122,
     "metadata": {},
     "output_type": "execute_result"
    }
   ],
   "source": [
    "# select the row from dataframe \"A\" with index position 0\n",
    "df_A.iloc[0]"
   ]
  },
  {
   "cell_type": "code",
   "execution_count": 123,
   "metadata": {
    "scrolled": true
   },
   "outputs": [
    {
     "data": {
      "text/html": [
       "<div>\n",
       "<style scoped>\n",
       "    .dataframe tbody tr th:only-of-type {\n",
       "        vertical-align: middle;\n",
       "    }\n",
       "\n",
       "    .dataframe tbody tr th {\n",
       "        vertical-align: top;\n",
       "    }\n",
       "\n",
       "    .dataframe thead th {\n",
       "        text-align: right;\n",
       "    }\n",
       "</style>\n",
       "<table border=\"1\" class=\"dataframe\">\n",
       "  <thead>\n",
       "    <tr style=\"text-align: right;\">\n",
       "      <th></th>\n",
       "      <th>A</th>\n",
       "      <th>B</th>\n",
       "    </tr>\n",
       "  </thead>\n",
       "  <tbody>\n",
       "    <tr>\n",
       "      <th>a</th>\n",
       "      <td>10</td>\n",
       "      <td>no</td>\n",
       "    </tr>\n",
       "    <tr>\n",
       "      <th>b</th>\n",
       "      <td>20</td>\n",
       "      <td>yes</td>\n",
       "    </tr>\n",
       "    <tr>\n",
       "      <th>c</th>\n",
       "      <td>40</td>\n",
       "      <td>yes</td>\n",
       "    </tr>\n",
       "    <tr>\n",
       "      <th>d</th>\n",
       "      <td>50</td>\n",
       "      <td>no</td>\n",
       "    </tr>\n",
       "  </tbody>\n",
       "</table>\n",
       "</div>"
      ],
      "text/plain": [
       "    A    B\n",
       "a  10   no\n",
       "b  20  yes\n",
       "c  40  yes\n",
       "d  50   no"
      ]
     },
     "execution_count": 123,
     "metadata": {},
     "output_type": "execute_result"
    }
   ],
   "source": [
    "# create dataframe \"B\"\n",
    "# dataframe \"B\" has user-defined labels\n",
    "index = ['a', 'b', 'c', 'd']\n",
    "colA = [10, 20, 40, 50]\n",
    "colB = ['no', 'yes', 'yes', 'no']\n",
    "\n",
    "df_B = pd.DataFrame(data=A_B, columns=['A', 'B'], index=index)\n",
    "\n",
    "df_B"
   ]
  },
  {
   "cell_type": "code",
   "execution_count": 124,
   "metadata": {
    "scrolled": true
   },
   "outputs": [
    {
     "data": {
      "text/plain": [
       "A     20\n",
       "B    yes\n",
       "Name: b, dtype: object"
      ]
     },
     "execution_count": 124,
     "metadata": {},
     "output_type": "execute_result"
    }
   ],
   "source": [
    "# select the row in dataframe \"B\" with the row label name \"b\"\n",
    "df_B.loc['b']"
   ]
  },
  {
   "cell_type": "code",
   "execution_count": 22,
   "metadata": {},
   "outputs": [
    {
     "data": {
      "text/plain": [
       "A     20\n",
       "B    yes\n",
       "Name: b, dtype: object"
      ]
     },
     "execution_count": 22,
     "metadata": {},
     "output_type": "execute_result"
    }
   ],
   "source": [
    "# select the row in dataframe \"B\" with index position 1\n",
    "# same row as previous cell; different way of selecting it\n",
    "df_B.iloc[1]"
   ]
  },
  {
   "cell_type": "markdown",
   "metadata": {},
   "source": [
    "#### Let's see how this can get tricky"
   ]
  },
  {
   "cell_type": "code",
   "execution_count": 126,
   "metadata": {},
   "outputs": [
    {
     "data": {
      "text/html": [
       "<div>\n",
       "<style scoped>\n",
       "    .dataframe tbody tr th:only-of-type {\n",
       "        vertical-align: middle;\n",
       "    }\n",
       "\n",
       "    .dataframe tbody tr th {\n",
       "        vertical-align: top;\n",
       "    }\n",
       "\n",
       "    .dataframe thead th {\n",
       "        text-align: right;\n",
       "    }\n",
       "</style>\n",
       "<table border=\"1\" class=\"dataframe\">\n",
       "  <thead>\n",
       "    <tr style=\"text-align: right;\">\n",
       "      <th></th>\n",
       "      <th>A</th>\n",
       "      <th>B</th>\n",
       "    </tr>\n",
       "  </thead>\n",
       "  <tbody>\n",
       "    <tr>\n",
       "      <th>0</th>\n",
       "      <td>10</td>\n",
       "      <td>no</td>\n",
       "    </tr>\n",
       "    <tr>\n",
       "      <th>1</th>\n",
       "      <td>20</td>\n",
       "      <td>yes</td>\n",
       "    </tr>\n",
       "    <tr>\n",
       "      <th>2</th>\n",
       "      <td>40</td>\n",
       "      <td>yes</td>\n",
       "    </tr>\n",
       "    <tr>\n",
       "      <th>3</th>\n",
       "      <td>50</td>\n",
       "      <td>no</td>\n",
       "    </tr>\n",
       "  </tbody>\n",
       "</table>\n",
       "</div>"
      ],
      "text/plain": [
       "    A    B\n",
       "0  10   no\n",
       "1  20  yes\n",
       "2  40  yes\n",
       "3  50   no"
      ]
     },
     "execution_count": 126,
     "metadata": {},
     "output_type": "execute_result"
    }
   ],
   "source": [
    "# dataframe \"C\" is a copy of dataframe \"A\"\n",
    "df_C = df_A.copy()\n",
    "df_C"
   ]
  },
  {
   "cell_type": "code",
   "execution_count": 131,
   "metadata": {},
   "outputs": [
    {
     "data": {
      "text/html": [
       "<div>\n",
       "<style scoped>\n",
       "    .dataframe tbody tr th:only-of-type {\n",
       "        vertical-align: middle;\n",
       "    }\n",
       "\n",
       "    .dataframe tbody tr th {\n",
       "        vertical-align: top;\n",
       "    }\n",
       "\n",
       "    .dataframe thead th {\n",
       "        text-align: right;\n",
       "    }\n",
       "</style>\n",
       "<table border=\"1\" class=\"dataframe\">\n",
       "  <thead>\n",
       "    <tr style=\"text-align: right;\">\n",
       "      <th></th>\n",
       "      <th>A</th>\n",
       "      <th>B</th>\n",
       "    </tr>\n",
       "  </thead>\n",
       "  <tbody>\n",
       "    <tr>\n",
       "      <th>2</th>\n",
       "      <td>10</td>\n",
       "      <td>no</td>\n",
       "    </tr>\n",
       "    <tr>\n",
       "      <th>1</th>\n",
       "      <td>20</td>\n",
       "      <td>yes</td>\n",
       "    </tr>\n",
       "    <tr>\n",
       "      <th>0</th>\n",
       "      <td>40</td>\n",
       "      <td>yes</td>\n",
       "    </tr>\n",
       "    <tr>\n",
       "      <th>3</th>\n",
       "      <td>50</td>\n",
       "      <td>no</td>\n",
       "    </tr>\n",
       "  </tbody>\n",
       "</table>\n",
       "</div>"
      ],
      "text/plain": [
       "    A    B\n",
       "2  10   no\n",
       "1  20  yes\n",
       "0  40  yes\n",
       "3  50   no"
      ]
     },
     "execution_count": 131,
     "metadata": {},
     "output_type": "execute_result"
    }
   ],
   "source": [
    "# dataframe \"D\" has index label names that are numbers (but not the default index positions)\n",
    "index = [2,1,0,3]\n",
    "colA = [10, 20, 40, 50]\n",
    "colB = ['no', 'yes', 'yes', 'no']\n",
    "\n",
    "df_D = pd.DataFrame(data=A_B, columns=['A', 'B'], index=index)\n",
    "df_D"
   ]
  },
  {
   "cell_type": "markdown",
   "metadata": {},
   "source": [
    "Rows can also be selected as a group (not just a single row) by including the starting row and ending row with a colon between them inside the square brackets (`dataframe_name[start:end]`). When using the `.iloc` function to choose rows, it works similarly to Python list slicing - it chooses the starting index row but the ending index row position is not inclusive. However, for choosing a group of rows by the label name (`.loc`), the ending row label value is included in the subset."
   ]
  },
  {
   "cell_type": "code",
   "execution_count": 15,
   "metadata": {},
   "outputs": [
    {
     "data": {
      "text/html": [
       "<div>\n",
       "<style scoped>\n",
       "    .dataframe tbody tr th:only-of-type {\n",
       "        vertical-align: middle;\n",
       "    }\n",
       "\n",
       "    .dataframe tbody tr th {\n",
       "        vertical-align: top;\n",
       "    }\n",
       "\n",
       "    .dataframe thead th {\n",
       "        text-align: right;\n",
       "    }\n",
       "</style>\n",
       "<table border=\"1\" class=\"dataframe\">\n",
       "  <thead>\n",
       "    <tr style=\"text-align: right;\">\n",
       "      <th></th>\n",
       "      <th>A</th>\n",
       "      <th>B</th>\n",
       "    </tr>\n",
       "  </thead>\n",
       "  <tbody>\n",
       "    <tr>\n",
       "      <th>2</th>\n",
       "      <td>10</td>\n",
       "      <td>no</td>\n",
       "    </tr>\n",
       "    <tr>\n",
       "      <th>1</th>\n",
       "      <td>20</td>\n",
       "      <td>yes</td>\n",
       "    </tr>\n",
       "    <tr>\n",
       "      <th>0</th>\n",
       "      <td>40</td>\n",
       "      <td>yes</td>\n",
       "    </tr>\n",
       "  </tbody>\n",
       "</table>\n",
       "</div>"
      ],
      "text/plain": [
       "    A    B\n",
       "2  10   no\n",
       "1  20  yes\n",
       "0  40  yes"
      ]
     },
     "execution_count": 15,
     "metadata": {},
     "output_type": "execute_result"
    }
   ],
   "source": [
    "# choose index position 0 through the index position before 3\n",
    "df_D.iloc[0:3]"
   ]
  },
  {
   "cell_type": "code",
   "execution_count": 132,
   "metadata": {},
   "outputs": [
    {
     "data": {
      "text/html": [
       "<div>\n",
       "<style scoped>\n",
       "    .dataframe tbody tr th:only-of-type {\n",
       "        vertical-align: middle;\n",
       "    }\n",
       "\n",
       "    .dataframe tbody tr th {\n",
       "        vertical-align: top;\n",
       "    }\n",
       "\n",
       "    .dataframe thead th {\n",
       "        text-align: right;\n",
       "    }\n",
       "</style>\n",
       "<table border=\"1\" class=\"dataframe\">\n",
       "  <thead>\n",
       "    <tr style=\"text-align: right;\">\n",
       "      <th></th>\n",
       "      <th>A</th>\n",
       "      <th>B</th>\n",
       "    </tr>\n",
       "  </thead>\n",
       "  <tbody>\n",
       "    <tr>\n",
       "      <th>2</th>\n",
       "      <td>10</td>\n",
       "      <td>no</td>\n",
       "    </tr>\n",
       "    <tr>\n",
       "      <th>1</th>\n",
       "      <td>20</td>\n",
       "      <td>yes</td>\n",
       "    </tr>\n",
       "    <tr>\n",
       "      <th>0</th>\n",
       "      <td>40</td>\n",
       "      <td>yes</td>\n",
       "    </tr>\n",
       "    <tr>\n",
       "      <th>3</th>\n",
       "      <td>50</td>\n",
       "      <td>no</td>\n",
       "    </tr>\n",
       "  </tbody>\n",
       "</table>\n",
       "</div>"
      ],
      "text/plain": [
       "    A    B\n",
       "2  10   no\n",
       "1  20  yes\n",
       "0  40  yes\n",
       "3  50   no"
      ]
     },
     "execution_count": 132,
     "metadata": {},
     "output_type": "execute_result"
    }
   ],
   "source": [
    "# select label '0' and all the rows that are in between and ending with the row with label '3'\n",
    "df_D.loc[2:3]"
   ]
  },
  {
   "cell_type": "code",
   "execution_count": 11,
   "metadata": {},
   "outputs": [
    {
     "data": {
      "text/html": [
       "<div>\n",
       "<style scoped>\n",
       "    .dataframe tbody tr th:only-of-type {\n",
       "        vertical-align: middle;\n",
       "    }\n",
       "\n",
       "    .dataframe tbody tr th {\n",
       "        vertical-align: top;\n",
       "    }\n",
       "\n",
       "    .dataframe thead th {\n",
       "        text-align: right;\n",
       "    }\n",
       "</style>\n",
       "<table border=\"1\" class=\"dataframe\">\n",
       "  <thead>\n",
       "    <tr style=\"text-align: right;\">\n",
       "      <th></th>\n",
       "      <th>A</th>\n",
       "      <th>B</th>\n",
       "    </tr>\n",
       "  </thead>\n",
       "  <tbody>\n",
       "    <tr>\n",
       "      <th>0</th>\n",
       "      <td>10</td>\n",
       "      <td>no</td>\n",
       "    </tr>\n",
       "    <tr>\n",
       "      <th>1</th>\n",
       "      <td>20</td>\n",
       "      <td>yes</td>\n",
       "    </tr>\n",
       "    <tr>\n",
       "      <th>2</th>\n",
       "      <td>40</td>\n",
       "      <td>yes</td>\n",
       "    </tr>\n",
       "  </tbody>\n",
       "</table>\n",
       "</div>"
      ],
      "text/plain": [
       "    A    B\n",
       "0  10   no\n",
       "1  20  yes\n",
       "2  40  yes"
      ]
     },
     "execution_count": 11,
     "metadata": {},
     "output_type": "execute_result"
    }
   ],
   "source": [
    "# select rows starting from index position 0 through BUT NOT INCLUDING position 3\n",
    "df_C.iloc[0:3]"
   ]
  },
  {
   "cell_type": "code",
   "execution_count": 129,
   "metadata": {},
   "outputs": [
    {
     "data": {
      "text/html": [
       "<div>\n",
       "<style scoped>\n",
       "    .dataframe tbody tr th:only-of-type {\n",
       "        vertical-align: middle;\n",
       "    }\n",
       "\n",
       "    .dataframe tbody tr th {\n",
       "        vertical-align: top;\n",
       "    }\n",
       "\n",
       "    .dataframe thead th {\n",
       "        text-align: right;\n",
       "    }\n",
       "</style>\n",
       "<table border=\"1\" class=\"dataframe\">\n",
       "  <thead>\n",
       "    <tr style=\"text-align: right;\">\n",
       "      <th></th>\n",
       "      <th>A</th>\n",
       "      <th>B</th>\n",
       "    </tr>\n",
       "  </thead>\n",
       "  <tbody>\n",
       "    <tr>\n",
       "      <th>0</th>\n",
       "      <td>10</td>\n",
       "      <td>no</td>\n",
       "    </tr>\n",
       "    <tr>\n",
       "      <th>1</th>\n",
       "      <td>20</td>\n",
       "      <td>yes</td>\n",
       "    </tr>\n",
       "    <tr>\n",
       "      <th>2</th>\n",
       "      <td>40</td>\n",
       "      <td>yes</td>\n",
       "    </tr>\n",
       "    <tr>\n",
       "      <th>3</th>\n",
       "      <td>50</td>\n",
       "      <td>no</td>\n",
       "    </tr>\n",
       "  </tbody>\n",
       "</table>\n",
       "</div>"
      ],
      "text/plain": [
       "    A    B\n",
       "0  10   no\n",
       "1  20  yes\n",
       "2  40  yes\n",
       "3  50   no"
      ]
     },
     "execution_count": 129,
     "metadata": {},
     "output_type": "execute_result"
    }
   ],
   "source": [
    "# select with index label '0' and everything in between and include the label '3'\n",
    "df_C.loc[0:3]"
   ]
  },
  {
   "cell_type": "markdown",
   "metadata": {},
   "source": [
    "### Choosing columns\n",
    "\n",
    "Just as selecting rows reduces the size of the dataframe into a subset where we can study the particular characteristics of that group, we may also want to keep certain columns from the dataset to make it easier to focus on the relevant information for analysis. To choose columns to keep for the subset dataframe, use the syntax `dataframe_name[[list of columns]]` (a list of column names inside another pair of square brackets to select that list as a dataframe)."
   ]
  },
  {
   "cell_type": "code",
   "execution_count": null,
   "metadata": {},
   "outputs": [],
   "source": [
    "# use the gradedata.csv file\n",
    "\n",
    "location = \"datasets/gradedata.csv\"\n",
    "df = pd.read_csv(location)\n",
    "\n",
    "df.head()"
   ]
  },
  {
   "cell_type": "code",
   "execution_count": null,
   "metadata": {},
   "outputs": [],
   "source": [
    "# select the columns from the list of names \"fname\", \"lname\", \"hours\", and \"grade\"\n",
    "small_df = df[['fname', 'lname', 'hours', 'grade']]"
   ]
  },
  {
   "cell_type": "code",
   "execution_count": null,
   "metadata": {},
   "outputs": [],
   "source": [
    "# show first 5 rows of smaller dataframe with those columns only\n",
    "small_df.head()"
   ]
  },
  {
   "cell_type": "markdown",
   "metadata": {},
   "source": [
    "# Bonus Code!\n",
    "\n",
    "Although not a requirement for the material that will be covered in this course, below is a code example of a task challenge you may encounter while working on a project."
   ]
  },
  {
   "cell_type": "markdown",
   "metadata": {},
   "source": [
    "### Load multiple data files\n",
    "\n",
    "If you are faced with multiple files with information you want to aggregate into a single dataframe, instead of loading each file individually as their own separate dataframes, the `glob` library will gather a list of file names from a directory and then you can use `pandas` to create the entire dataframe automatically."
   ]
  },
  {
   "cell_type": "code",
   "execution_count": 133,
   "metadata": {},
   "outputs": [
    {
     "data": {
      "text/plain": [
       "300"
      ]
     },
     "execution_count": 133,
     "metadata": {},
     "output_type": "execute_result"
    }
   ],
   "source": [
    "import glob #used to read file names in directory\n",
    "\n",
    "# make an empty dataframe called \"all_data\"\n",
    "# this will be used to add each file's data to previous data added\n",
    "all_data = pd.DataFrame()\n",
    "\n",
    "# iterate through each Excel file in the datasets directory with a name starting with \"data\"\n",
    "for file in glob.glob(\"datasets/data*.xlsx\"):\n",
    "    \n",
    "    #make a dataframe with that file's data\n",
    "    df = pd.read_excel(file)\n",
    "    \n",
    "    # append (attach) the small dataframe to the overall dataframe (\"all_data\")\n",
    "    all_data = all_data.append(df, ignore_index=True)\n",
    "\n",
    "# view the number of rows in dataframe\n",
    "# each data file had 100 rows of information (3 total files)\n",
    "len(all_data) "
   ]
  },
  {
   "cell_type": "code",
   "execution_count": 134,
   "metadata": {},
   "outputs": [
    {
     "data": {
      "text/html": [
       "<div>\n",
       "<style scoped>\n",
       "    .dataframe tbody tr th:only-of-type {\n",
       "        vertical-align: middle;\n",
       "    }\n",
       "\n",
       "    .dataframe tbody tr th {\n",
       "        vertical-align: top;\n",
       "    }\n",
       "\n",
       "    .dataframe thead th {\n",
       "        text-align: right;\n",
       "    }\n",
       "</style>\n",
       "<table border=\"1\" class=\"dataframe\">\n",
       "  <thead>\n",
       "    <tr style=\"text-align: right;\">\n",
       "      <th></th>\n",
       "      <th>fname</th>\n",
       "      <th>age</th>\n",
       "      <th>grade</th>\n",
       "    </tr>\n",
       "  </thead>\n",
       "  <tbody>\n",
       "    <tr>\n",
       "      <th>0</th>\n",
       "      <td>Baker</td>\n",
       "      <td>14</td>\n",
       "      <td>90</td>\n",
       "    </tr>\n",
       "    <tr>\n",
       "      <th>1</th>\n",
       "      <td>Josephine</td>\n",
       "      <td>19</td>\n",
       "      <td>100</td>\n",
       "    </tr>\n",
       "    <tr>\n",
       "      <th>2</th>\n",
       "      <td>Calvin</td>\n",
       "      <td>15</td>\n",
       "      <td>66</td>\n",
       "    </tr>\n",
       "    <tr>\n",
       "      <th>3</th>\n",
       "      <td>Aretha</td>\n",
       "      <td>17</td>\n",
       "      <td>84</td>\n",
       "    </tr>\n",
       "    <tr>\n",
       "      <th>4</th>\n",
       "      <td>Britanney</td>\n",
       "      <td>19</td>\n",
       "      <td>66</td>\n",
       "    </tr>\n",
       "  </tbody>\n",
       "</table>\n",
       "</div>"
      ],
      "text/plain": [
       "       fname  age  grade\n",
       "0      Baker   14     90\n",
       "1  Josephine   19    100\n",
       "2     Calvin   15     66\n",
       "3     Aretha   17     84\n",
       "4  Britanney   19     66"
      ]
     },
     "execution_count": 134,
     "metadata": {},
     "output_type": "execute_result"
    }
   ],
   "source": [
    "all_data.head()"
   ]
  },
  {
   "cell_type": "code",
   "execution_count": 137,
   "metadata": {},
   "outputs": [
    {
     "data": {
      "text/plain": [
       "['fname', 'age', 'grade']"
      ]
     },
     "execution_count": 137,
     "metadata": {},
     "output_type": "execute_result"
    }
   ],
   "source": [
    "list(all_data.columns)\n"
   ]
  },
  {
   "cell_type": "code",
   "execution_count": null,
   "metadata": {},
   "outputs": [],
   "source": []
  }
 ],
 "metadata": {
  "kernelspec": {
   "display_name": "Python 3",
   "language": "python",
   "name": "python3"
  },
  "language_info": {
   "codemirror_mode": {
    "name": "ipython",
    "version": 3
   },
   "file_extension": ".py",
   "mimetype": "text/x-python",
   "name": "python",
   "nbconvert_exporter": "python",
   "pygments_lexer": "ipython3",
   "version": "3.7.3"
  },
  "toc": {
   "base_numbering": 1,
   "nav_menu": {},
   "number_sections": false,
   "sideBar": false,
   "skip_h1_title": false,
   "title_cell": "Table of Contents",
   "title_sidebar": "Contents",
   "toc_cell": false,
   "toc_position": {},
   "toc_section_display": false,
   "toc_window_display": false
  }
 },
 "nbformat": 4,
 "nbformat_minor": 4
}
