{
 "cells": [
  {
   "cell_type": "markdown",
   "metadata": {},
   "source": [
    "# Module 5 - Time Series"
   ]
  },
  {
   "cell_type": "code",
   "execution_count": 7,
   "metadata": {},
   "outputs": [],
   "source": [
    "import pandas as pd\n",
    "import numpy as np\n",
    "import seaborn; seaborn.set()\n",
    "import matplotlib.pyplot as plt\n",
    "\n",
    "from datetime import datetime\n",
    "\n",
    "%matplotlib inline"
   ]
  },
  {
   "cell_type": "markdown",
   "metadata": {},
   "source": [
    "### Numpy datetime"
   ]
  },
  {
   "cell_type": "code",
   "execution_count": 8,
   "metadata": {},
   "outputs": [
    {
     "data": {
      "text/plain": [
       "array('2015-07-04', dtype='datetime64[D]')"
      ]
     },
     "execution_count": 8,
     "metadata": {},
     "output_type": "execute_result"
    }
   ],
   "source": [
    "date = np.array('2015-07-04', dtype=np.datetime64)\n",
    "date"
   ]
  },
  {
   "cell_type": "code",
   "execution_count": 9,
   "metadata": {},
   "outputs": [
    {
     "data": {
      "text/plain": [
       "numpy.ndarray"
      ]
     },
     "execution_count": 9,
     "metadata": {},
     "output_type": "execute_result"
    }
   ],
   "source": [
    "type(date)"
   ]
  },
  {
   "cell_type": "code",
   "execution_count": 10,
   "metadata": {},
   "outputs": [],
   "source": [
    "#creates 12 consecutive dates starting from July 4, 2015\n",
    "arrayDate = date + np.arange(12)"
   ]
  },
  {
   "cell_type": "code",
   "execution_count": 11,
   "metadata": {},
   "outputs": [
    {
     "name": "stdout",
     "output_type": "stream",
     "text": [
      "['2015-07-04' '2015-07-05' '2015-07-06' '2015-07-07' '2015-07-08'\n",
      " '2015-07-09' '2015-07-10' '2015-07-11' '2015-07-12' '2015-07-13'\n",
      " '2015-07-14' '2015-07-15']\n"
     ]
    }
   ],
   "source": [
    "print(arrayDate)"
   ]
  },
  {
   "cell_type": "code",
   "execution_count": 12,
   "metadata": {},
   "outputs": [
    {
     "data": {
      "text/plain": [
       "numpy.datetime64('2015-07-04')"
      ]
     },
     "execution_count": 12,
     "metadata": {},
     "output_type": "execute_result"
    }
   ],
   "source": [
    "#day-based datetime\n",
    "np.datetime64('2015-07-04')"
   ]
  },
  {
   "cell_type": "code",
   "execution_count": 13,
   "metadata": {},
   "outputs": [
    {
     "data": {
      "text/plain": [
       "numpy.datetime64('2015-07-04T12:00')"
      ]
     },
     "execution_count": 13,
     "metadata": {},
     "output_type": "execute_result"
    }
   ],
   "source": [
    "#minute-based datetime\n",
    "#sets to time zone of local computer\n",
    "np.datetime64('2015-07-04 12:00')"
   ]
  },
  {
   "cell_type": "markdown",
   "metadata": {},
   "source": [
    "### Pandas datetime"
   ]
  },
  {
   "cell_type": "code",
   "execution_count": 14,
   "metadata": {},
   "outputs": [
    {
     "data": {
      "text/plain": [
       "Timestamp('2015-07-04 00:00:00')"
      ]
     },
     "execution_count": 14,
     "metadata": {},
     "output_type": "execute_result"
    }
   ],
   "source": [
    "date = pd.to_datetime(\"4th of July, 2015\")\n",
    "date"
   ]
  },
  {
   "cell_type": "code",
   "execution_count": 15,
   "metadata": {},
   "outputs": [
    {
     "data": {
      "text/plain": [
       "'Saturday'"
      ]
     },
     "execution_count": 15,
     "metadata": {},
     "output_type": "execute_result"
    }
   ],
   "source": [
    "#output day of the week\n",
    "date.strftime('%A')"
   ]
  },
  {
   "cell_type": "code",
   "execution_count": 16,
   "metadata": {},
   "outputs": [
    {
     "data": {
      "text/plain": [
       "DatetimeIndex(['2015-07-04', '2015-07-05', '2015-07-06', '2015-07-07',\n",
       "               '2015-07-08', '2015-07-09', '2015-07-10', '2015-07-11',\n",
       "               '2015-07-12', '2015-07-13', '2015-07-14', '2015-07-15'],\n",
       "              dtype='datetime64[ns]', freq=None)"
      ]
     },
     "execution_count": 16,
     "metadata": {},
     "output_type": "execute_result"
    }
   ],
   "source": [
    "#create 12 consecutive dates starting from July 4, 2015\n",
    "date + pd.to_timedelta(np.arange(12), 'D')"
   ]
  },
  {
   "cell_type": "code",
   "execution_count": 17,
   "metadata": {},
   "outputs": [
    {
     "data": {
      "text/plain": [
       "2014-07-04    0\n",
       "2014-08-04    1\n",
       "2015-07-04    2\n",
       "2015-08-04    3\n",
       "dtype: int64"
      ]
     },
     "execution_count": 17,
     "metadata": {},
     "output_type": "execute_result"
    }
   ],
   "source": [
    "#make index using timestamp\n",
    "index = pd.DatetimeIndex(['2014-07-04', '2014-08-04',\n",
    "                          '2015-07-04', '2015-08-04'])\n",
    "\n",
    "data = pd.Series([0,1,2,3], index=index) #a series is a singular column from a dataframe\n",
    "data"
   ]
  },
  {
   "cell_type": "code",
   "execution_count": 18,
   "metadata": {},
   "outputs": [
    {
     "data": {
      "text/plain": [
       "2014-07-04    0\n",
       "2014-08-04    1\n",
       "2015-07-04    2\n",
       "dtype: int64"
      ]
     },
     "execution_count": 18,
     "metadata": {},
     "output_type": "execute_result"
    }
   ],
   "source": [
    "#can slice date index similarly to regular index slicing\n",
    "#includes ending index\n",
    "data['2014-07-04':'2015-07-04']"
   ]
  },
  {
   "cell_type": "code",
   "execution_count": 19,
   "metadata": {},
   "outputs": [
    {
     "data": {
      "text/plain": [
       "2015-07-04    2\n",
       "2015-08-04    3\n",
       "dtype: int64"
      ]
     },
     "execution_count": 19,
     "metadata": {},
     "output_type": "execute_result"
    }
   ],
   "source": [
    "#get rows from 2015\n",
    "data['2015']"
   ]
  },
  {
   "cell_type": "code",
   "execution_count": 20,
   "metadata": {},
   "outputs": [
    {
     "data": {
      "text/plain": [
       "DatetimeIndex(['2015-07-03', '2015-07-04', '2015-07-06', '2015-07-07',\n",
       "               '2015-07-08'],\n",
       "              dtype='datetime64[ns]', freq=None)"
      ]
     },
     "execution_count": 20,
     "metadata": {},
     "output_type": "execute_result"
    }
   ],
   "source": [
    "#will convert different formats into datetime\n",
    "dates = pd.to_datetime([datetime(2015,7,3),'4th of July 2015', '2015-Jul-6', '07-07-2015', '20150708'])\n",
    "dates"
   ]
  },
  {
   "cell_type": "code",
   "execution_count": null,
   "metadata": {},
   "outputs": [],
   "source": []
  },
  {
   "cell_type": "code",
   "execution_count": 21,
   "metadata": {},
   "outputs": [
    {
     "data": {
      "text/plain": [
       "PeriodIndex(['2015-07-03', '2015-07-04', '2015-07-06', '2015-07-07',\n",
       "             '2015-07-08'],\n",
       "            dtype='period[D]', freq='D')"
      ]
     },
     "execution_count": 21,
     "metadata": {},
     "output_type": "execute_result"
    }
   ],
   "source": [
    "#assigned a 'day' frequency\n",
    "dates.to_period('D')"
   ]
  },
  {
   "cell_type": "code",
   "execution_count": 22,
   "metadata": {},
   "outputs": [
    {
     "data": {
      "text/plain": [
       "TimedeltaIndex(['0 days', '1 days', '3 days', '4 days', '5 days'], dtype='timedelta64[ns]', freq=None)"
      ]
     },
     "execution_count": 22,
     "metadata": {},
     "output_type": "execute_result"
    }
   ],
   "source": [
    "#calculate # of days between 07-03-2015 and each date\n",
    "dates - dates[0]"
   ]
  },
  {
   "cell_type": "code",
   "execution_count": 23,
   "metadata": {},
   "outputs": [
    {
     "data": {
      "text/plain": [
       "DatetimeIndex(['2015-07-03', '2015-07-04', '2015-07-05', '2015-07-06',\n",
       "               '2015-07-07', '2015-07-08', '2015-07-09', '2015-07-10'],\n",
       "              dtype='datetime64[ns]', freq='D')"
      ]
     },
     "execution_count": 23,
     "metadata": {},
     "output_type": "execute_result"
    }
   ],
   "source": [
    "#create days between start date and end date\n",
    "#default frequency is 'day'\n",
    "pd.date_range('2015-07-03', '2015-07-10')"
   ]
  },
  {
   "cell_type": "code",
   "execution_count": 24,
   "metadata": {},
   "outputs": [
    {
     "data": {
      "text/plain": [
       "DatetimeIndex(['2015-07-03', '2015-07-04', '2015-07-05', '2015-07-06',\n",
       "               '2015-07-07', '2015-07-08', '2015-07-09', '2015-07-10'],\n",
       "              dtype='datetime64[ns]', freq='D')"
      ]
     },
     "execution_count": 24,
     "metadata": {},
     "output_type": "execute_result"
    }
   ],
   "source": [
    "#create days from start date with periods (how many)\n",
    "pd.date_range('2015-07-03', periods=8)"
   ]
  },
  {
   "cell_type": "code",
   "execution_count": 25,
   "metadata": {},
   "outputs": [
    {
     "data": {
      "text/plain": [
       "DatetimeIndex(['2015-07-03 00:00:00', '2015-07-03 01:00:00',\n",
       "               '2015-07-03 02:00:00', '2015-07-03 03:00:00',\n",
       "               '2015-07-03 04:00:00', '2015-07-03 05:00:00',\n",
       "               '2015-07-03 06:00:00', '2015-07-03 07:00:00'],\n",
       "              dtype='datetime64[ns]', freq='H')"
      ]
     },
     "execution_count": 25,
     "metadata": {},
     "output_type": "execute_result"
    }
   ],
   "source": [
    "#make range using hourly frequency\n",
    "#default start at 00:00 (midnight)\n",
    "pd.date_range('2015-07-03', periods=8, freq='H')"
   ]
  },
  {
   "cell_type": "code",
   "execution_count": 26,
   "metadata": {},
   "outputs": [
    {
     "data": {
      "text/plain": [
       "PeriodIndex(['2015-07', '2015-08', '2015-09', '2015-10', '2015-11', '2015-12',\n",
       "             '2016-01', '2016-02'],\n",
       "            dtype='period[M]', freq='M')"
      ]
     },
     "execution_count": 26,
     "metadata": {},
     "output_type": "execute_result"
    }
   ],
   "source": [
    "#create period frequency by month\n",
    "pd.period_range('2015-07', periods=8, freq='M')"
   ]
  },
  {
   "cell_type": "code",
   "execution_count": 27,
   "metadata": {},
   "outputs": [
    {
     "data": {
      "text/plain": [
       "TimedeltaIndex(['00:00:00', '01:00:00', '02:00:00', '03:00:00', '04:00:00',\n",
       "                '05:00:00', '06:00:00', '07:00:00', '08:00:00', '09:00:00'],\n",
       "               dtype='timedelta64[ns]', freq='H')"
      ]
     },
     "execution_count": 27,
     "metadata": {},
     "output_type": "execute_result"
    }
   ],
   "source": [
    "#create only hour frequencies (no date attached)\n",
    "#seconds also included\n",
    "pd.timedelta_range(0, periods=10, freq='H')"
   ]
  },
  {
   "cell_type": "code",
   "execution_count": 28,
   "metadata": {},
   "outputs": [
    {
     "data": {
      "text/plain": [
       "TimedeltaIndex(['00:00:00', '02:30:00', '05:00:00', '07:30:00', '10:00:00',\n",
       "                '12:30:00', '15:00:00', '17:30:00', '20:00:00'],\n",
       "               dtype='timedelta64[ns]', freq='150T')"
      ]
     },
     "execution_count": 28,
     "metadata": {},
     "output_type": "execute_result"
    }
   ],
   "source": [
    "#create 2 hour 30 minute intervals\n",
    "pd.timedelta_range(0, periods=9, freq='2H30T')"
   ]
  },
  {
   "cell_type": "code",
   "execution_count": 29,
   "metadata": {},
   "outputs": [
    {
     "data": {
      "text/plain": [
       "DatetimeIndex(['2015-07-01', '2015-07-02', '2015-07-03', '2015-07-06',\n",
       "               '2015-07-07'],\n",
       "              dtype='datetime64[ns]', freq='B')"
      ]
     },
     "execution_count": 29,
     "metadata": {},
     "output_type": "execute_result"
    }
   ],
   "source": [
    "#create business day offsets\n",
    "from pandas.tseries.offsets import BDay\n",
    "\n",
    "pd.date_range('2015-07-01', periods=5, freq=BDay())"
   ]
  },
  {
   "cell_type": "markdown",
   "metadata": {},
   "source": [
    "### Visualize time series data"
   ]
  },
  {
   "cell_type": "code",
   "execution_count": 41,
   "metadata": {},
   "outputs": [
    {
     "data": {
      "text/html": [
       "<div>\n",
       "<style scoped>\n",
       "    .dataframe tbody tr th:only-of-type {\n",
       "        vertical-align: middle;\n",
       "    }\n",
       "\n",
       "    .dataframe tbody tr th {\n",
       "        vertical-align: top;\n",
       "    }\n",
       "\n",
       "    .dataframe thead th {\n",
       "        text-align: right;\n",
       "    }\n",
       "</style>\n",
       "<table border=\"1\" class=\"dataframe\">\n",
       "  <thead>\n",
       "    <tr style=\"text-align: right;\">\n",
       "      <th></th>\n",
       "      <th>Fremont Bridge East Sidewalk</th>\n",
       "      <th>Fremont Bridge West Sidewalk</th>\n",
       "    </tr>\n",
       "    <tr>\n",
       "      <th>Date</th>\n",
       "      <th></th>\n",
       "      <th></th>\n",
       "    </tr>\n",
       "  </thead>\n",
       "  <tbody>\n",
       "    <tr>\n",
       "      <th>2018-10-31 19:00:00</th>\n",
       "      <td>23.0</td>\n",
       "      <td>58.0</td>\n",
       "    </tr>\n",
       "    <tr>\n",
       "      <th>2018-10-31 20:00:00</th>\n",
       "      <td>16.0</td>\n",
       "      <td>31.0</td>\n",
       "    </tr>\n",
       "    <tr>\n",
       "      <th>2018-10-31 21:00:00</th>\n",
       "      <td>15.0</td>\n",
       "      <td>19.0</td>\n",
       "    </tr>\n",
       "    <tr>\n",
       "      <th>2018-10-31 22:00:00</th>\n",
       "      <td>12.0</td>\n",
       "      <td>15.0</td>\n",
       "    </tr>\n",
       "    <tr>\n",
       "      <th>2018-10-31 23:00:00</th>\n",
       "      <td>9.0</td>\n",
       "      <td>11.0</td>\n",
       "    </tr>\n",
       "  </tbody>\n",
       "</table>\n",
       "</div>"
      ],
      "text/plain": [
       "                     Fremont Bridge East Sidewalk  \\\n",
       "Date                                                \n",
       "2018-10-31 19:00:00                          23.0   \n",
       "2018-10-31 20:00:00                          16.0   \n",
       "2018-10-31 21:00:00                          15.0   \n",
       "2018-10-31 22:00:00                          12.0   \n",
       "2018-10-31 23:00:00                           9.0   \n",
       "\n",
       "                     Fremont Bridge West Sidewalk  \n",
       "Date                                               \n",
       "2018-10-31 19:00:00                          58.0  \n",
       "2018-10-31 20:00:00                          31.0  \n",
       "2018-10-31 21:00:00                          19.0  \n",
       "2018-10-31 22:00:00                          15.0  \n",
       "2018-10-31 23:00:00                          11.0  "
      ]
     },
     "execution_count": 41,
     "metadata": {},
     "output_type": "execute_result"
    }
   ],
   "source": [
    "#make dates the index\n",
    "#format dates as we load the data\n",
    "data = pd.read_csv('datasets/FremontBridgeBicycle.csv', index_col=\"Date\", parse_dates=True)\n",
    "data.tail()"
   ]
  },
  {
   "cell_type": "code",
   "execution_count": 44,
   "metadata": {},
   "outputs": [
    {
     "data": {
      "text/plain": [
       "717.0"
      ]
     },
     "execution_count": 44,
     "metadata": {},
     "output_type": "execute_result"
    }
   ],
   "source": [
    "data['Fremont Bridge East Sidewalk'].max()"
   ]
  },
  {
   "cell_type": "code",
   "execution_count": 31,
   "metadata": {},
   "outputs": [
    {
     "data": {
      "text/html": [
       "<div>\n",
       "<style scoped>\n",
       "    .dataframe tbody tr th:only-of-type {\n",
       "        vertical-align: middle;\n",
       "    }\n",
       "\n",
       "    .dataframe tbody tr th {\n",
       "        vertical-align: top;\n",
       "    }\n",
       "\n",
       "    .dataframe thead th {\n",
       "        text-align: right;\n",
       "    }\n",
       "</style>\n",
       "<table border=\"1\" class=\"dataframe\">\n",
       "  <thead>\n",
       "    <tr style=\"text-align: right;\">\n",
       "      <th></th>\n",
       "      <th>Fremont Bridge East Sidewalk</th>\n",
       "      <th>Fremont Bridge West Sidewalk</th>\n",
       "    </tr>\n",
       "  </thead>\n",
       "  <tbody>\n",
       "    <tr>\n",
       "      <th>count</th>\n",
       "      <td>53271.000000</td>\n",
       "      <td>53271.000000</td>\n",
       "    </tr>\n",
       "    <tr>\n",
       "      <th>mean</th>\n",
       "      <td>57.434401</td>\n",
       "      <td>54.368549</td>\n",
       "    </tr>\n",
       "    <tr>\n",
       "      <th>std</th>\n",
       "      <td>82.795998</td>\n",
       "      <td>71.282743</td>\n",
       "    </tr>\n",
       "    <tr>\n",
       "      <th>min</th>\n",
       "      <td>0.000000</td>\n",
       "      <td>0.000000</td>\n",
       "    </tr>\n",
       "    <tr>\n",
       "      <th>25%</th>\n",
       "      <td>7.000000</td>\n",
       "      <td>7.000000</td>\n",
       "    </tr>\n",
       "    <tr>\n",
       "      <th>50%</th>\n",
       "      <td>29.000000</td>\n",
       "      <td>30.000000</td>\n",
       "    </tr>\n",
       "    <tr>\n",
       "      <th>75%</th>\n",
       "      <td>70.000000</td>\n",
       "      <td>72.000000</td>\n",
       "    </tr>\n",
       "    <tr>\n",
       "      <th>max</th>\n",
       "      <td>717.000000</td>\n",
       "      <td>698.000000</td>\n",
       "    </tr>\n",
       "  </tbody>\n",
       "</table>\n",
       "</div>"
      ],
      "text/plain": [
       "       Fremont Bridge East Sidewalk  Fremont Bridge West Sidewalk\n",
       "count                  53271.000000                  53271.000000\n",
       "mean                      57.434401                     54.368549\n",
       "std                       82.795998                     71.282743\n",
       "min                        0.000000                      0.000000\n",
       "25%                        7.000000                      7.000000\n",
       "50%                       29.000000                     30.000000\n",
       "75%                       70.000000                     72.000000\n",
       "max                      717.000000                    698.000000"
      ]
     },
     "execution_count": 31,
     "metadata": {},
     "output_type": "execute_result"
    }
   ],
   "source": [
    "data.describe()"
   ]
  },
  {
   "cell_type": "code",
   "execution_count": 51,
   "metadata": {},
   "outputs": [],
   "source": [
    "#rename columns with shorter name\n",
    "#create a new column 'Total' with combined values of west and east columns\n",
    "data.columns = ['West', 'East']\n",
    "data['Total'] = data.eval('West + East')"
   ]
  },
  {
   "cell_type": "code",
   "execution_count": 33,
   "metadata": {},
   "outputs": [
    {
     "data": {
      "text/html": [
       "<div>\n",
       "<style scoped>\n",
       "    .dataframe tbody tr th:only-of-type {\n",
       "        vertical-align: middle;\n",
       "    }\n",
       "\n",
       "    .dataframe tbody tr th {\n",
       "        vertical-align: top;\n",
       "    }\n",
       "\n",
       "    .dataframe thead th {\n",
       "        text-align: right;\n",
       "    }\n",
       "</style>\n",
       "<table border=\"1\" class=\"dataframe\">\n",
       "  <thead>\n",
       "    <tr style=\"text-align: right;\">\n",
       "      <th></th>\n",
       "      <th>West</th>\n",
       "      <th>East</th>\n",
       "      <th>Total</th>\n",
       "    </tr>\n",
       "    <tr>\n",
       "      <th>Date</th>\n",
       "      <th></th>\n",
       "      <th></th>\n",
       "      <th></th>\n",
       "    </tr>\n",
       "  </thead>\n",
       "  <tbody>\n",
       "    <tr>\n",
       "      <th>2012-10-03 00:00:00</th>\n",
       "      <td>9.0</td>\n",
       "      <td>4.0</td>\n",
       "      <td>13.0</td>\n",
       "    </tr>\n",
       "    <tr>\n",
       "      <th>2012-10-03 01:00:00</th>\n",
       "      <td>6.0</td>\n",
       "      <td>4.0</td>\n",
       "      <td>10.0</td>\n",
       "    </tr>\n",
       "    <tr>\n",
       "      <th>2012-10-03 02:00:00</th>\n",
       "      <td>1.0</td>\n",
       "      <td>1.0</td>\n",
       "      <td>2.0</td>\n",
       "    </tr>\n",
       "    <tr>\n",
       "      <th>2012-10-03 03:00:00</th>\n",
       "      <td>3.0</td>\n",
       "      <td>2.0</td>\n",
       "      <td>5.0</td>\n",
       "    </tr>\n",
       "    <tr>\n",
       "      <th>2012-10-03 04:00:00</th>\n",
       "      <td>1.0</td>\n",
       "      <td>6.0</td>\n",
       "      <td>7.0</td>\n",
       "    </tr>\n",
       "  </tbody>\n",
       "</table>\n",
       "</div>"
      ],
      "text/plain": [
       "                     West  East  Total\n",
       "Date                                  \n",
       "2012-10-03 00:00:00   9.0   4.0   13.0\n",
       "2012-10-03 01:00:00   6.0   4.0   10.0\n",
       "2012-10-03 02:00:00   1.0   1.0    2.0\n",
       "2012-10-03 03:00:00   3.0   2.0    5.0\n",
       "2012-10-03 04:00:00   1.0   6.0    7.0"
      ]
     },
     "execution_count": 33,
     "metadata": {},
     "output_type": "execute_result"
    }
   ],
   "source": [
    "data.head()"
   ]
  },
  {
   "cell_type": "code",
   "execution_count": 34,
   "metadata": {},
   "outputs": [
    {
     "data": {
      "text/plain": [
       "Text(0, 0.5, 'Hourly Bicycle Count')"
      ]
     },
     "execution_count": 34,
     "metadata": {},
     "output_type": "execute_result"
    },
    {
     "data": {
      "image/png": "[encoded data removed]",
      "text/plain": [
       "<Figure size 432x288 with 1 Axes>"
      ]
     },
     "metadata": {
      "needs_background": "light"
     },
     "output_type": "display_data"
    }
   ],
   "source": [
    "#bar plot of data\n",
    "#plt.subplots(figsize=(6,7))\n",
    "data.plot()\n",
    "plt.ylabel('Hourly Bicycle Count')"
   ]
  },
  {
   "cell_type": "code",
   "execution_count": 47,
   "metadata": {},
   "outputs": [
    {
     "data": {
      "text/html": [
       "<div>\n",
       "<style scoped>\n",
       "    .dataframe tbody tr th:only-of-type {\n",
       "        vertical-align: middle;\n",
       "    }\n",
       "\n",
       "    .dataframe tbody tr th {\n",
       "        vertical-align: top;\n",
       "    }\n",
       "\n",
       "    .dataframe thead th {\n",
       "        text-align: right;\n",
       "    }\n",
       "</style>\n",
       "<table border=\"1\" class=\"dataframe\">\n",
       "  <thead>\n",
       "    <tr style=\"text-align: right;\">\n",
       "      <th></th>\n",
       "      <th>Fremont Bridge East Sidewalk</th>\n",
       "      <th>Fremont Bridge West Sidewalk</th>\n",
       "    </tr>\n",
       "    <tr>\n",
       "      <th>Date</th>\n",
       "      <th></th>\n",
       "      <th></th>\n",
       "    </tr>\n",
       "  </thead>\n",
       "  <tbody>\n",
       "    <tr>\n",
       "      <th>2012-10-07</th>\n",
       "      <td>6995.0</td>\n",
       "      <td>7297.0</td>\n",
       "    </tr>\n",
       "    <tr>\n",
       "      <th>2012-10-14</th>\n",
       "      <td>8116.0</td>\n",
       "      <td>8679.0</td>\n",
       "    </tr>\n",
       "    <tr>\n",
       "      <th>2012-10-21</th>\n",
       "      <td>7563.0</td>\n",
       "      <td>7946.0</td>\n",
       "    </tr>\n",
       "    <tr>\n",
       "      <th>2012-10-28</th>\n",
       "      <td>6536.0</td>\n",
       "      <td>6901.0</td>\n",
       "    </tr>\n",
       "    <tr>\n",
       "      <th>2012-11-04</th>\n",
       "      <td>5786.0</td>\n",
       "      <td>6408.0</td>\n",
       "    </tr>\n",
       "    <tr>\n",
       "      <th>2012-11-11</th>\n",
       "      <td>7275.0</td>\n",
       "      <td>7741.0</td>\n",
       "    </tr>\n",
       "    <tr>\n",
       "      <th>2012-11-18</th>\n",
       "      <td>5799.0</td>\n",
       "      <td>6077.0</td>\n",
       "    </tr>\n",
       "    <tr>\n",
       "      <th>2012-11-25</th>\n",
       "      <td>3316.0</td>\n",
       "      <td>3534.0</td>\n",
       "    </tr>\n",
       "    <tr>\n",
       "      <th>2012-12-02</th>\n",
       "      <td>5659.0</td>\n",
       "      <td>5875.0</td>\n",
       "    </tr>\n",
       "    <tr>\n",
       "      <th>2012-12-09</th>\n",
       "      <td>5488.0</td>\n",
       "      <td>5682.0</td>\n",
       "    </tr>\n",
       "    <tr>\n",
       "      <th>2012-12-16</th>\n",
       "      <td>5107.0</td>\n",
       "      <td>5384.0</td>\n",
       "    </tr>\n",
       "    <tr>\n",
       "      <th>2012-12-23</th>\n",
       "      <td>3705.0</td>\n",
       "      <td>3752.0</td>\n",
       "    </tr>\n",
       "    <tr>\n",
       "      <th>2012-12-30</th>\n",
       "      <td>2492.0</td>\n",
       "      <td>2612.0</td>\n",
       "    </tr>\n",
       "    <tr>\n",
       "      <th>2013-01-06</th>\n",
       "      <td>4124.0</td>\n",
       "      <td>4315.0</td>\n",
       "    </tr>\n",
       "    <tr>\n",
       "      <th>2013-01-13</th>\n",
       "      <td>4573.0</td>\n",
       "      <td>4861.0</td>\n",
       "    </tr>\n",
       "    <tr>\n",
       "      <th>2013-01-20</th>\n",
       "      <td>5258.0</td>\n",
       "      <td>5550.0</td>\n",
       "    </tr>\n",
       "    <tr>\n",
       "      <th>2013-01-27</th>\n",
       "      <td>4915.0</td>\n",
       "      <td>5096.0</td>\n",
       "    </tr>\n",
       "    <tr>\n",
       "      <th>2013-02-03</th>\n",
       "      <td>5439.0</td>\n",
       "      <td>5848.0</td>\n",
       "    </tr>\n",
       "    <tr>\n",
       "      <th>2013-02-10</th>\n",
       "      <td>6253.0</td>\n",
       "      <td>6816.0</td>\n",
       "    </tr>\n",
       "    <tr>\n",
       "      <th>2013-02-17</th>\n",
       "      <td>5952.0</td>\n",
       "      <td>6438.0</td>\n",
       "    </tr>\n",
       "    <tr>\n",
       "      <th>2013-02-24</th>\n",
       "      <td>5720.0</td>\n",
       "      <td>6063.0</td>\n",
       "    </tr>\n",
       "    <tr>\n",
       "      <th>2013-03-03</th>\n",
       "      <td>6507.0</td>\n",
       "      <td>6937.0</td>\n",
       "    </tr>\n",
       "    <tr>\n",
       "      <th>2013-03-10</th>\n",
       "      <td>7434.0</td>\n",
       "      <td>8161.0</td>\n",
       "    </tr>\n",
       "    <tr>\n",
       "      <th>2013-03-17</th>\n",
       "      <td>6315.0</td>\n",
       "      <td>6724.0</td>\n",
       "    </tr>\n",
       "    <tr>\n",
       "      <th>2013-03-24</th>\n",
       "      <td>6355.0</td>\n",
       "      <td>6768.0</td>\n",
       "    </tr>\n",
       "    <tr>\n",
       "      <th>2013-03-31</th>\n",
       "      <td>9344.0</td>\n",
       "      <td>10220.0</td>\n",
       "    </tr>\n",
       "    <tr>\n",
       "      <th>2013-04-07</th>\n",
       "      <td>7485.0</td>\n",
       "      <td>7751.0</td>\n",
       "    </tr>\n",
       "    <tr>\n",
       "      <th>2013-04-14</th>\n",
       "      <td>7030.0</td>\n",
       "      <td>7526.0</td>\n",
       "    </tr>\n",
       "    <tr>\n",
       "      <th>2013-04-21</th>\n",
       "      <td>6672.0</td>\n",
       "      <td>7387.0</td>\n",
       "    </tr>\n",
       "    <tr>\n",
       "      <th>2013-04-28</th>\n",
       "      <td>10546.0</td>\n",
       "      <td>11506.0</td>\n",
       "    </tr>\n",
       "    <tr>\n",
       "      <th>...</th>\n",
       "      <td>...</td>\n",
       "      <td>...</td>\n",
       "    </tr>\n",
       "    <tr>\n",
       "      <th>2018-04-15</th>\n",
       "      <td>8271.0</td>\n",
       "      <td>5657.0</td>\n",
       "    </tr>\n",
       "    <tr>\n",
       "      <th>2018-04-22</th>\n",
       "      <td>11811.0</td>\n",
       "      <td>8472.0</td>\n",
       "    </tr>\n",
       "    <tr>\n",
       "      <th>2018-04-29</th>\n",
       "      <td>14911.0</td>\n",
       "      <td>10521.0</td>\n",
       "    </tr>\n",
       "    <tr>\n",
       "      <th>2018-05-06</th>\n",
       "      <td>16081.0</td>\n",
       "      <td>11517.0</td>\n",
       "    </tr>\n",
       "    <tr>\n",
       "      <th>2018-05-13</th>\n",
       "      <td>16557.0</td>\n",
       "      <td>11936.0</td>\n",
       "    </tr>\n",
       "    <tr>\n",
       "      <th>2018-05-20</th>\n",
       "      <td>17564.0</td>\n",
       "      <td>12960.0</td>\n",
       "    </tr>\n",
       "    <tr>\n",
       "      <th>2018-05-27</th>\n",
       "      <td>17800.0</td>\n",
       "      <td>12418.0</td>\n",
       "    </tr>\n",
       "    <tr>\n",
       "      <th>2018-06-03</th>\n",
       "      <td>14462.0</td>\n",
       "      <td>10489.0</td>\n",
       "    </tr>\n",
       "    <tr>\n",
       "      <th>2018-06-10</th>\n",
       "      <td>14490.0</td>\n",
       "      <td>10037.0</td>\n",
       "    </tr>\n",
       "    <tr>\n",
       "      <th>2018-06-17</th>\n",
       "      <td>15748.0</td>\n",
       "      <td>10461.0</td>\n",
       "    </tr>\n",
       "    <tr>\n",
       "      <th>2018-06-24</th>\n",
       "      <td>17790.0</td>\n",
       "      <td>11889.0</td>\n",
       "    </tr>\n",
       "    <tr>\n",
       "      <th>2018-07-01</th>\n",
       "      <td>15561.0</td>\n",
       "      <td>10480.0</td>\n",
       "    </tr>\n",
       "    <tr>\n",
       "      <th>2018-07-08</th>\n",
       "      <td>11302.0</td>\n",
       "      <td>15539.0</td>\n",
       "    </tr>\n",
       "    <tr>\n",
       "      <th>2018-07-15</th>\n",
       "      <td>12222.0</td>\n",
       "      <td>17750.0</td>\n",
       "    </tr>\n",
       "    <tr>\n",
       "      <th>2018-07-22</th>\n",
       "      <td>12021.0</td>\n",
       "      <td>17501.0</td>\n",
       "    </tr>\n",
       "    <tr>\n",
       "      <th>2018-07-29</th>\n",
       "      <td>11999.0</td>\n",
       "      <td>18023.0</td>\n",
       "    </tr>\n",
       "    <tr>\n",
       "      <th>2018-08-05</th>\n",
       "      <td>14250.0</td>\n",
       "      <td>13335.0</td>\n",
       "    </tr>\n",
       "    <tr>\n",
       "      <th>2018-08-12</th>\n",
       "      <td>18591.0</td>\n",
       "      <td>11640.0</td>\n",
       "    </tr>\n",
       "    <tr>\n",
       "      <th>2018-08-19</th>\n",
       "      <td>15619.0</td>\n",
       "      <td>10420.0</td>\n",
       "    </tr>\n",
       "    <tr>\n",
       "      <th>2018-08-26</th>\n",
       "      <td>10445.0</td>\n",
       "      <td>6778.0</td>\n",
       "    </tr>\n",
       "    <tr>\n",
       "      <th>2018-09-02</th>\n",
       "      <td>14676.0</td>\n",
       "      <td>9916.0</td>\n",
       "    </tr>\n",
       "    <tr>\n",
       "      <th>2018-09-09</th>\n",
       "      <td>9415.0</td>\n",
       "      <td>14277.0</td>\n",
       "    </tr>\n",
       "    <tr>\n",
       "      <th>2018-09-16</th>\n",
       "      <td>8130.0</td>\n",
       "      <td>12197.0</td>\n",
       "    </tr>\n",
       "    <tr>\n",
       "      <th>2018-09-23</th>\n",
       "      <td>9223.0</td>\n",
       "      <td>13822.0</td>\n",
       "    </tr>\n",
       "    <tr>\n",
       "      <th>2018-09-30</th>\n",
       "      <td>10060.0</td>\n",
       "      <td>15185.0</td>\n",
       "    </tr>\n",
       "    <tr>\n",
       "      <th>2018-10-07</th>\n",
       "      <td>7613.0</td>\n",
       "      <td>11826.0</td>\n",
       "    </tr>\n",
       "    <tr>\n",
       "      <th>2018-10-14</th>\n",
       "      <td>8565.0</td>\n",
       "      <td>12604.0</td>\n",
       "    </tr>\n",
       "    <tr>\n",
       "      <th>2018-10-21</th>\n",
       "      <td>9194.0</td>\n",
       "      <td>13972.0</td>\n",
       "    </tr>\n",
       "    <tr>\n",
       "      <th>2018-10-28</th>\n",
       "      <td>6907.0</td>\n",
       "      <td>10595.0</td>\n",
       "    </tr>\n",
       "    <tr>\n",
       "      <th>2018-11-04</th>\n",
       "      <td>3692.0</td>\n",
       "      <td>6014.0</td>\n",
       "    </tr>\n",
       "  </tbody>\n",
       "</table>\n",
       "<p>318 rows × 2 columns</p>\n",
       "</div>"
      ],
      "text/plain": [
       "            Fremont Bridge East Sidewalk  Fremont Bridge West Sidewalk\n",
       "Date                                                                  \n",
       "2012-10-07                        6995.0                        7297.0\n",
       "2012-10-14                        8116.0                        8679.0\n",
       "2012-10-21                        7563.0                        7946.0\n",
       "2012-10-28                        6536.0                        6901.0\n",
       "2012-11-04                        5786.0                        6408.0\n",
       "2012-11-11                        7275.0                        7741.0\n",
       "2012-11-18                        5799.0                        6077.0\n",
       "2012-11-25                        3316.0                        3534.0\n",
       "2012-12-02                        5659.0                        5875.0\n",
       "2012-12-09                        5488.0                        5682.0\n",
       "2012-12-16                        5107.0                        5384.0\n",
       "2012-12-23                        3705.0                        3752.0\n",
       "2012-12-30                        2492.0                        2612.0\n",
       "2013-01-06                        4124.0                        4315.0\n",
       "2013-01-13                        4573.0                        4861.0\n",
       "2013-01-20                        5258.0                        5550.0\n",
       "2013-01-27                        4915.0                        5096.0\n",
       "2013-02-03                        5439.0                        5848.0\n",
       "2013-02-10                        6253.0                        6816.0\n",
       "2013-02-17                        5952.0                        6438.0\n",
       "2013-02-24                        5720.0                        6063.0\n",
       "2013-03-03                        6507.0                        6937.0\n",
       "2013-03-10                        7434.0                        8161.0\n",
       "2013-03-17                        6315.0                        6724.0\n",
       "2013-03-24                        6355.0                        6768.0\n",
       "2013-03-31                        9344.0                       10220.0\n",
       "2013-04-07                        7485.0                        7751.0\n",
       "2013-04-14                        7030.0                        7526.0\n",
       "2013-04-21                        6672.0                        7387.0\n",
       "2013-04-28                       10546.0                       11506.0\n",
       "...                                  ...                           ...\n",
       "2018-04-15                        8271.0                        5657.0\n",
       "2018-04-22                       11811.0                        8472.0\n",
       "2018-04-29                       14911.0                       10521.0\n",
       "2018-05-06                       16081.0                       11517.0\n",
       "2018-05-13                       16557.0                       11936.0\n",
       "2018-05-20                       17564.0                       12960.0\n",
       "2018-05-27                       17800.0                       12418.0\n",
       "2018-06-03                       14462.0                       10489.0\n",
       "2018-06-10                       14490.0                       10037.0\n",
       "2018-06-17                       15748.0                       10461.0\n",
       "2018-06-24                       17790.0                       11889.0\n",
       "2018-07-01                       15561.0                       10480.0\n",
       "2018-07-08                       11302.0                       15539.0\n",
       "2018-07-15                       12222.0                       17750.0\n",
       "2018-07-22                       12021.0                       17501.0\n",
       "2018-07-29                       11999.0                       18023.0\n",
       "2018-08-05                       14250.0                       13335.0\n",
       "2018-08-12                       18591.0                       11640.0\n",
       "2018-08-19                       15619.0                       10420.0\n",
       "2018-08-26                       10445.0                        6778.0\n",
       "2018-09-02                       14676.0                        9916.0\n",
       "2018-09-09                        9415.0                       14277.0\n",
       "2018-09-16                        8130.0                       12197.0\n",
       "2018-09-23                        9223.0                       13822.0\n",
       "2018-09-30                       10060.0                       15185.0\n",
       "2018-10-07                        7613.0                       11826.0\n",
       "2018-10-14                        8565.0                       12604.0\n",
       "2018-10-21                        9194.0                       13972.0\n",
       "2018-10-28                        6907.0                       10595.0\n",
       "2018-11-04                        3692.0                        6014.0\n",
       "\n",
       "[318 rows x 2 columns]"
      ]
     },
     "execution_count": 47,
     "metadata": {},
     "output_type": "execute_result"
    }
   ],
   "source": [
    "weekly = data.resample('W').sum()\n",
    "weekly\n"
   ]
  },
  {
   "cell_type": "code",
   "execution_count": 59,
   "metadata": {},
   "outputs": [
    {
     "data": {
      "text/html": [
       "<div>\n",
       "<style scoped>\n",
       "    .dataframe tbody tr th:only-of-type {\n",
       "        vertical-align: middle;\n",
       "    }\n",
       "\n",
       "    .dataframe tbody tr th {\n",
       "        vertical-align: top;\n",
       "    }\n",
       "\n",
       "    .dataframe thead th {\n",
       "        text-align: right;\n",
       "    }\n",
       "</style>\n",
       "<table border=\"1\" class=\"dataframe\">\n",
       "  <thead>\n",
       "    <tr style=\"text-align: right;\">\n",
       "      <th></th>\n",
       "      <th>West</th>\n",
       "      <th>East</th>\n",
       "      <th>Total</th>\n",
       "    </tr>\n",
       "    <tr>\n",
       "      <th>Date</th>\n",
       "      <th></th>\n",
       "      <th></th>\n",
       "      <th></th>\n",
       "    </tr>\n",
       "  </thead>\n",
       "  <tbody>\n",
       "    <tr>\n",
       "      <th>2012-10-31</th>\n",
       "      <td>31931.0</td>\n",
       "      <td>33764.0</td>\n",
       "      <td>65695.0</td>\n",
       "    </tr>\n",
       "    <tr>\n",
       "      <th>2012-11-30</th>\n",
       "      <td>24585.0</td>\n",
       "      <td>26062.0</td>\n",
       "      <td>50647.0</td>\n",
       "    </tr>\n",
       "    <tr>\n",
       "      <th>2012-12-31</th>\n",
       "      <td>17761.0</td>\n",
       "      <td>18608.0</td>\n",
       "      <td>36369.0</td>\n",
       "    </tr>\n",
       "    <tr>\n",
       "      <th>2013-01-31</th>\n",
       "      <td>21974.0</td>\n",
       "      <td>22910.0</td>\n",
       "      <td>44884.0</td>\n",
       "    </tr>\n",
       "    <tr>\n",
       "      <th>2013-02-28</th>\n",
       "      <td>24129.0</td>\n",
       "      <td>25898.0</td>\n",
       "      <td>50027.0</td>\n",
       "    </tr>\n",
       "    <tr>\n",
       "      <th>2013-03-31</th>\n",
       "      <td>31646.0</td>\n",
       "      <td>34443.0</td>\n",
       "      <td>66089.0</td>\n",
       "    </tr>\n",
       "    <tr>\n",
       "      <th>2013-04-30</th>\n",
       "      <td>34695.0</td>\n",
       "      <td>37303.0</td>\n",
       "      <td>71998.0</td>\n",
       "    </tr>\n",
       "    <tr>\n",
       "      <th>2013-05-31</th>\n",
       "      <td>51737.0</td>\n",
       "      <td>56837.0</td>\n",
       "      <td>108574.0</td>\n",
       "    </tr>\n",
       "    <tr>\n",
       "      <th>2013-06-30</th>\n",
       "      <td>47841.0</td>\n",
       "      <td>51439.0</td>\n",
       "      <td>99280.0</td>\n",
       "    </tr>\n",
       "    <tr>\n",
       "      <th>2013-07-31</th>\n",
       "      <td>57961.0</td>\n",
       "      <td>60013.0</td>\n",
       "      <td>117974.0</td>\n",
       "    </tr>\n",
       "    <tr>\n",
       "      <th>2013-08-31</th>\n",
       "      <td>51350.0</td>\n",
       "      <td>53199.0</td>\n",
       "      <td>104549.0</td>\n",
       "    </tr>\n",
       "    <tr>\n",
       "      <th>2013-09-30</th>\n",
       "      <td>39055.0</td>\n",
       "      <td>41674.0</td>\n",
       "      <td>80729.0</td>\n",
       "    </tr>\n",
       "    <tr>\n",
       "      <th>2013-10-31</th>\n",
       "      <td>39164.0</td>\n",
       "      <td>42188.0</td>\n",
       "      <td>81352.0</td>\n",
       "    </tr>\n",
       "    <tr>\n",
       "      <th>2013-11-30</th>\n",
       "      <td>28759.0</td>\n",
       "      <td>30511.0</td>\n",
       "      <td>59270.0</td>\n",
       "    </tr>\n",
       "    <tr>\n",
       "      <th>2013-12-31</th>\n",
       "      <td>20977.0</td>\n",
       "      <td>22576.0</td>\n",
       "      <td>43553.0</td>\n",
       "    </tr>\n",
       "    <tr>\n",
       "      <th>2014-01-31</th>\n",
       "      <td>28899.0</td>\n",
       "      <td>30974.0</td>\n",
       "      <td>59873.0</td>\n",
       "    </tr>\n",
       "    <tr>\n",
       "      <th>2014-02-28</th>\n",
       "      <td>22939.0</td>\n",
       "      <td>24086.0</td>\n",
       "      <td>47025.0</td>\n",
       "    </tr>\n",
       "    <tr>\n",
       "      <th>2014-03-31</th>\n",
       "      <td>30644.0</td>\n",
       "      <td>32850.0</td>\n",
       "      <td>63494.0</td>\n",
       "    </tr>\n",
       "    <tr>\n",
       "      <th>2014-04-30</th>\n",
       "      <td>41996.0</td>\n",
       "      <td>44859.0</td>\n",
       "      <td>86855.0</td>\n",
       "    </tr>\n",
       "    <tr>\n",
       "      <th>2014-05-31</th>\n",
       "      <td>57182.0</td>\n",
       "      <td>61462.0</td>\n",
       "      <td>118644.0</td>\n",
       "    </tr>\n",
       "    <tr>\n",
       "      <th>2014-06-30</th>\n",
       "      <td>54594.0</td>\n",
       "      <td>56313.0</td>\n",
       "      <td>110907.0</td>\n",
       "    </tr>\n",
       "    <tr>\n",
       "      <th>2014-07-31</th>\n",
       "      <td>59499.0</td>\n",
       "      <td>61170.0</td>\n",
       "      <td>120669.0</td>\n",
       "    </tr>\n",
       "    <tr>\n",
       "      <th>2014-08-31</th>\n",
       "      <td>56250.0</td>\n",
       "      <td>56240.0</td>\n",
       "      <td>112490.0</td>\n",
       "    </tr>\n",
       "    <tr>\n",
       "      <th>2014-09-30</th>\n",
       "      <td>46515.0</td>\n",
       "      <td>51043.0</td>\n",
       "      <td>97558.0</td>\n",
       "    </tr>\n",
       "    <tr>\n",
       "      <th>2014-10-31</th>\n",
       "      <td>38507.0</td>\n",
       "      <td>44677.0</td>\n",
       "      <td>83184.0</td>\n",
       "    </tr>\n",
       "    <tr>\n",
       "      <th>2014-11-30</th>\n",
       "      <td>29027.0</td>\n",
       "      <td>27963.0</td>\n",
       "      <td>56990.0</td>\n",
       "    </tr>\n",
       "    <tr>\n",
       "      <th>2014-12-31</th>\n",
       "      <td>24818.0</td>\n",
       "      <td>23689.0</td>\n",
       "      <td>48507.0</td>\n",
       "    </tr>\n",
       "    <tr>\n",
       "      <th>2015-01-31</th>\n",
       "      <td>24876.0</td>\n",
       "      <td>35754.0</td>\n",
       "      <td>60630.0</td>\n",
       "    </tr>\n",
       "    <tr>\n",
       "      <th>2015-02-28</th>\n",
       "      <td>25868.0</td>\n",
       "      <td>32791.0</td>\n",
       "      <td>58659.0</td>\n",
       "    </tr>\n",
       "    <tr>\n",
       "      <th>2015-03-31</th>\n",
       "      <td>36559.0</td>\n",
       "      <td>34585.0</td>\n",
       "      <td>71144.0</td>\n",
       "    </tr>\n",
       "    <tr>\n",
       "      <th>...</th>\n",
       "      <td>...</td>\n",
       "      <td>...</td>\n",
       "      <td>...</td>\n",
       "    </tr>\n",
       "    <tr>\n",
       "      <th>2016-05-31</th>\n",
       "      <td>57564.0</td>\n",
       "      <td>56595.0</td>\n",
       "      <td>114159.0</td>\n",
       "    </tr>\n",
       "    <tr>\n",
       "      <th>2016-06-30</th>\n",
       "      <td>56066.0</td>\n",
       "      <td>51551.0</td>\n",
       "      <td>107617.0</td>\n",
       "    </tr>\n",
       "    <tr>\n",
       "      <th>2016-07-31</th>\n",
       "      <td>55310.0</td>\n",
       "      <td>50373.0</td>\n",
       "      <td>105683.0</td>\n",
       "    </tr>\n",
       "    <tr>\n",
       "      <th>2016-08-31</th>\n",
       "      <td>60394.0</td>\n",
       "      <td>51986.0</td>\n",
       "      <td>112380.0</td>\n",
       "    </tr>\n",
       "    <tr>\n",
       "      <th>2016-09-30</th>\n",
       "      <td>50876.0</td>\n",
       "      <td>43281.0</td>\n",
       "      <td>94157.0</td>\n",
       "    </tr>\n",
       "    <tr>\n",
       "      <th>2016-10-31</th>\n",
       "      <td>38021.0</td>\n",
       "      <td>31862.0</td>\n",
       "      <td>69883.0</td>\n",
       "    </tr>\n",
       "    <tr>\n",
       "      <th>2016-11-30</th>\n",
       "      <td>35493.0</td>\n",
       "      <td>28604.0</td>\n",
       "      <td>64097.0</td>\n",
       "    </tr>\n",
       "    <tr>\n",
       "      <th>2016-12-31</th>\n",
       "      <td>21552.0</td>\n",
       "      <td>17385.0</td>\n",
       "      <td>38937.0</td>\n",
       "    </tr>\n",
       "    <tr>\n",
       "      <th>2017-01-31</th>\n",
       "      <td>27417.0</td>\n",
       "      <td>22388.0</td>\n",
       "      <td>49805.0</td>\n",
       "    </tr>\n",
       "    <tr>\n",
       "      <th>2017-02-28</th>\n",
       "      <td>23444.0</td>\n",
       "      <td>18557.0</td>\n",
       "      <td>42001.0</td>\n",
       "    </tr>\n",
       "    <tr>\n",
       "      <th>2017-03-31</th>\n",
       "      <td>33044.0</td>\n",
       "      <td>25703.0</td>\n",
       "      <td>58747.0</td>\n",
       "    </tr>\n",
       "    <tr>\n",
       "      <th>2017-04-30</th>\n",
       "      <td>38080.0</td>\n",
       "      <td>30333.0</td>\n",
       "      <td>68413.0</td>\n",
       "    </tr>\n",
       "    <tr>\n",
       "      <th>2017-05-31</th>\n",
       "      <td>60822.0</td>\n",
       "      <td>48267.0</td>\n",
       "      <td>109089.0</td>\n",
       "    </tr>\n",
       "    <tr>\n",
       "      <th>2017-06-30</th>\n",
       "      <td>60978.0</td>\n",
       "      <td>46823.0</td>\n",
       "      <td>107801.0</td>\n",
       "    </tr>\n",
       "    <tr>\n",
       "      <th>2017-07-31</th>\n",
       "      <td>67931.0</td>\n",
       "      <td>50973.0</td>\n",
       "      <td>118904.0</td>\n",
       "    </tr>\n",
       "    <tr>\n",
       "      <th>2017-08-31</th>\n",
       "      <td>70421.0</td>\n",
       "      <td>49767.0</td>\n",
       "      <td>120188.0</td>\n",
       "    </tr>\n",
       "    <tr>\n",
       "      <th>2017-09-30</th>\n",
       "      <td>55632.0</td>\n",
       "      <td>40866.0</td>\n",
       "      <td>96498.0</td>\n",
       "    </tr>\n",
       "    <tr>\n",
       "      <th>2017-10-31</th>\n",
       "      <td>51703.0</td>\n",
       "      <td>36440.0</td>\n",
       "      <td>88143.0</td>\n",
       "    </tr>\n",
       "    <tr>\n",
       "      <th>2017-11-30</th>\n",
       "      <td>34242.0</td>\n",
       "      <td>23442.0</td>\n",
       "      <td>57684.0</td>\n",
       "    </tr>\n",
       "    <tr>\n",
       "      <th>2017-12-31</th>\n",
       "      <td>26916.0</td>\n",
       "      <td>18946.0</td>\n",
       "      <td>45862.0</td>\n",
       "    </tr>\n",
       "    <tr>\n",
       "      <th>2018-01-31</th>\n",
       "      <td>34712.0</td>\n",
       "      <td>23879.0</td>\n",
       "      <td>58591.0</td>\n",
       "    </tr>\n",
       "    <tr>\n",
       "      <th>2018-02-28</th>\n",
       "      <td>29974.0</td>\n",
       "      <td>20703.0</td>\n",
       "      <td>50677.0</td>\n",
       "    </tr>\n",
       "    <tr>\n",
       "      <th>2018-03-31</th>\n",
       "      <td>45289.0</td>\n",
       "      <td>31995.0</td>\n",
       "      <td>77284.0</td>\n",
       "    </tr>\n",
       "    <tr>\n",
       "      <th>2018-04-30</th>\n",
       "      <td>46954.0</td>\n",
       "      <td>32993.0</td>\n",
       "      <td>79947.0</td>\n",
       "    </tr>\n",
       "    <tr>\n",
       "      <th>2018-05-31</th>\n",
       "      <td>75623.0</td>\n",
       "      <td>54190.0</td>\n",
       "      <td>129813.0</td>\n",
       "    </tr>\n",
       "    <tr>\n",
       "      <th>2018-06-30</th>\n",
       "      <td>67458.0</td>\n",
       "      <td>45687.0</td>\n",
       "      <td>113145.0</td>\n",
       "    </tr>\n",
       "    <tr>\n",
       "      <th>2018-07-31</th>\n",
       "      <td>52189.0</td>\n",
       "      <td>75829.0</td>\n",
       "      <td>128018.0</td>\n",
       "    </tr>\n",
       "    <tr>\n",
       "      <th>2018-08-31</th>\n",
       "      <td>67772.0</td>\n",
       "      <td>44037.0</td>\n",
       "      <td>111809.0</td>\n",
       "    </tr>\n",
       "    <tr>\n",
       "      <th>2018-09-30</th>\n",
       "      <td>38774.0</td>\n",
       "      <td>57468.0</td>\n",
       "      <td>96242.0</td>\n",
       "    </tr>\n",
       "    <tr>\n",
       "      <th>2018-10-31</th>\n",
       "      <td>35971.0</td>\n",
       "      <td>55011.0</td>\n",
       "      <td>90982.0</td>\n",
       "    </tr>\n",
       "  </tbody>\n",
       "</table>\n",
       "<p>73 rows × 3 columns</p>\n",
       "</div>"
      ],
      "text/plain": [
       "               West     East     Total\n",
       "Date                                  \n",
       "2012-10-31  31931.0  33764.0   65695.0\n",
       "2012-11-30  24585.0  26062.0   50647.0\n",
       "2012-12-31  17761.0  18608.0   36369.0\n",
       "2013-01-31  21974.0  22910.0   44884.0\n",
       "2013-02-28  24129.0  25898.0   50027.0\n",
       "2013-03-31  31646.0  34443.0   66089.0\n",
       "2013-04-30  34695.0  37303.0   71998.0\n",
       "2013-05-31  51737.0  56837.0  108574.0\n",
       "2013-06-30  47841.0  51439.0   99280.0\n",
       "2013-07-31  57961.0  60013.0  117974.0\n",
       "2013-08-31  51350.0  53199.0  104549.0\n",
       "2013-09-30  39055.0  41674.0   80729.0\n",
       "2013-10-31  39164.0  42188.0   81352.0\n",
       "2013-11-30  28759.0  30511.0   59270.0\n",
       "2013-12-31  20977.0  22576.0   43553.0\n",
       "2014-01-31  28899.0  30974.0   59873.0\n",
       "2014-02-28  22939.0  24086.0   47025.0\n",
       "2014-03-31  30644.0  32850.0   63494.0\n",
       "2014-04-30  41996.0  44859.0   86855.0\n",
       "2014-05-31  57182.0  61462.0  118644.0\n",
       "2014-06-30  54594.0  56313.0  110907.0\n",
       "2014-07-31  59499.0  61170.0  120669.0\n",
       "2014-08-31  56250.0  56240.0  112490.0\n",
       "2014-09-30  46515.0  51043.0   97558.0\n",
       "2014-10-31  38507.0  44677.0   83184.0\n",
       "2014-11-30  29027.0  27963.0   56990.0\n",
       "2014-12-31  24818.0  23689.0   48507.0\n",
       "2015-01-31  24876.0  35754.0   60630.0\n",
       "2015-02-28  25868.0  32791.0   58659.0\n",
       "2015-03-31  36559.0  34585.0   71144.0\n",
       "...             ...      ...       ...\n",
       "2016-05-31  57564.0  56595.0  114159.0\n",
       "2016-06-30  56066.0  51551.0  107617.0\n",
       "2016-07-31  55310.0  50373.0  105683.0\n",
       "2016-08-31  60394.0  51986.0  112380.0\n",
       "2016-09-30  50876.0  43281.0   94157.0\n",
       "2016-10-31  38021.0  31862.0   69883.0\n",
       "2016-11-30  35493.0  28604.0   64097.0\n",
       "2016-12-31  21552.0  17385.0   38937.0\n",
       "2017-01-31  27417.0  22388.0   49805.0\n",
       "2017-02-28  23444.0  18557.0   42001.0\n",
       "2017-03-31  33044.0  25703.0   58747.0\n",
       "2017-04-30  38080.0  30333.0   68413.0\n",
       "2017-05-31  60822.0  48267.0  109089.0\n",
       "2017-06-30  60978.0  46823.0  107801.0\n",
       "2017-07-31  67931.0  50973.0  118904.0\n",
       "2017-08-31  70421.0  49767.0  120188.0\n",
       "2017-09-30  55632.0  40866.0   96498.0\n",
       "2017-10-31  51703.0  36440.0   88143.0\n",
       "2017-11-30  34242.0  23442.0   57684.0\n",
       "2017-12-31  26916.0  18946.0   45862.0\n",
       "2018-01-31  34712.0  23879.0   58591.0\n",
       "2018-02-28  29974.0  20703.0   50677.0\n",
       "2018-03-31  45289.0  31995.0   77284.0\n",
       "2018-04-30  46954.0  32993.0   79947.0\n",
       "2018-05-31  75623.0  54190.0  129813.0\n",
       "2018-06-30  67458.0  45687.0  113145.0\n",
       "2018-07-31  52189.0  75829.0  128018.0\n",
       "2018-08-31  67772.0  44037.0  111809.0\n",
       "2018-09-30  38774.0  57468.0   96242.0\n",
       "2018-10-31  35971.0  55011.0   90982.0\n",
       "\n",
       "[73 rows x 3 columns]"
      ]
     },
     "execution_count": 59,
     "metadata": {},
     "output_type": "execute_result"
    },
    {
     "data": {
      "image/png": "[encoded data removed]",
      "text/plain": [
       "<Figure size 432x288 with 1 Axes>"
      ]
     },
     "metadata": {
      "needs_background": "light"
     },
     "output_type": "display_data"
    }
   ],
   "source": [
    "monthly = data.resample('M').sum()\n",
    "monthly.plot(style=[':', '--', '-']) #line styles for each feature\n",
    "plt.ylabel('Weekly Bicycle Count')\n",
    "monthly"
   ]
  },
  {
   "cell_type": "code",
   "execution_count": 62,
   "metadata": {},
   "outputs": [
    {
     "data": {
      "text/html": [
       "<div>\n",
       "<style scoped>\n",
       "    .dataframe tbody tr th:only-of-type {\n",
       "        vertical-align: middle;\n",
       "    }\n",
       "\n",
       "    .dataframe tbody tr th {\n",
       "        vertical-align: top;\n",
       "    }\n",
       "\n",
       "    .dataframe thead th {\n",
       "        text-align: right;\n",
       "    }\n",
       "</style>\n",
       "<table border=\"1\" class=\"dataframe\">\n",
       "  <thead>\n",
       "    <tr style=\"text-align: right;\">\n",
       "      <th></th>\n",
       "      <th>Fremont Bridge East Sidewalk</th>\n",
       "      <th>Fremont Bridge West Sidewalk</th>\n",
       "    </tr>\n",
       "    <tr>\n",
       "      <th>Date</th>\n",
       "      <th></th>\n",
       "      <th></th>\n",
       "    </tr>\n",
       "  </thead>\n",
       "  <tbody>\n",
       "    <tr>\n",
       "      <th>2012-10-07</th>\n",
       "      <td>6995.0</td>\n",
       "      <td>7297.0</td>\n",
       "    </tr>\n",
       "    <tr>\n",
       "      <th>2012-10-14</th>\n",
       "      <td>8116.0</td>\n",
       "      <td>8679.0</td>\n",
       "    </tr>\n",
       "    <tr>\n",
       "      <th>2012-10-21</th>\n",
       "      <td>7563.0</td>\n",
       "      <td>7946.0</td>\n",
       "    </tr>\n",
       "    <tr>\n",
       "      <th>2012-10-28</th>\n",
       "      <td>6536.0</td>\n",
       "      <td>6901.0</td>\n",
       "    </tr>\n",
       "    <tr>\n",
       "      <th>2012-11-04</th>\n",
       "      <td>5786.0</td>\n",
       "      <td>6408.0</td>\n",
       "    </tr>\n",
       "    <tr>\n",
       "      <th>2012-11-11</th>\n",
       "      <td>7275.0</td>\n",
       "      <td>7741.0</td>\n",
       "    </tr>\n",
       "    <tr>\n",
       "      <th>2012-11-18</th>\n",
       "      <td>5799.0</td>\n",
       "      <td>6077.0</td>\n",
       "    </tr>\n",
       "    <tr>\n",
       "      <th>2012-11-25</th>\n",
       "      <td>3316.0</td>\n",
       "      <td>3534.0</td>\n",
       "    </tr>\n",
       "    <tr>\n",
       "      <th>2012-12-02</th>\n",
       "      <td>5659.0</td>\n",
       "      <td>5875.0</td>\n",
       "    </tr>\n",
       "    <tr>\n",
       "      <th>2012-12-09</th>\n",
       "      <td>5488.0</td>\n",
       "      <td>5682.0</td>\n",
       "    </tr>\n",
       "    <tr>\n",
       "      <th>2012-12-16</th>\n",
       "      <td>5107.0</td>\n",
       "      <td>5384.0</td>\n",
       "    </tr>\n",
       "    <tr>\n",
       "      <th>2012-12-23</th>\n",
       "      <td>3705.0</td>\n",
       "      <td>3752.0</td>\n",
       "    </tr>\n",
       "    <tr>\n",
       "      <th>2012-12-30</th>\n",
       "      <td>2492.0</td>\n",
       "      <td>2612.0</td>\n",
       "    </tr>\n",
       "    <tr>\n",
       "      <th>2013-01-06</th>\n",
       "      <td>4124.0</td>\n",
       "      <td>4315.0</td>\n",
       "    </tr>\n",
       "    <tr>\n",
       "      <th>2013-01-13</th>\n",
       "      <td>4573.0</td>\n",
       "      <td>4861.0</td>\n",
       "    </tr>\n",
       "    <tr>\n",
       "      <th>2013-01-20</th>\n",
       "      <td>5258.0</td>\n",
       "      <td>5550.0</td>\n",
       "    </tr>\n",
       "    <tr>\n",
       "      <th>2013-01-27</th>\n",
       "      <td>4915.0</td>\n",
       "      <td>5096.0</td>\n",
       "    </tr>\n",
       "    <tr>\n",
       "      <th>2013-02-03</th>\n",
       "      <td>5439.0</td>\n",
       "      <td>5848.0</td>\n",
       "    </tr>\n",
       "    <tr>\n",
       "      <th>2013-02-10</th>\n",
       "      <td>6253.0</td>\n",
       "      <td>6816.0</td>\n",
       "    </tr>\n",
       "    <tr>\n",
       "      <th>2013-02-17</th>\n",
       "      <td>5952.0</td>\n",
       "      <td>6438.0</td>\n",
       "    </tr>\n",
       "  </tbody>\n",
       "</table>\n",
       "</div>"
      ],
      "text/plain": [
       "            Fremont Bridge East Sidewalk  Fremont Bridge West Sidewalk\n",
       "Date                                                                  \n",
       "2012-10-07                        6995.0                        7297.0\n",
       "2012-10-14                        8116.0                        8679.0\n",
       "2012-10-21                        7563.0                        7946.0\n",
       "2012-10-28                        6536.0                        6901.0\n",
       "2012-11-04                        5786.0                        6408.0\n",
       "2012-11-11                        7275.0                        7741.0\n",
       "2012-11-18                        5799.0                        6077.0\n",
       "2012-11-25                        3316.0                        3534.0\n",
       "2012-12-02                        5659.0                        5875.0\n",
       "2012-12-09                        5488.0                        5682.0\n",
       "2012-12-16                        5107.0                        5384.0\n",
       "2012-12-23                        3705.0                        3752.0\n",
       "2012-12-30                        2492.0                        2612.0\n",
       "2013-01-06                        4124.0                        4315.0\n",
       "2013-01-13                        4573.0                        4861.0\n",
       "2013-01-20                        5258.0                        5550.0\n",
       "2013-01-27                        4915.0                        5096.0\n",
       "2013-02-03                        5439.0                        5848.0\n",
       "2013-02-10                        6253.0                        6816.0\n",
       "2013-02-17                        5952.0                        6438.0"
      ]
     },
     "execution_count": 62,
     "metadata": {},
     "output_type": "execute_result"
    }
   ],
   "source": [
    "weekly.head(20)"
   ]
  },
  {
   "cell_type": "code",
   "execution_count": 66,
   "metadata": {},
   "outputs": [
    {
     "data": {
      "text/plain": [
       "Text(0, 0.5, 'Weekly Bicycle Count')"
      ]
     },
     "execution_count": 66,
     "metadata": {},
     "output_type": "execute_result"
    },
    {
     "data": {
      "image/png": "[encoded data removed]",
      "text/plain": [
       "<Figure size 432x288 with 1 Axes>"
      ]
     },
     "metadata": {
      "needs_background": "light"
     },
     "output_type": "display_data"
    }
   ],
   "source": [
    "\n",
    "yearly.plot(style=[':', '--', '-']) #line styles for each feature\n",
    "plt.ylabel('Weekly Bicycle Count')\n"
   ]
  },
  {
   "cell_type": "code",
   "execution_count": 65,
   "metadata": {},
   "outputs": [
    {
     "data": {
      "text/plain": [
       "3059588.0"
      ]
     },
     "execution_count": 65,
     "metadata": {},
     "output_type": "execute_result"
    }
   ],
   "source": [
    "yearly['West'].sum()"
   ]
  },
  {
   "cell_type": "code",
   "execution_count": 100,
   "metadata": {},
   "outputs": [
    {
     "data": {
      "text/plain": [
       "Text(0, 0.5, 'Weekly Bicycle Count')"
      ]
     },
     "execution_count": 100,
     "metadata": {},
     "output_type": "execute_result"
    },
    {
     "data": {
      "image/png": "[encoded data removed]",
      "text/plain": [
       "<Figure size 432x288 with 1 Axes>"
      ]
     },
     "metadata": {
      "needs_background": "light"
     },
     "output_type": "display_data"
    }
   ],
   "source": [
    "#hourly intervals are too narrow to make sense of data\n",
    "#aggregate as weekly data instead\n",
    "weekly = data.resample('Y').sum()\n",
    "weekly.plot(style=[':', '--', '-']) #line styles for each feature\n",
    "plt.ylabel('Weekly Bicycle Count')"
   ]
  },
  {
   "cell_type": "markdown",
   "metadata": {},
   "source": [
    "People tend to bike more in the summers than in the winters"
   ]
  },
  {
   "cell_type": "code",
   "execution_count": 98,
   "metadata": {},
   "outputs": [
    {
     "data": {
      "text/plain": [
       "<matplotlib.axes._subplots.AxesSubplot at 0x1d17e5887b8>"
      ]
     },
     "execution_count": 98,
     "metadata": {},
     "output_type": "execute_result"
    },
    {
     "data": {
      "image/png": "[encoded data removed]",
      "text/plain": [
       "<Figure size 432x288 with 1 Axes>"
      ]
     },
     "metadata": {
      "needs_background": "light"
     },
     "output_type": "display_data"
    }
   ],
   "source": [
    "#see what an average day looks like\n",
    "by_time = data.groupby(data.index.time).mean()\n",
    "hourly_ticks = 3*60*50*np.arange(6) #6 intervals of 4 hours\n",
    "by_time.plot(xticks=hourly_ticks, style=[':','--','-'])"
   ]
  },
  {
   "cell_type": "code",
   "execution_count": 58,
   "metadata": {},
   "outputs": [
    {
     "data": {
      "text/plain": [
       "<matplotlib.axes._subplots.AxesSubplot at 0x1d17c587ac8>"
      ]
     },
     "execution_count": 58,
     "metadata": {},
     "output_type": "execute_result"
    },
    {
     "data": {
      "image/png": "[encoded data removed]",
      "text/plain": [
       "<Figure size 432x288 with 1 Axes>"
      ]
     },
     "metadata": {
      "needs_background": "light"
     },
     "output_type": "display_data"
    }
   ],
   "source": [
    "by_time = data.groupby(data.index.time).mean()\n",
    "hourly_ticks = 4*60*60*np.arange(6) #6 intervals of 4 hours\n",
    "by_time.plot(xticks=hourly_ticks, style=[':','--','-'])"
   ]
  },
  {
   "cell_type": "markdown",
   "metadata": {},
   "source": [
    "Bike usage peaks around 8am and 5pm"
   ]
  },
  {
   "cell_type": "code",
   "execution_count": 68,
   "metadata": {},
   "outputs": [
    {
     "data": {
      "text/plain": [
       "<matplotlib.axes._subplots.AxesSubplot at 0x1d17ca55cc0>"
      ]
     },
     "execution_count": 68,
     "metadata": {},
     "output_type": "execute_result"
    },
    {
     "data": {
      "image/png": "[encoded data removed]",
      "text/plain": [
       "<Figure size 432x288 with 1 Axes>"
      ]
     },
     "metadata": {
      "needs_background": "light"
     },
     "output_type": "display_data"
    }
   ],
   "source": [
    "#What does bike usage look like by day of the week?\n",
    "by_weekday = data.groupby(data.index.dayofweek).mean()\n",
    "by_weekday.index = ['Mon', 'Tue', 'Wed', 'Thur', 'Fri', 'Sat', 'Sun']\n",
    "by_weekday.plot(style=[':','--','-'])"
   ]
  },
  {
   "cell_type": "code",
   "execution_count": 73,
   "metadata": {},
   "outputs": [
    {
     "data": {
      "text/html": [
       "<div>\n",
       "<style scoped>\n",
       "    .dataframe tbody tr th:only-of-type {\n",
       "        vertical-align: middle;\n",
       "    }\n",
       "\n",
       "    .dataframe tbody tr th {\n",
       "        vertical-align: top;\n",
       "    }\n",
       "\n",
       "    .dataframe thead th {\n",
       "        text-align: right;\n",
       "    }\n",
       "</style>\n",
       "<table border=\"1\" class=\"dataframe\">\n",
       "  <thead>\n",
       "    <tr style=\"text-align: right;\">\n",
       "      <th></th>\n",
       "      <th>West</th>\n",
       "      <th>East</th>\n",
       "      <th>Total</th>\n",
       "    </tr>\n",
       "  </thead>\n",
       "  <tbody>\n",
       "    <tr>\n",
       "      <th>Mon</th>\n",
       "      <td>68.231730</td>\n",
       "      <td>62.413118</td>\n",
       "      <td>130.644848</td>\n",
       "    </tr>\n",
       "    <tr>\n",
       "      <th>Tue</th>\n",
       "      <td>73.011307</td>\n",
       "      <td>67.605180</td>\n",
       "      <td>140.616487</td>\n",
       "    </tr>\n",
       "    <tr>\n",
       "      <th>Wed</th>\n",
       "      <td>72.623821</td>\n",
       "      <td>66.558176</td>\n",
       "      <td>139.181997</td>\n",
       "    </tr>\n",
       "    <tr>\n",
       "      <th>Thur</th>\n",
       "      <td>68.074395</td>\n",
       "      <td>63.418638</td>\n",
       "      <td>131.493034</td>\n",
       "    </tr>\n",
       "    <tr>\n",
       "      <th>Fri</th>\n",
       "      <td>61.687221</td>\n",
       "      <td>57.070076</td>\n",
       "      <td>118.757297</td>\n",
       "    </tr>\n",
       "  </tbody>\n",
       "</table>\n",
       "</div>"
      ],
      "text/plain": [
       "           West       East       Total\n",
       "Mon   68.231730  62.413118  130.644848\n",
       "Tue   73.011307  67.605180  140.616487\n",
       "Wed   72.623821  66.558176  139.181997\n",
       "Thur  68.074395  63.418638  131.493034\n",
       "Fri   61.687221  57.070076  118.757297"
      ]
     },
     "execution_count": 73,
     "metadata": {},
     "output_type": "execute_result"
    }
   ],
   "source": [
    "weekdays = by_weekday[0:5]\n",
    "weekdays"
   ]
  },
  {
   "cell_type": "markdown",
   "metadata": {},
   "source": [
    "Bike usage is highest during weekdays and drops off on weekends"
   ]
  },
  {
   "cell_type": "code",
   "execution_count": 76,
   "metadata": {},
   "outputs": [
    {
     "data": {
      "text/html": [
       "<div>\n",
       "<style scoped>\n",
       "    .dataframe tbody tr th:only-of-type {\n",
       "        vertical-align: middle;\n",
       "    }\n",
       "\n",
       "    .dataframe tbody tr th {\n",
       "        vertical-align: top;\n",
       "    }\n",
       "\n",
       "    .dataframe thead th {\n",
       "        text-align: right;\n",
       "    }\n",
       "</style>\n",
       "<table border=\"1\" class=\"dataframe\">\n",
       "  <thead>\n",
       "    <tr style=\"text-align: right;\">\n",
       "      <th></th>\n",
       "      <th>West</th>\n",
       "      <th>East</th>\n",
       "      <th>Total</th>\n",
       "    </tr>\n",
       "  </thead>\n",
       "  <tbody>\n",
       "    <tr>\n",
       "      <th>Sat</th>\n",
       "      <td>30.073475</td>\n",
       "      <td>32.284043</td>\n",
       "      <td>62.357518</td>\n",
       "    </tr>\n",
       "    <tr>\n",
       "      <th>Sun</th>\n",
       "      <td>28.276996</td>\n",
       "      <td>31.181113</td>\n",
       "      <td>59.458109</td>\n",
       "    </tr>\n",
       "  </tbody>\n",
       "</table>\n",
       "</div>"
      ],
      "text/plain": [
       "          West       East      Total\n",
       "Sat  30.073475  32.284043  62.357518\n",
       "Sun  28.276996  31.181113  59.458109"
      ]
     },
     "execution_count": 76,
     "metadata": {},
     "output_type": "execute_result"
    }
   ],
   "source": [
    "weekends = by_weekday[5:7]\n",
    "weekends"
   ]
  },
  {
   "cell_type": "code",
   "execution_count": 83,
   "metadata": {},
   "outputs": [
    {
     "data": {
      "text/plain": [
       "<matplotlib.axes._subplots.AxesSubplot at 0x1d178692eb8>"
      ]
     },
     "execution_count": 83,
     "metadata": {},
     "output_type": "execute_result"
    },
    {
     "data": {
      "image/png": "[encoded data removed]",
      "text/plain": [
       "<Figure size 1008x360 with 2 Axes>"
      ]
     },
     "metadata": {
      "needs_background": "light"
     },
     "output_type": "display_data"
    }
   ],
   "source": [
    "fig, ax = plt.subplots(1, 2, figsize =(14, 5))\n",
    "weekdays.plot(ax=ax[0], title = 'weekdays', style=[':','--','-'])\n",
    "weekends.plot(ax=ax[1], title = 'weeekends', style=[':', '--', '-'])"
   ]
  },
  {
   "cell_type": "code",
   "execution_count": 67,
   "metadata": {},
   "outputs": [],
   "source": [
    "#set conditions to show hourly trend on weekdays vs weekends\n",
    "weekend = np.where(data.index.weekday < 5, 'Weekday', 'Weekend')\n",
    "by_time = data.groupby([weekend, data.index.time]).mean()"
   ]
  },
  {
   "cell_type": "code",
   "execution_count": 39,
   "metadata": {},
   "outputs": [
    {
     "data": {
      "image/png": "[encoded data removed]",
      "text/plain": [
       "<Figure size 1008x360 with 2 Axes>"
      ]
     },
     "metadata": {
      "needs_background": "light"
     },
     "output_type": "display_data"
    }
   ],
   "source": [
    "fig, ax = plt.subplots(1, 2, figsize=(14, 5))\n",
    "by_time.loc['Weekday'].plot(ax=ax[0], title='Weekdays',\n",
    "                           xticks=hourly_ticks, style=[':', '--', '-'])\n",
    "by_time.loc['Weekend'].plot(ax=ax[1], title='Weekends',\n",
    "                           xticks=hourly_ticks, style=[':', '--', '-']);"
   ]
  }
 ],
 "metadata": {
  "kernelspec": {
   "display_name": "Python 3",
   "language": "python",
   "name": "python3"
  },
  "language_info": {
   "codemirror_mode": {
    "name": "ipython",
    "version": 3
   },
   "file_extension": ".py",
   "mimetype": "text/x-python",
   "name": "python",
   "nbconvert_exporter": "python",
   "pygments_lexer": "ipython3",
   "version": "3.7.3"
  }
 },
 "nbformat": 4,
 "nbformat_minor": 2
}
